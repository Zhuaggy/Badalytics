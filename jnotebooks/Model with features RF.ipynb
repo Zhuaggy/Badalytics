{
 "cells": [
  {
   "cell_type": "code",
   "execution_count": 1,
   "metadata": {},
   "outputs": [],
   "source": [
    "import pandas as pd\n",
    "import numpy as np\n",
    "from tqdm import tqdm\n",
    "from sklearn.ensemble import RandomForestClassifier"
   ]
  },
  {
   "cell_type": "code",
   "execution_count": 4,
   "metadata": {},
   "outputs": [],
   "source": [
    "df_dist = pd.read_csv('MS_dist.csv')\n",
    "df_rank = pd.read_csv('TS_rolling_rankings.csv')\n",
    "del df_dist['Unnamed: 0']\n",
    "del df_rank['Unnamed: 0']"
   ]
  },
  {
   "cell_type": "code",
   "execution_count": 6,
   "metadata": {},
   "outputs": [],
   "source": [
    "df_dist = df_dist[['WINNER','LOSER','Winner Distance','Loser Distance','match_week','Winner Home','Loser Home']]"
   ]
  },
  {
   "cell_type": "code",
   "execution_count": 10,
   "metadata": {},
   "outputs": [],
   "source": [
    "df_rank.columns = ['WINNER', 'WINNER RATING', 'match_week']\n",
    "df = pd.merge(df_dist,df_rank,on=['WINNER', 'match_week'], how = 'inner')\n",
    "df_rank.columns = ['LOSER', 'LOSER RATING', 'match_week']\n",
    "df = pd.merge(df,df_rank,on=['LOSER', 'match_week'], how = 'inner')"
   ]
  },
  {
   "cell_type": "code",
   "execution_count": 17,
   "metadata": {},
   "outputs": [
    {
     "name": "stderr",
     "output_type": "stream",
     "text": [
      "c:\\users\\andrew.zhuang\\appdata\\local\\programs\\python\\python36\\lib\\site-packages\\pandas\\core\\frame.py:6211: FutureWarning: Sorting because non-concatenation axis is not aligned. A future version\n",
      "of pandas will change to not sort by default.\n",
      "\n",
      "To accept the future behavior, pass 'sort=False'.\n",
      "\n",
      "To retain the current behavior and silence the warning, pass 'sort=True'.\n",
      "\n",
      "  sort=sort)\n"
     ]
    }
   ],
   "source": [
    "df.columns = ['Main Player','Opponent','MP Distance', 'Opponent Distance', 'match_week', 'MP home', 'Opponent Home', 'MP Rating', 'Opponent Rating']\n",
    "df2 = df.copy(deep = 'True')\n",
    "df2.columns =  ['Opponent','Main Player','Opponent Distance', 'MP Distance', 'match_week', 'Opponent Home', 'MP home', 'Opponent Rating', 'MP Rating']\n",
    "df['win'] = [1]*len(df)\n",
    "df2['win'] = [0]*len(df2)\n",
    "\n",
    "df_main = df.append(df2).sort_values(by = 'match_week')"
   ]
  },
  {
   "cell_type": "code",
   "execution_count": 20,
   "metadata": {
    "scrolled": true
   },
   "outputs": [],
   "source": [
    "df_train = df_main[:-400]\n",
    "df_test = df_main[400:]"
   ]
  },
  {
   "cell_type": "code",
   "execution_count": 33,
   "metadata": {},
   "outputs": [
    {
     "data": {
      "text/plain": [
       "RandomForestClassifier(bootstrap=True, class_weight=None, criterion='gini',\n",
       "            max_depth=2, max_features='auto', max_leaf_nodes=None,\n",
       "            min_impurity_decrease=0.0, min_impurity_split=None,\n",
       "            min_samples_leaf=1, min_samples_split=2,\n",
       "            min_weight_fraction_leaf=0.0, n_estimators=10, n_jobs=1,\n",
       "            oob_score=False, random_state=0, verbose=0, warm_start=False)"
      ]
     },
     "execution_count": 33,
     "metadata": {},
     "output_type": "execute_result"
    }
   ],
   "source": [
    "features = ['MP Distance', 'Opponent Distance', 'match_week', 'MP home', 'Opponent Home', 'MP Rating', 'Opponent Rating']\n",
    "clf = RandomForestClassifier(max_depth=2, random_state=0)\n",
    "clf.fit(df_train.dropna()[features], df_train.dropna()['win'])"
   ]
  },
  {
   "cell_type": "code",
   "execution_count": 34,
   "metadata": {},
   "outputs": [],
   "source": [
    "pred = clf.predict(df_test.dropna()[features])\n",
    "df_results = pd.DataFrame()\n",
    "df_results['prediction'] = pred\n",
    "df_results['actual'] = df_test.dropna()['win'].values\n",
    "df_results['error'] = abs(df_results['prediction'] - df_results['actual'])"
   ]
  },
  {
   "cell_type": "code",
   "execution_count": null,
   "metadata": {},
   "outputs": [],
   "source": []
  },
  {
   "cell_type": "code",
   "execution_count": 35,
   "metadata": {},
   "outputs": [
    {
     "data": {
      "text/plain": [
       "0.29336188436830835"
      ]
     },
     "execution_count": 35,
     "metadata": {},
     "output_type": "execute_result"
    }
   ],
   "source": [
    "df_results['error'].mean()"
   ]
  },
  {
   "cell_type": "code",
   "execution_count": 32,
   "metadata": {},
   "outputs": [
    {
     "data": {
      "text/plain": [
       "0.25446109921484655"
      ]
     },
     "execution_count": 32,
     "metadata": {},
     "output_type": "execute_result"
    }
   ],
   "source": [
    "features = ['MP Rating', 'Opponent Rating']\n",
    "clf = RandomForestClassifier(max_depth=2, random_state=0)\n",
    "clf.fit(df_train.dropna()[features], df_train.dropna()['win'])\n",
    "\n",
    "pred = clf.predict(df_test.dropna()[features])\n",
    "df_results = pd.DataFrame()\n",
    "df_results['prediction'] = pred\n",
    "df_results['actual'] = df_test.dropna()['win'].values\n",
    "df_results['error'] = abs(df_results['prediction'] - df_results['actual'])\n",
    "\n",
    "df_results['error'].mean()"
   ]
  },
  {
   "cell_type": "code",
   "execution_count": 37,
   "metadata": {},
   "outputs": [
    {
     "data": {
      "text/html": [
       "<div>\n",
       "<style scoped>\n",
       "    .dataframe tbody tr th:only-of-type {\n",
       "        vertical-align: middle;\n",
       "    }\n",
       "\n",
       "    .dataframe tbody tr th {\n",
       "        vertical-align: top;\n",
       "    }\n",
       "\n",
       "    .dataframe thead th {\n",
       "        text-align: right;\n",
       "    }\n",
       "</style>\n",
       "<table border=\"1\" class=\"dataframe\">\n",
       "  <thead>\n",
       "    <tr style=\"text-align: right;\">\n",
       "      <th></th>\n",
       "      <th>MP Distance</th>\n",
       "      <th>MP Rating</th>\n",
       "      <th>MP home</th>\n",
       "      <th>Main Player</th>\n",
       "      <th>Opponent</th>\n",
       "      <th>Opponent Distance</th>\n",
       "      <th>Opponent Home</th>\n",
       "      <th>Opponent Rating</th>\n",
       "      <th>match_week</th>\n",
       "      <th>win</th>\n",
       "    </tr>\n",
       "  </thead>\n",
       "  <tbody>\n",
       "    <tr>\n",
       "      <th>14</th>\n",
       "      <td>1737.735171</td>\n",
       "      <td>26.149177</td>\n",
       "      <td>0</td>\n",
       "      <td>Luis Ramon Garrido</td>\n",
       "      <td>Dewantoro Pandu</td>\n",
       "      <td>14542.771585</td>\n",
       "      <td>0</td>\n",
       "      <td>22.125312</td>\n",
       "      <td>20171219</td>\n",
       "      <td>0</td>\n",
       "    </tr>\n",
       "    <tr>\n",
       "      <th>17</th>\n",
       "      <td>1737.735171</td>\n",
       "      <td>26.149177</td>\n",
       "      <td>0</td>\n",
       "      <td>Luis Ramon Garrido</td>\n",
       "      <td>Sahil Sipani</td>\n",
       "      <td>18067.790158</td>\n",
       "      <td>0</td>\n",
       "      <td>11.843447</td>\n",
       "      <td>20171219</td>\n",
       "      <td>1</td>\n",
       "    </tr>\n",
       "    <tr>\n",
       "      <th>1465</th>\n",
       "      <td>2697.569158</td>\n",
       "      <td>26.868868</td>\n",
       "      <td>0</td>\n",
       "      <td>Luis Ramon Garrido</td>\n",
       "      <td>Pablo Sanchez</td>\n",
       "      <td>1552.128864</td>\n",
       "      <td>0</td>\n",
       "      <td>0.849920</td>\n",
       "      <td>20180517</td>\n",
       "      <td>1</td>\n",
       "    </tr>\n",
       "    <tr>\n",
       "      <th>1466</th>\n",
       "      <td>2697.569158</td>\n",
       "      <td>26.868868</td>\n",
       "      <td>0</td>\n",
       "      <td>Luis Ramon Garrido</td>\n",
       "      <td>Arturo Hernandez /</td>\n",
       "      <td>2697.569158</td>\n",
       "      <td>0</td>\n",
       "      <td>14.583958</td>\n",
       "      <td>20180517</td>\n",
       "      <td>1</td>\n",
       "    </tr>\n",
       "    <tr>\n",
       "      <th>1467</th>\n",
       "      <td>2697.569158</td>\n",
       "      <td>26.868868</td>\n",
       "      <td>0</td>\n",
       "      <td>Luis Ramon Garrido</td>\n",
       "      <td>Dino Delmastro</td>\n",
       "      <td>1552.128864</td>\n",
       "      <td>0</td>\n",
       "      <td>8.704490</td>\n",
       "      <td>20180517</td>\n",
       "      <td>1</td>\n",
       "    </tr>\n",
       "    <tr>\n",
       "      <th>1468</th>\n",
       "      <td>2697.569158</td>\n",
       "      <td>26.868868</td>\n",
       "      <td>0</td>\n",
       "      <td>Luis Ramon Garrido</td>\n",
       "      <td>Humblers Heymard /</td>\n",
       "      <td>1467.557903</td>\n",
       "      <td>0</td>\n",
       "      <td>11.587050</td>\n",
       "      <td>20180517</td>\n",
       "      <td>1</td>\n",
       "    </tr>\n",
       "    <tr>\n",
       "      <th>1469</th>\n",
       "      <td>2697.569158</td>\n",
       "      <td>26.868868</td>\n",
       "      <td>0</td>\n",
       "      <td>Luis Ramon Garrido</td>\n",
       "      <td>Jose Guevara /</td>\n",
       "      <td>126.036960</td>\n",
       "      <td>1</td>\n",
       "      <td>15.669320</td>\n",
       "      <td>20180517</td>\n",
       "      <td>1</td>\n",
       "    </tr>\n",
       "  </tbody>\n",
       "</table>\n",
       "</div>"
      ],
      "text/plain": [
       "      MP Distance  MP Rating  MP home         Main Player            Opponent  \\\n",
       "14    1737.735171  26.149177        0  Luis Ramon Garrido     Dewantoro Pandu   \n",
       "17    1737.735171  26.149177        0  Luis Ramon Garrido        Sahil Sipani   \n",
       "1465  2697.569158  26.868868        0  Luis Ramon Garrido       Pablo Sanchez   \n",
       "1466  2697.569158  26.868868        0  Luis Ramon Garrido  Arturo Hernandez /   \n",
       "1467  2697.569158  26.868868        0  Luis Ramon Garrido      Dino Delmastro   \n",
       "1468  2697.569158  26.868868        0  Luis Ramon Garrido  Humblers Heymard /   \n",
       "1469  2697.569158  26.868868        0  Luis Ramon Garrido      Jose Guevara /   \n",
       "\n",
       "      Opponent Distance  Opponent Home  Opponent Rating  match_week  win  \n",
       "14         14542.771585              0        22.125312    20171219    0  \n",
       "17         18067.790158              0        11.843447    20171219    1  \n",
       "1465        1552.128864              0         0.849920    20180517    1  \n",
       "1466        2697.569158              0        14.583958    20180517    1  \n",
       "1467        1552.128864              0         8.704490    20180517    1  \n",
       "1468        1467.557903              0        11.587050    20180517    1  \n",
       "1469         126.036960              1        15.669320    20180517    1  "
      ]
     },
     "execution_count": 37,
     "metadata": {},
     "output_type": "execute_result"
    }
   ],
   "source": [
    "df_main[df_main['Main Player'] == 'Luis Ramon Garrido']"
   ]
  },
  {
   "cell_type": "code",
   "execution_count": null,
   "metadata": {},
   "outputs": [],
   "source": []
  }
 ],
 "metadata": {
  "kernelspec": {
   "display_name": "Python 3",
   "language": "python",
   "name": "python3"
  },
  "language_info": {
   "codemirror_mode": {
    "name": "ipython",
    "version": 3
   },
   "file_extension": ".py",
   "mimetype": "text/x-python",
   "name": "python",
   "nbconvert_exporter": "python",
   "pygments_lexer": "ipython3",
   "version": "3.6.4"
  }
 },
 "nbformat": 4,
 "nbformat_minor": 2
}
