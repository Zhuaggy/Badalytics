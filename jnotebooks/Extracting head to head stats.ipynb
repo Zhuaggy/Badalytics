{
 "cells": [
  {
   "cell_type": "markdown",
   "metadata": {},
   "source": [
    "# Create Badminton Rankings"
   ]
  },
  {
   "cell_type": "markdown",
   "metadata": {},
   "source": [
    "Create a dictionary for each event that records the ELO ranking of each player/pair\n",
    "We'll attempt several different ELO ranking algorithms and attempt to test them on upcoming tournaments to evaluate accuracy"
   ]
  },
  {
   "cell_type": "markdown",
   "metadata": {},
   "source": [
    "### Grab some save data "
   ]
  },
  {
   "cell_type": "code",
   "execution_count": 17,
   "metadata": {},
   "outputs": [],
   "source": [
    "import pandas as pd\n",
    "from tqdm import tqdm\n",
    "import re\n",
    "pd.options.mode.chained_assignment = None "
   ]
  },
  {
   "cell_type": "code",
   "execution_count": 18,
   "metadata": {},
   "outputs": [
    {
     "name": "stderr",
     "output_type": "stream",
     "text": [
      "c:\\users\\andrew.zhuang\\appdata\\local\\programs\\python\\python36\\lib\\site-packages\\pandas\\core\\frame.py:6211: FutureWarning: Sorting because non-concatenation axis is not aligned. A future version\n",
      "of pandas will change to not sort by default.\n",
      "\n",
      "To accept the future behavior, pass 'sort=False'.\n",
      "\n",
      "To retain the current behavior and silence the warning, pass 'sort=True'.\n",
      "\n",
      "  sort=sort)\n"
     ]
    }
   ],
   "source": [
    "# Join the files\n",
    "df = pd.DataFrame()\n",
    "import glob\n",
    "\n",
    "\n",
    "for filename in glob.glob('./2018 Tournaments/*.csv'):\n",
    "    df_temp = pd.read_csv(filename)\n",
    "    del df_temp['Unnamed: 0']\n",
    "    df = df.append(df_temp)\n",
    "\n",
    "for filename in glob.glob('./2017 Tournaments/*.csv'):\n",
    "    df_temp = pd.read_csv(filename)\n",
    "    del df_temp['Unnamed: 0']\n",
    "    df = df.append(df_temp)\n",
    "    \n",
    "df = df.reset_index()\n",
    "del df['index']\n"
   ]
  },
  {
   "cell_type": "markdown",
   "metadata": {},
   "source": [
    "### Create and populate dictionary for each event"
   ]
  },
  {
   "cell_type": "code",
   "execution_count": 19,
   "metadata": {},
   "outputs": [],
   "source": [
    "def filter_name(string):\n",
    "    del_chars = ['[',']','1','2','3','4','5','6','7','8','9','0']\n",
    "    return_string = string\n",
    "    for char in string:\n",
    "        if char in del_chars:\n",
    "            return_string = return_string.replace(char,'')\n",
    "    \n",
    "    return_string = return_string.strip()\n",
    "    return (return_string)"
   ]
  },
  {
   "cell_type": "code",
   "execution_count": 20,
   "metadata": {},
   "outputs": [],
   "source": [
    "#Take in line, player team you want to extract and singles or doubles\n",
    "def split_players(x,player_num,s_or_d):\n",
    "    #Need to filter out using regex\n",
    "    return_val = re.findall(\"'(.*?)'\",x)\n",
    "    \n",
    "    #Singles\n",
    "    if s_or_d == 's':\n",
    "        #only if there are two opponents\n",
    "        if len(return_val) == 2 and player_num <= 1:\n",
    "            for i in range(len(return_val)):\n",
    "                return_val[i] = filter_name(return_val[i])\n",
    "            return (return_val[player_num])\n",
    "        else:\n",
    "            return ('no opponent')\n",
    "    \n",
    "    #Doubles\n",
    "    if s_or_d == 'd':\n",
    "        #only if position exists\n",
    "        if len(return_val) == 4 and player_num <= 1:\n",
    "            for i in range(len(return_val)):\n",
    "                return_val[i] = filter_name(return_val[i])\n",
    "            #sort names alphbetically\n",
    "            ret_list = sorted([return_val[player_num*2],return_val[player_num*2 + 1]])\n",
    "            ret_str = filter_name(ret_list[0]) + ',' + ret_list[1]\n",
    "            return (ret_str)\n",
    "        else:\n",
    "            return ('no opponent')"
   ]
  },
  {
   "cell_type": "code",
   "execution_count": 21,
   "metadata": {},
   "outputs": [],
   "source": [
    "import trueskill\n",
    "\n",
    "#This function will create a dictionary with trueskill rankings for each player\n",
    "def create_TS_event_dict(df):\n",
    "    temp_dict = {}\n",
    "    temp_set = set()\n",
    "    for player in df['WINNER'].values:\n",
    "        temp_set.add(player)\n",
    "    for player in df['LOSER'].values:\n",
    "        temp_set.add(player)\n",
    "    \n",
    "    for player in temp_set:\n",
    "        temp_dict[player] = trueskill.Rating()\n",
    "    return (temp_dict)"
   ]
  },
  {
   "cell_type": "code",
   "execution_count": 22,
   "metadata": {},
   "outputs": [],
   "source": [
    "#This function will update Trueskill rankings in dictionary based on match dataframe\n",
    "def update_TS_ratings(event_df, event_dict):\n",
    "    for i in tqdm(range(len(event_df))):\n",
    "        winner = event_df.iloc[i]['WINNER']\n",
    "        loser = event_df.iloc[i]['LOSER']\n",
    "        event_dict[winner], event_dict[loser] = trueskill.rate_1vs1(event_dict[winner],event_dict[loser])\n",
    "    return (event_dict)"
   ]
  },
  {
   "cell_type": "code",
   "execution_count": 23,
   "metadata": {
    "scrolled": true
   },
   "outputs": [],
   "source": [
    "#This will display the rankings in a dataframe for a specific event dictionary\n",
    "def get_rankings(event_dict):\n",
    "\n",
    "    player_list = []\n",
    "    rating = []\n",
    "\n",
    "    for player in event_dict:\n",
    "        player_list.append(player)\n",
    "        rating.append(trueskill.expose(event_dict[player]))\n",
    "\n",
    "    df_ratings = pd.DataFrame()\n",
    "    df_ratings['PLAYERS'] = player_list\n",
    "    df_ratings['RATING'] = rating\n",
    "    df_ratings = df_ratings.sort_values(by = 'RATING', ascending = False)\n",
    "\n",
    "    return (df_ratings)"
   ]
  },
  {
   "cell_type": "code",
   "execution_count": 11,
   "metadata": {},
   "outputs": [
    {
     "data": {
      "text/html": [
       "<div>\n",
       "<style scoped>\n",
       "    .dataframe tbody tr th:only-of-type {\n",
       "        vertical-align: middle;\n",
       "    }\n",
       "\n",
       "    .dataframe tbody tr th {\n",
       "        vertical-align: top;\n",
       "    }\n",
       "\n",
       "    .dataframe thead th {\n",
       "        text-align: right;\n",
       "    }\n",
       "</style>\n",
       "<table border=\"1\" class=\"dataframe\">\n",
       "  <thead>\n",
       "    <tr style=\"text-align: right;\">\n",
       "      <th></th>\n",
       "    </tr>\n",
       "  </thead>\n",
       "  <tbody>\n",
       "  </tbody>\n",
       "</table>\n",
       "</div>"
      ],
      "text/plain": [
       "Empty DataFrame\n",
       "Columns: []\n",
       "Index: []"
      ]
     },
     "execution_count": 11,
     "metadata": {},
     "output_type": "execute_result"
    }
   ],
   "source": []
  },
  {
   "cell_type": "markdown",
   "metadata": {},
   "source": [
    "### Rankings for all events"
   ]
  },
  {
   "cell_type": "code",
   "execution_count": 24,
   "metadata": {},
   "outputs": [],
   "source": [
    "#Create dictionary and event dataframes sorted by date\n",
    "MS_dict, WS_dict, MD_dict, WD_dict, XD_dict = {},{},{},{},{}\n",
    "\n",
    "#Create the dataframes for each event\n",
    "df_MS = df[df['EVENT'] == 'MS'].sort_values(by = 'match_week')\n",
    "df_WS = df[df['EVENT'] == 'WS'].sort_values(by = 'match_week')\n",
    "df_MD = df[df['EVENT'] == 'MD'].sort_values(by = 'match_week')\n",
    "df_WD = df[df['EVENT'] == 'WD'].sort_values(by = 'match_week')\n",
    "df_XD = df[df['EVENT'] == 'XD'].sort_values(by = 'match_week')\n",
    "\n",
    "#Split players into winners and losers of a match\n",
    "df_MS['WINNER'] = df_MS['PLAYERS'].apply(lambda x: split_players(x,0,'s'))\n",
    "df_MS['LOSER'] = df_MS['PLAYERS'].apply(lambda x: split_players(x,1,'s'))\n",
    "df_WS['WINNER'] = df_WS['PLAYERS'].apply(lambda x: split_players(x,0,'s'))\n",
    "df_WS['LOSER'] = df_WS['PLAYERS'].apply(lambda x: split_players(x,1,'s'))\n",
    "df_MD['WINNER'] = df_MD['PLAYERS'].apply(lambda x: split_players(x,0,'d'))\n",
    "df_MD['LOSER'] = df_MD['PLAYERS'].apply(lambda x: split_players(x,1,'d'))\n",
    "df_WD['WINNER'] = df_WD['PLAYERS'].apply(lambda x: split_players(x,0,'d'))\n",
    "df_WD['LOSER'] = df_WD['PLAYERS'].apply(lambda x: split_players(x,1,'d'))\n",
    "df_XD['WINNER'] = df_XD['PLAYERS'].apply(lambda x: split_players(x,0,'d'))\n",
    "df_XD['LOSER'] = df_XD['PLAYERS'].apply(lambda x: split_players(x,1,'d'))"
   ]
  },
  {
   "cell_type": "code",
   "execution_count": 25,
   "metadata": {},
   "outputs": [
    {
     "name": "stderr",
     "output_type": "stream",
     "text": [
      "100%|█████████████████████████████████████████████████████████████████████████████| 3954/3954 [00:04<00:00, 878.47it/s]\n",
      "100%|█████████████████████████████████████████████████████████████████████████████| 2634/2634 [00:03<00:00, 817.00it/s]\n",
      "100%|█████████████████████████████████████████████████████████████████████████████| 2241/2241 [00:04<00:00, 490.05it/s]\n",
      "100%|█████████████████████████████████████████████████████████████████████████████| 1744/1744 [00:01<00:00, 879.89it/s]\n",
      "100%|█████████████████████████████████████████████████████████████████████████████| 2211/2211 [00:03<00:00, 628.48it/s]\n"
     ]
    }
   ],
   "source": [
    "#Initialize the Ranking dictionaries!\n",
    "MS_dict = create_TS_event_dict(df_MS)\n",
    "WS_dict = create_TS_event_dict(df_WS)\n",
    "MD_dict = create_TS_event_dict(df_MD)\n",
    "WD_dict = create_TS_event_dict(df_WD)\n",
    "XD_dict = create_TS_event_dict(df_XD)\n",
    "\n",
    "#Create the rankings\n",
    "MS_dict = update_TS_ratings(df_MS, MS_dict)\n",
    "WS_dict = update_TS_ratings(df_WS, WS_dict)\n",
    "MD_dict = update_TS_ratings(df_MD, MD_dict)\n",
    "WD_dict = update_TS_ratings(df_WD, WD_dict)\n",
    "XD_dict = update_TS_ratings(df_XD, XD_dict)"
   ]
  },
  {
   "cell_type": "code",
   "execution_count": 26,
   "metadata": {},
   "outputs": [
    {
     "data": {
      "text/html": [
       "<div>\n",
       "<style scoped>\n",
       "    .dataframe tbody tr th:only-of-type {\n",
       "        vertical-align: middle;\n",
       "    }\n",
       "\n",
       "    .dataframe tbody tr th {\n",
       "        vertical-align: top;\n",
       "    }\n",
       "\n",
       "    .dataframe thead th {\n",
       "        text-align: right;\n",
       "    }\n",
       "</style>\n",
       "<table border=\"1\" class=\"dataframe\">\n",
       "  <thead>\n",
       "    <tr style=\"text-align: right;\">\n",
       "      <th></th>\n",
       "      <th>PLAYERS</th>\n",
       "      <th>RATING</th>\n",
       "    </tr>\n",
       "  </thead>\n",
       "  <tbody>\n",
       "    <tr>\n",
       "      <th>227</th>\n",
       "      <td>Kento Momota</td>\n",
       "      <td>34.924070</td>\n",
       "    </tr>\n",
       "    <tr>\n",
       "      <th>738</th>\n",
       "      <td>Shi Yuqi</td>\n",
       "      <td>34.084487</td>\n",
       "    </tr>\n",
       "    <tr>\n",
       "      <th>1194</th>\n",
       "      <td>Chen Long</td>\n",
       "      <td>33.447897</td>\n",
       "    </tr>\n",
       "    <tr>\n",
       "      <th>1011</th>\n",
       "      <td>Kidambi Srikanth</td>\n",
       "      <td>33.295162</td>\n",
       "    </tr>\n",
       "    <tr>\n",
       "      <th>815</th>\n",
       "      <td>Chou Tien Chen</td>\n",
       "      <td>32.807698</td>\n",
       "    </tr>\n",
       "  </tbody>\n",
       "</table>\n",
       "</div>"
      ],
      "text/plain": [
       "               PLAYERS     RATING\n",
       "227       Kento Momota  34.924070\n",
       "738           Shi Yuqi  34.084487\n",
       "1194         Chen Long  33.447897\n",
       "1011  Kidambi Srikanth  33.295162\n",
       "815     Chou Tien Chen  32.807698"
      ]
     },
     "execution_count": 26,
     "metadata": {},
     "output_type": "execute_result"
    }
   ],
   "source": [
    "#Show rankings\n",
    "get_rankings(MS_dict).head()"
   ]
  },
  {
   "cell_type": "markdown",
   "metadata": {},
   "source": [
    "### How well does this predict?"
   ]
  },
  {
   "cell_type": "markdown",
   "metadata": {},
   "source": [
    "Can we predict winner?\n",
    "Can we predict close game?\n",
    "\n",
    "Let's take out the last 200 matches in MS and try to predict them"
   ]
  },
  {
   "cell_type": "code",
   "execution_count": 342,
   "metadata": {
    "collapsed": true
   },
   "outputs": [],
   "source": [
    "def make_TS_predictions(player,event_dict):\n",
    "    return (trueskill.expose(event_dict[player]))\n",
    "\n",
    "def correct_pred(row):\n",
    "    if row['WINNER RATING'] > row['LOSER RATING']:\n",
    "        return (1)\n",
    "    else:\n",
    "        return (0)"
   ]
  },
  {
   "cell_type": "code",
   "execution_count": 353,
   "metadata": {
    "collapsed": true
   },
   "outputs": [],
   "source": [
    "def test_TS_model(event):    \n",
    "    #Create dictionary and event dataframes sorted by date\n",
    "    event_dict = {}\n",
    "\n",
    "    #Create the dataframes for each event\n",
    "    event_df = df[df['EVENT'] == event].sort_values(by = 'match_week')\n",
    "\n",
    "    #Split players into winners and losers of a match\n",
    "    if event == 'MS' or event == 'WS':\n",
    "        event_df['WINNER'] = event_df['PLAYERS'].apply(lambda x: split_players(x,0,'s'))\n",
    "        event_df['LOSER'] = event_df['PLAYERS'].apply(lambda x: split_players(x,1,'s'))\n",
    "    else:\n",
    "        event_df['WINNER'] = event_df['PLAYERS'].apply(lambda x: split_players(x,0,'d'))\n",
    "        event_df['LOSER'] = event_df['PLAYERS'].apply(lambda x: split_players(x,1,'d'))\n",
    "    #Initialize the Ranking dictionary\n",
    "    event_dict = create_event_dict(event_df)\n",
    "\n",
    "    #split into test and training\n",
    "    df_train = event_df[:-100]\n",
    "    df_test = event_df[-100:]\n",
    "    event_dict = update_TS_ratings(df_train, event_dict)\n",
    "\n",
    "    df_test['WINNER RATING'] = df_test['WINNER'].apply(lambda x: make_TS_predictions(x,event_dict))\n",
    "    df_test['LOSER RATING'] = df_test['LOSER'].apply(lambda x: make_TS_predictions(x,event_dict))\n",
    "    df_test['Correct Prediction'] = df_test.apply(correct_pred,axis = 1)\n",
    "    return (df_test)"
   ]
  },
  {
   "cell_type": "code",
   "execution_count": 354,
   "metadata": {},
   "outputs": [
    {
     "name": "stderr",
     "output_type": "stream",
     "text": [
      "100%|██████████| 3806/3806 [00:02<00:00, 1517.64it/s]\n",
      "  6%|▋         | 161/2486 [00:00<00:01, 1605.11it/s]"
     ]
    },
    {
     "name": "stdout",
     "output_type": "stream",
     "text": [
      "MS prediction rate: 0.38\n"
     ]
    },
    {
     "name": "stderr",
     "output_type": "stream",
     "text": [
      "100%|██████████| 2486/2486 [00:01<00:00, 1556.98it/s]\n",
      "  0%|          | 0/2099 [00:00<?, ?it/s]"
     ]
    },
    {
     "name": "stdout",
     "output_type": "stream",
     "text": [
      "WS prediction rate: 0.61\n"
     ]
    },
    {
     "name": "stderr",
     "output_type": "stream",
     "text": [
      "100%|██████████| 2099/2099 [00:01<00:00, 1457.29it/s]\n",
      "  0%|          | 0/1612 [00:00<?, ?it/s]"
     ]
    },
    {
     "name": "stdout",
     "output_type": "stream",
     "text": [
      "MD prediction rate: 0.56\n"
     ]
    },
    {
     "name": "stderr",
     "output_type": "stream",
     "text": [
      "100%|██████████| 1612/1612 [00:01<00:00, 1538.99it/s]\n",
      "  0%|          | 0/2064 [00:00<?, ?it/s]"
     ]
    },
    {
     "name": "stdout",
     "output_type": "stream",
     "text": [
      "WD prediction rate: 0.6\n"
     ]
    },
    {
     "name": "stderr",
     "output_type": "stream",
     "text": [
      "100%|██████████| 2064/2064 [00:01<00:00, 1501.77it/s]"
     ]
    },
    {
     "name": "stdout",
     "output_type": "stream",
     "text": [
      "XD prediction rate: 0.54\n"
     ]
    },
    {
     "name": "stderr",
     "output_type": "stream",
     "text": [
      "\n"
     ]
    }
   ],
   "source": [
    "print ('MS prediction rate: ' + str(test_TS_model('MS')['Correct Prediction'].mean()))\n",
    "print ('WS prediction rate: ' + str(test_TS_model('WS')['Correct Prediction'].mean()))\n",
    "print ('MD prediction rate: ' + str(test_TS_model('MD')['Correct Prediction'].mean()))\n",
    "print ('WD prediction rate: ' + str(test_TS_model('WD')['Correct Prediction'].mean()))\n",
    "print ('XD prediction rate: ' + str(test_TS_model('XD')['Correct Prediction'].mean()))"
   ]
  },
  {
   "cell_type": "markdown",
   "metadata": {},
   "source": [
    "Looks like WS is the only event I'm willing to bet on! And I might not even do that!!"
   ]
  },
  {
   "cell_type": "markdown",
   "metadata": {},
   "source": [
    "# Rolling trueskill rating"
   ]
  },
  {
   "cell_type": "code",
   "execution_count": 34,
   "metadata": {},
   "outputs": [],
   "source": [
    "\n",
    "\n",
    "event_dict = {}\n",
    "event_df = df[df['EVENT'] == 'MS'].sort_values(by='match_week')\n",
    "event_df['WINNER'] = event_df['PLAYERS'].apply(lambda x: split_players(x,0,'s'))\n",
    "event_df['LOSER'] = event_df['PLAYERS'].apply(lambda x: split_players(x,1,'s'))"
   ]
  },
  {
   "cell_type": "code",
   "execution_count": 44,
   "metadata": {},
   "outputs": [],
   "source": [
    "weeks_use = list(event_df[event_df['match_week'] > 20170926]['match_week'].unique())"
   ]
  },
  {
   "cell_type": "code",
   "execution_count": 52,
   "metadata": {},
   "outputs": [
    {
     "name": "stderr",
     "output_type": "stream",
     "text": [
      "100%|████████████████████████████████████████████████████████████████████████████| 2000/2000 [00:01<00:00, 1104.34it/s]\n",
      "100%|█████████████████████████████████████████████████████████████████████████████| 2030/2030 [00:02<00:00, 985.80it/s]\n",
      "100%|█████████████████████████████████████████████████████████████████████████████| 2058/2058 [00:02<00:00, 916.71it/s]\n",
      "100%|████████████████████████████████████████████████████████████████████████████| 2138/2138 [00:01<00:00, 1148.23it/s]\n",
      "100%|████████████████████████████████████████████████████████████████████████████| 2166/2166 [00:01<00:00, 1138.05it/s]\n",
      "100%|█████████████████████████████████████████████████████████████████████████████| 2286/2286 [00:02<00:00, 919.91it/s]\n",
      "100%|████████████████████████████████████████████████████████████████████████████| 2310/2310 [00:02<00:00, 1084.00it/s]\n",
      "100%|█████████████████████████████████████████████████████████████████████████████| 2366/2366 [00:02<00:00, 876.61it/s]\n",
      "100%|█████████████████████████████████████████████████████████████████████████████| 2413/2413 [00:02<00:00, 867.67it/s]\n",
      "100%|█████████████████████████████████████████████████████████████████████████████| 2485/2485 [00:03<00:00, 674.07it/s]\n",
      "100%|█████████████████████████████████████████████████████████████████████████████| 2515/2515 [00:06<00:00, 418.36it/s]\n",
      "100%|█████████████████████████████████████████████████████████████████████████████| 2545/2545 [00:03<00:00, 762.21it/s]\n",
      "100%|█████████████████████████████████████████████████████████████████████████████| 2569/2569 [00:03<00:00, 743.48it/s]\n",
      "100%|█████████████████████████████████████████████████████████████████████████████| 2617/2617 [00:04<00:00, 604.25it/s]\n",
      "100%|█████████████████████████████████████████████████████████████████████████████| 2665/2665 [00:03<00:00, 826.55it/s]\n",
      "100%|█████████████████████████████████████████████████████████████████████████████| 2721/2721 [00:04<00:00, 652.68it/s]\n",
      "100%|█████████████████████████████████████████████████████████████████████████████| 2749/2749 [00:03<00:00, 880.52it/s]\n",
      "100%|█████████████████████████████████████████████████████████████████████████████| 2780/2780 [00:03<00:00, 706.12it/s]\n",
      "100%|█████████████████████████████████████████████████████████████████████████████| 2808/2808 [00:04<00:00, 642.96it/s]\n",
      "100%|█████████████████████████████████████████████████████████████████████████████| 2832/2832 [00:03<00:00, 930.29it/s]\n",
      "100%|█████████████████████████████████████████████████████████████████████████████| 2880/2880 [00:03<00:00, 798.00it/s]\n",
      "100%|█████████████████████████████████████████████████████████████████████████████| 2928/2928 [00:04<00:00, 592.95it/s]\n",
      "100%|████████████████████████████████████████████████████████████████████████████| 2952/2952 [00:02<00:00, 1073.05it/s]\n",
      "100%|████████████████████████████████████████████████████████████████████████████| 2976/2976 [00:02<00:00, 1052.71it/s]\n",
      "100%|████████████████████████████████████████████████████████████████████████████| 3000/3000 [00:02<00:00, 1011.11it/s]\n",
      "100%|█████████████████████████████████████████████████████████████████████████████| 3016/3016 [00:03<00:00, 795.15it/s]\n",
      "100%|████████████████████████████████████████████████████████████████████████████| 3064/3064 [00:02<00:00, 1271.88it/s]\n",
      "100%|█████████████████████████████████████████████████████████████████████████████| 3118/3118 [00:04<00:00, 640.90it/s]\n",
      "100%|████████████████████████████████████████████████████████████████████████████| 3133/3133 [00:02<00:00, 1231.52it/s]\n",
      "100%|█████████████████████████████████████████████████████████████████████████████| 3183/3183 [00:03<00:00, 999.68it/s]\n",
      "100%|████████████████████████████████████████████████████████████████████████████| 3234/3234 [00:02<00:00, 1300.36it/s]\n",
      "100%|████████████████████████████████████████████████████████████████████████████| 3250/3250 [00:02<00:00, 1149.21it/s]\n",
      "100%|████████████████████████████████████████████████████████████████████████████| 3278/3278 [00:02<00:00, 1244.97it/s]\n",
      "100%|████████████████████████████████████████████████████████████████████████████| 3306/3306 [00:02<00:00, 1150.69it/s]\n",
      "100%|████████████████████████████████████████████████████████████████████████████| 3334/3334 [00:02<00:00, 1321.45it/s]\n",
      "100%|████████████████████████████████████████████████████████████████████████████| 3358/3358 [00:02<00:00, 1156.32it/s]\n",
      "100%|████████████████████████████████████████████████████████████████████████████| 3386/3386 [00:03<00:00, 1115.65it/s]\n",
      "100%|█████████████████████████████████████████████████████████████████████████████| 3401/3401 [00:06<00:00, 526.53it/s]\n",
      "100%|█████████████████████████████████████████████████████████████████████████████| 3457/3457 [00:05<00:00, 663.16it/s]\n",
      "100%|█████████████████████████████████████████████████████████████████████████████| 3489/3489 [00:05<00:00, 641.54it/s]\n",
      "100%|████████████████████████████████████████████████████████████████████████████| 3513/3513 [00:03<00:00, 1074.61it/s]\n",
      "100%|████████████████████████████████████████████████████████████████████████████| 3541/3541 [00:03<00:00, 1022.52it/s]\n",
      "100%|█████████████████████████████████████████████████████████████████████████████| 3596/3596 [00:04<00:00, 873.24it/s]\n",
      "100%|████████████████████████████████████████████████████████████████████████████| 3682/3682 [00:03<00:00, 1005.18it/s]\n",
      "100%|████████████████████████████████████████████████████████████████████████████| 3738/3738 [00:03<00:00, 1151.20it/s]\n",
      "100%|████████████████████████████████████████████████████████████████████████████| 3768/3768 [00:03<00:00, 1080.89it/s]\n",
      "100%|████████████████████████████████████████████████████████████████████████████| 3784/3784 [00:03<00:00, 1224.60it/s]\n",
      "100%|█████████████████████████████████████████████████████████████████████████████| 3822/3822 [00:03<00:00, 975.75it/s]\n",
      "100%|█████████████████████████████████████████████████████████████████████████████| 3846/3846 [00:04<00:00, 804.26it/s]\n",
      "100%|████████████████████████████████████████████████████████████████████████████| 3870/3870 [00:03<00:00, 1275.53it/s]\n",
      "100%|████████████████████████████████████████████████████████████████████████████| 3898/3898 [00:03<00:00, 1113.71it/s]\n",
      "100%|█████████████████████████████████████████████████████████████████████████████| 3914/3914 [00:04<00:00, 975.81it/s]\n",
      "100%|█████████████████████████████████████████████████████████████████████████████| 3954/3954 [00:07<00:00, 522.74it/s]\n"
     ]
    }
   ],
   "source": [
    "df_rank = pd.DataFrame()\n",
    "for day in weeks_use:\n",
    "    temp_df = event_df[event_df['match_week'] <= day]\n",
    "    event_dict = create_TS_event_dict(event_df)\n",
    "    event_dict = update_TS_ratings(temp_df, event_dict)\n",
    "    df_rank_temp = get_rankings(event_dict)\n",
    "    df_rank_temp['match_week'] = [day]*len(df_rank_temp)\n",
    "    df_rank = df_rank.append(df_rank_temp)"
   ]
  },
  {
   "cell_type": "code",
   "execution_count": 53,
   "metadata": {},
   "outputs": [],
   "source": [
    "df_rank.to_csv('TS_rolling_rankings.csv')"
   ]
  },
  {
   "cell_type": "code",
   "execution_count": 51,
   "metadata": {},
   "outputs": [
    {
     "data": {
      "text/html": [
       "<div>\n",
       "<style scoped>\n",
       "    .dataframe tbody tr th:only-of-type {\n",
       "        vertical-align: middle;\n",
       "    }\n",
       "\n",
       "    .dataframe tbody tr th {\n",
       "        vertical-align: top;\n",
       "    }\n",
       "\n",
       "    .dataframe thead th {\n",
       "        text-align: right;\n",
       "    }\n",
       "</style>\n",
       "<table border=\"1\" class=\"dataframe\">\n",
       "  <thead>\n",
       "    <tr style=\"text-align: right;\">\n",
       "      <th></th>\n",
       "      <th>PLAYERS</th>\n",
       "      <th>RATING</th>\n",
       "      <th>match_week</th>\n",
       "    </tr>\n",
       "  </thead>\n",
       "  <tbody>\n",
       "    <tr>\n",
       "      <th>227</th>\n",
       "      <td>Kento Momota</td>\n",
       "      <td>30.410972</td>\n",
       "      <td>20171017</td>\n",
       "    </tr>\n",
       "    <tr>\n",
       "      <th>227</th>\n",
       "      <td>Kento Momota</td>\n",
       "      <td>30.541372</td>\n",
       "      <td>20171018</td>\n",
       "    </tr>\n",
       "    <tr>\n",
       "      <th>227</th>\n",
       "      <td>Kento Momota</td>\n",
       "      <td>30.541192</td>\n",
       "      <td>20171023</td>\n",
       "    </tr>\n",
       "    <tr>\n",
       "      <th>227</th>\n",
       "      <td>Kento Momota</td>\n",
       "      <td>30.540743</td>\n",
       "      <td>20171024</td>\n",
       "    </tr>\n",
       "    <tr>\n",
       "      <th>227</th>\n",
       "      <td>Kento Momota</td>\n",
       "      <td>30.233325</td>\n",
       "      <td>20171026</td>\n",
       "    </tr>\n",
       "    <tr>\n",
       "      <th>227</th>\n",
       "      <td>Kento Momota</td>\n",
       "      <td>30.280685</td>\n",
       "      <td>20171031</td>\n",
       "    </tr>\n",
       "    <tr>\n",
       "      <th>227</th>\n",
       "      <td>Kento Momota</td>\n",
       "      <td>29.898037</td>\n",
       "      <td>20171102</td>\n",
       "    </tr>\n",
       "    <tr>\n",
       "      <th>227</th>\n",
       "      <td>Kento Momota</td>\n",
       "      <td>29.762034</td>\n",
       "      <td>20171107</td>\n",
       "    </tr>\n",
       "    <tr>\n",
       "      <th>227</th>\n",
       "      <td>Kento Momota</td>\n",
       "      <td>27.191856</td>\n",
       "      <td>20171109</td>\n",
       "    </tr>\n",
       "    <tr>\n",
       "      <th>227</th>\n",
       "      <td>Kento Momota</td>\n",
       "      <td>27.088656</td>\n",
       "      <td>20171114</td>\n",
       "    </tr>\n",
       "    <tr>\n",
       "      <th>227</th>\n",
       "      <td>Kento Momota</td>\n",
       "      <td>26.305452</td>\n",
       "      <td>20171115</td>\n",
       "    </tr>\n",
       "    <tr>\n",
       "      <th>227</th>\n",
       "      <td>Kento Momota</td>\n",
       "      <td>26.305452</td>\n",
       "      <td>20171116</td>\n",
       "    </tr>\n",
       "    <tr>\n",
       "      <th>227</th>\n",
       "      <td>Kento Momota</td>\n",
       "      <td>26.487946</td>\n",
       "      <td>20171121</td>\n",
       "    </tr>\n",
       "    <tr>\n",
       "      <th>227</th>\n",
       "      <td>Kento Momota</td>\n",
       "      <td>26.731389</td>\n",
       "      <td>20171122</td>\n",
       "    </tr>\n",
       "    <tr>\n",
       "      <th>227</th>\n",
       "      <td>Kento Momota</td>\n",
       "      <td>26.445239</td>\n",
       "      <td>20171123</td>\n",
       "    </tr>\n",
       "    <tr>\n",
       "      <th>227</th>\n",
       "      <td>Kento Momota</td>\n",
       "      <td>26.453930</td>\n",
       "      <td>20171128</td>\n",
       "    </tr>\n",
       "    <tr>\n",
       "      <th>227</th>\n",
       "      <td>Kento Momota</td>\n",
       "      <td>27.662605</td>\n",
       "      <td>20171129</td>\n",
       "    </tr>\n",
       "    <tr>\n",
       "      <th>227</th>\n",
       "      <td>Kento Momota</td>\n",
       "      <td>27.652183</td>\n",
       "      <td>20171130</td>\n",
       "    </tr>\n",
       "    <tr>\n",
       "      <th>227</th>\n",
       "      <td>Kento Momota</td>\n",
       "      <td>27.659242</td>\n",
       "      <td>20171207</td>\n",
       "    </tr>\n",
       "    <tr>\n",
       "      <th>227</th>\n",
       "      <td>Kento Momota</td>\n",
       "      <td>27.649680</td>\n",
       "      <td>20171218</td>\n",
       "    </tr>\n",
       "    <tr>\n",
       "      <th>227</th>\n",
       "      <td>Kento Momota</td>\n",
       "      <td>27.579578</td>\n",
       "      <td>20171219</td>\n",
       "    </tr>\n",
       "    <tr>\n",
       "      <th>227</th>\n",
       "      <td>Kento Momota</td>\n",
       "      <td>27.362424</td>\n",
       "      <td>20180109</td>\n",
       "    </tr>\n",
       "    <tr>\n",
       "      <th>227</th>\n",
       "      <td>Kento Momota</td>\n",
       "      <td>26.885771</td>\n",
       "      <td>20180116</td>\n",
       "    </tr>\n",
       "    <tr>\n",
       "      <th>227</th>\n",
       "      <td>Kento Momota</td>\n",
       "      <td>26.708698</td>\n",
       "      <td>20180123</td>\n",
       "    </tr>\n",
       "    <tr>\n",
       "      <th>227</th>\n",
       "      <td>Kento Momota</td>\n",
       "      <td>27.051673</td>\n",
       "      <td>20180125</td>\n",
       "    </tr>\n",
       "    <tr>\n",
       "      <th>227</th>\n",
       "      <td>Kento Momota</td>\n",
       "      <td>27.069354</td>\n",
       "      <td>20180130</td>\n",
       "    </tr>\n",
       "    <tr>\n",
       "      <th>227</th>\n",
       "      <td>Kento Momota</td>\n",
       "      <td>26.476089</td>\n",
       "      <td>20180201</td>\n",
       "    </tr>\n",
       "    <tr>\n",
       "      <th>227</th>\n",
       "      <td>Kento Momota</td>\n",
       "      <td>26.476089</td>\n",
       "      <td>20180205</td>\n",
       "    </tr>\n",
       "    <tr>\n",
       "      <th>227</th>\n",
       "      <td>Kento Momota</td>\n",
       "      <td>24.888151</td>\n",
       "      <td>20180207</td>\n",
       "    </tr>\n",
       "    <tr>\n",
       "      <th>227</th>\n",
       "      <td>Kento Momota</td>\n",
       "      <td>24.888151</td>\n",
       "      <td>20180208</td>\n",
       "    </tr>\n",
       "    <tr>\n",
       "      <th>227</th>\n",
       "      <td>Kento Momota</td>\n",
       "      <td>24.888151</td>\n",
       "      <td>20180216</td>\n",
       "    </tr>\n",
       "    <tr>\n",
       "      <th>227</th>\n",
       "      <td>Kento Momota</td>\n",
       "      <td>24.888151</td>\n",
       "      <td>20180220</td>\n",
       "    </tr>\n",
       "    <tr>\n",
       "      <th>227</th>\n",
       "      <td>Kento Momota</td>\n",
       "      <td>23.437559</td>\n",
       "      <td>20180222</td>\n",
       "    </tr>\n",
       "    <tr>\n",
       "      <th>227</th>\n",
       "      <td>Kento Momota</td>\n",
       "      <td>23.437559</td>\n",
       "      <td>20180227</td>\n",
       "    </tr>\n",
       "    <tr>\n",
       "      <th>227</th>\n",
       "      <td>Kento Momota</td>\n",
       "      <td>23.437559</td>\n",
       "      <td>20180228</td>\n",
       "    </tr>\n",
       "    <tr>\n",
       "      <th>227</th>\n",
       "      <td>Kento Momota</td>\n",
       "      <td>23.437559</td>\n",
       "      <td>20180306</td>\n",
       "    </tr>\n",
       "    <tr>\n",
       "      <th>227</th>\n",
       "      <td>Kento Momota</td>\n",
       "      <td>19.908579</td>\n",
       "      <td>20180307</td>\n",
       "    </tr>\n",
       "    <tr>\n",
       "      <th>227</th>\n",
       "      <td>Kento Momota</td>\n",
       "      <td>19.908579</td>\n",
       "      <td>20180314</td>\n",
       "    </tr>\n",
       "    <tr>\n",
       "      <th>227</th>\n",
       "      <td>Kento Momota</td>\n",
       "      <td>19.908579</td>\n",
       "      <td>20180320</td>\n",
       "    </tr>\n",
       "    <tr>\n",
       "      <th>227</th>\n",
       "      <td>Kento Momota</td>\n",
       "      <td>5.731261</td>\n",
       "      <td>20180327</td>\n",
       "    </tr>\n",
       "    <tr>\n",
       "      <th>227</th>\n",
       "      <td>Kento Momota</td>\n",
       "      <td>5.731261</td>\n",
       "      <td>20180329</td>\n",
       "    </tr>\n",
       "    <tr>\n",
       "      <th>227</th>\n",
       "      <td>Kento Momota</td>\n",
       "      <td>5.731261</td>\n",
       "      <td>20180404</td>\n",
       "    </tr>\n",
       "    <tr>\n",
       "      <th>227</th>\n",
       "      <td>Kento Momota</td>\n",
       "      <td>6.856568</td>\n",
       "      <td>20180405</td>\n",
       "    </tr>\n",
       "    <tr>\n",
       "      <th>227</th>\n",
       "      <td>Kento Momota</td>\n",
       "      <td>6.856568</td>\n",
       "      <td>20180410</td>\n",
       "    </tr>\n",
       "    <tr>\n",
       "      <th>227</th>\n",
       "      <td>Kento Momota</td>\n",
       "      <td>7.881405</td>\n",
       "      <td>20180417</td>\n",
       "    </tr>\n",
       "    <tr>\n",
       "      <th>227</th>\n",
       "      <td>Kento Momota</td>\n",
       "      <td>7.881405</td>\n",
       "      <td>20180419</td>\n",
       "    </tr>\n",
       "    <tr>\n",
       "      <th>227</th>\n",
       "      <td>Kento Momota</td>\n",
       "      <td>7.881405</td>\n",
       "      <td>20180424</td>\n",
       "    </tr>\n",
       "    <tr>\n",
       "      <th>227</th>\n",
       "      <td>Kento Momota</td>\n",
       "      <td>0.000000</td>\n",
       "      <td>20180426</td>\n",
       "    </tr>\n",
       "    <tr>\n",
       "      <th>227</th>\n",
       "      <td>Kento Momota</td>\n",
       "      <td>0.000000</td>\n",
       "      <td>20180501</td>\n",
       "    </tr>\n",
       "    <tr>\n",
       "      <th>227</th>\n",
       "      <td>Kento Momota</td>\n",
       "      <td>0.000000</td>\n",
       "      <td>20180508</td>\n",
       "    </tr>\n",
       "    <tr>\n",
       "      <th>227</th>\n",
       "      <td>Kento Momota</td>\n",
       "      <td>0.000000</td>\n",
       "      <td>20180517</td>\n",
       "    </tr>\n",
       "    <tr>\n",
       "      <th>227</th>\n",
       "      <td>Kento Momota</td>\n",
       "      <td>0.000000</td>\n",
       "      <td>20180531</td>\n",
       "    </tr>\n",
       "    <tr>\n",
       "      <th>227</th>\n",
       "      <td>Kento Momota</td>\n",
       "      <td>0.000000</td>\n",
       "      <td>20180607</td>\n",
       "    </tr>\n",
       "  </tbody>\n",
       "</table>\n",
       "</div>"
      ],
      "text/plain": [
       "          PLAYERS     RATING  match_week\n",
       "227  Kento Momota  30.410972    20171017\n",
       "227  Kento Momota  30.541372    20171018\n",
       "227  Kento Momota  30.541192    20171023\n",
       "227  Kento Momota  30.540743    20171024\n",
       "227  Kento Momota  30.233325    20171026\n",
       "227  Kento Momota  30.280685    20171031\n",
       "227  Kento Momota  29.898037    20171102\n",
       "227  Kento Momota  29.762034    20171107\n",
       "227  Kento Momota  27.191856    20171109\n",
       "227  Kento Momota  27.088656    20171114\n",
       "227  Kento Momota  26.305452    20171115\n",
       "227  Kento Momota  26.305452    20171116\n",
       "227  Kento Momota  26.487946    20171121\n",
       "227  Kento Momota  26.731389    20171122\n",
       "227  Kento Momota  26.445239    20171123\n",
       "227  Kento Momota  26.453930    20171128\n",
       "227  Kento Momota  27.662605    20171129\n",
       "227  Kento Momota  27.652183    20171130\n",
       "227  Kento Momota  27.659242    20171207\n",
       "227  Kento Momota  27.649680    20171218\n",
       "227  Kento Momota  27.579578    20171219\n",
       "227  Kento Momota  27.362424    20180109\n",
       "227  Kento Momota  26.885771    20180116\n",
       "227  Kento Momota  26.708698    20180123\n",
       "227  Kento Momota  27.051673    20180125\n",
       "227  Kento Momota  27.069354    20180130\n",
       "227  Kento Momota  26.476089    20180201\n",
       "227  Kento Momota  26.476089    20180205\n",
       "227  Kento Momota  24.888151    20180207\n",
       "227  Kento Momota  24.888151    20180208\n",
       "227  Kento Momota  24.888151    20180216\n",
       "227  Kento Momota  24.888151    20180220\n",
       "227  Kento Momota  23.437559    20180222\n",
       "227  Kento Momota  23.437559    20180227\n",
       "227  Kento Momota  23.437559    20180228\n",
       "227  Kento Momota  23.437559    20180306\n",
       "227  Kento Momota  19.908579    20180307\n",
       "227  Kento Momota  19.908579    20180314\n",
       "227  Kento Momota  19.908579    20180320\n",
       "227  Kento Momota   5.731261    20180327\n",
       "227  Kento Momota   5.731261    20180329\n",
       "227  Kento Momota   5.731261    20180404\n",
       "227  Kento Momota   6.856568    20180405\n",
       "227  Kento Momota   6.856568    20180410\n",
       "227  Kento Momota   7.881405    20180417\n",
       "227  Kento Momota   7.881405    20180419\n",
       "227  Kento Momota   7.881405    20180424\n",
       "227  Kento Momota   0.000000    20180426\n",
       "227  Kento Momota   0.000000    20180501\n",
       "227  Kento Momota   0.000000    20180508\n",
       "227  Kento Momota   0.000000    20180517\n",
       "227  Kento Momota   0.000000    20180531\n",
       "227  Kento Momota   0.000000    20180607"
      ]
     },
     "execution_count": 51,
     "metadata": {},
     "output_type": "execute_result"
    }
   ],
   "source": [
    "df_rank[df_rank['PLAYERS'] == 'Kento Momota']"
   ]
  },
  {
   "cell_type": "code",
   "execution_count": null,
   "metadata": {},
   "outputs": [],
   "source": []
  },
  {
   "cell_type": "markdown",
   "metadata": {},
   "source": [
    "# Try Elo ratings"
   ]
  },
  {
   "cell_type": "code",
   "execution_count": 311,
   "metadata": {
    "collapsed": true
   },
   "outputs": [],
   "source": [
    "import elo as elo\n",
    "#Everyone starts at 0"
   ]
  },
  {
   "cell_type": "code",
   "execution_count": 319,
   "metadata": {
    "collapsed": true
   },
   "outputs": [],
   "source": [
    "#This function will create a dictionary with ELO ranking = 0 for each player\n",
    "def create_ELO_event_dict(df):\n",
    "    temp_dict = {}\n",
    "    temp_set = set()\n",
    "    for player in df['WINNER'].values:\n",
    "        temp_set.add(player)\n",
    "    for player in df['LOSER'].values:\n",
    "        temp_set.add(player)\n",
    "    \n",
    "    for player in temp_set:\n",
    "        temp_dict[player] = 0\n",
    "    return (temp_dict)"
   ]
  },
  {
   "cell_type": "code",
   "execution_count": 326,
   "metadata": {
    "collapsed": true
   },
   "outputs": [],
   "source": [
    "#This function will update rankings in dictionary based on match dataframe\n",
    "def update_ELO_ratings(event_df, event_dict):\n",
    "    for i in tqdm(range(len(event_df))):\n",
    "        winner = event_df.iloc[i]['WINNER']\n",
    "        loser = event_df.iloc[i]['LOSER']\n",
    "        event_dict[winner], event_dict[loser] = elo.rate_1vs1(event_dict[winner],event_dict[loser])\n",
    "    return (event_dict)"
   ]
  },
  {
   "cell_type": "code",
   "execution_count": 327,
   "metadata": {},
   "outputs": [
    {
     "name": "stderr",
     "output_type": "stream",
     "text": [
      "100%|██████████| 3906/3906 [00:01<00:00, 3681.06it/s]\n",
      "100%|██████████| 2586/2586 [00:00<00:00, 3600.60it/s]\n",
      "100%|██████████| 2199/2199 [00:00<00:00, 3484.04it/s]\n",
      "100%|██████████| 1712/1712 [00:00<00:00, 3477.64it/s]\n",
      "100%|██████████| 2164/2164 [00:00<00:00, 3606.43it/s]\n"
     ]
    }
   ],
   "source": [
    "#Initialize the Ranking dictionaries!\n",
    "MS_dict = create_ELO_event_dict(df_MS)\n",
    "WS_dict = create_ELO_event_dict(df_WS)\n",
    "MD_dict = create_ELO_event_dict(df_MD)\n",
    "WD_dict = create_ELO_event_dict(df_WD)\n",
    "XD_dict = create_ELO_event_dict(df_XD)\n",
    "\n",
    "#Create the rankings\n",
    "MS_dict = update_ELO_ratings(df_MS, MS_dict)\n",
    "WS_dict = update_ELO_ratings(df_WS, WS_dict)\n",
    "MD_dict = update_ELO_ratings(df_MD, MD_dict)\n",
    "WD_dict = update_ELO_ratings(df_WD, WD_dict)\n",
    "XD_dict = update_ELO_ratings(df_XD, XD_dict)"
   ]
  },
  {
   "cell_type": "code",
   "execution_count": 330,
   "metadata": {
    "collapsed": true
   },
   "outputs": [],
   "source": [
    "def get_elo_rankings(event_dict):\n",
    "    names = []\n",
    "    rating = []\n",
    "    for name in event_dict:\n",
    "        names.append(name)\n",
    "        rating.append(event_dict[name])\n",
    "    temp_df = pd.DataFrame()\n",
    "    temp_df['Name'] = names\n",
    "    temp_df['Rating'] = rating\n",
    "    return (temp_df.sort_values(by = 'Rating', ascending = False))"
   ]
  },
  {
   "cell_type": "code",
   "execution_count": 339,
   "metadata": {
    "scrolled": true
   },
   "outputs": [
    {
     "data": {
      "text/html": [
       "<div>\n",
       "<style>\n",
       "    .dataframe thead tr:only-child th {\n",
       "        text-align: right;\n",
       "    }\n",
       "\n",
       "    .dataframe thead th {\n",
       "        text-align: left;\n",
       "    }\n",
       "\n",
       "    .dataframe tbody tr th {\n",
       "        vertical-align: top;\n",
       "    }\n",
       "</style>\n",
       "<table border=\"1\" class=\"dataframe\">\n",
       "  <thead>\n",
       "    <tr style=\"text-align: right;\">\n",
       "      <th></th>\n",
       "      <th>Name</th>\n",
       "      <th>Rating</th>\n",
       "    </tr>\n",
       "  </thead>\n",
       "  <tbody>\n",
       "    <tr>\n",
       "      <th>269</th>\n",
       "      <td>Lu Ching Yao,Yang Po Han</td>\n",
       "      <td>85.845531</td>\n",
       "    </tr>\n",
       "    <tr>\n",
       "      <th>19</th>\n",
       "      <td>Liu Cheng,Zhang Nan</td>\n",
       "      <td>77.731795</td>\n",
       "    </tr>\n",
       "    <tr>\n",
       "      <th>387</th>\n",
       "      <td>Li Junhui,Liu Yuchen</td>\n",
       "      <td>76.450373</td>\n",
       "    </tr>\n",
       "    <tr>\n",
       "      <th>443</th>\n",
       "      <td>Fajar Alfian,Muhammad Rian Ardianto</td>\n",
       "      <td>73.776528</td>\n",
       "    </tr>\n",
       "    <tr>\n",
       "      <th>1063</th>\n",
       "      <td>Carsten Mogensen,Mathias Boe</td>\n",
       "      <td>70.115577</td>\n",
       "    </tr>\n",
       "  </tbody>\n",
       "</table>\n",
       "</div>"
      ],
      "text/plain": [
       "                                     Name     Rating\n",
       "269              Lu Ching Yao,Yang Po Han  85.845531\n",
       "19                    Liu Cheng,Zhang Nan  77.731795\n",
       "387                  Li Junhui,Liu Yuchen  76.450373\n",
       "443   Fajar Alfian,Muhammad Rian Ardianto  73.776528\n",
       "1063         Carsten Mogensen,Mathias Boe  70.115577"
      ]
     },
     "execution_count": 339,
     "metadata": {},
     "output_type": "execute_result"
    }
   ],
   "source": [
    "get_elo_rankings(MD_dict).head()"
   ]
  },
  {
   "cell_type": "code",
   "execution_count": 343,
   "metadata": {
    "collapsed": true
   },
   "outputs": [],
   "source": [
    "def make_ELO_predictions(player,event_dict):\n",
    "    return (event_dict[player])"
   ]
  },
  {
   "cell_type": "code",
   "execution_count": 344,
   "metadata": {
    "collapsed": true
   },
   "outputs": [],
   "source": [
    "def test_ELO_model(event):    \n",
    "    #Create dictionary and event dataframes sorted by date\n",
    "    event_dict = {}\n",
    "\n",
    "    #Create the dataframes for each event\n",
    "    event_df = df[df['EVENT'] == event].sort_values(by = 'match_week')\n",
    "\n",
    "    #Split players into winners and losers of a match\n",
    "    if event == 'MS' or event == 'WS':\n",
    "        event_df['WINNER'] = event_df['PLAYERS'].apply(lambda x: split_players(x,0,'s'))\n",
    "        event_df['LOSER'] = event_df['PLAYERS'].apply(lambda x: split_players(x,1,'s'))\n",
    "    else:\n",
    "        event_df['WINNER'] = event_df['PLAYERS'].apply(lambda x: split_players(x,0,'d'))\n",
    "        event_df['LOSER'] = event_df['PLAYERS'].apply(lambda x: split_players(x,1,'d'))\n",
    "    #Initialize the Ranking dictionary\n",
    "    event_dict = create_ELO_event_dict(event_df)\n",
    "\n",
    "    #split into test and training\n",
    "    df_train = event_df[:-100]\n",
    "    df_test = event_df[-100:]\n",
    "    event_dict = update_ELO_ratings(df_train, event_dict)\n",
    "\n",
    "    df_test['WINNER RATING'] = df_test['WINNER'].apply(lambda x: make_ELO_predictions(x,event_dict))\n",
    "    df_test['LOSER RATING'] = df_test['LOSER'].apply(lambda x: make_ELO_predictions(x,event_dict))\n",
    "    df_test['Correct Prediction'] = df_test.apply(correct_pred,axis = 1)\n",
    "    return (df_test)"
   ]
  },
  {
   "cell_type": "code",
   "execution_count": 352,
   "metadata": {},
   "outputs": [
    {
     "name": "stderr",
     "output_type": "stream",
     "text": [
      "100%|██████████| 3806/3806 [00:00<00:00, 4575.96it/s]\n",
      " 16%|█▋        | 404/2486 [00:00<00:00, 4035.19it/s]"
     ]
    },
    {
     "name": "stdout",
     "output_type": "stream",
     "text": [
      "MS prediction rate: 0.49\n"
     ]
    },
    {
     "name": "stderr",
     "output_type": "stream",
     "text": [
      "100%|██████████| 2486/2486 [00:00<00:00, 4262.26it/s]\n",
      "  0%|          | 0/2099 [00:00<?, ?it/s]"
     ]
    },
    {
     "name": "stdout",
     "output_type": "stream",
     "text": [
      "WS prediction rate: 0.54\n"
     ]
    },
    {
     "name": "stderr",
     "output_type": "stream",
     "text": [
      "100%|██████████| 2099/2099 [00:00<00:00, 4152.17it/s]\n",
      "  0%|          | 0/1612 [00:00<?, ?it/s]"
     ]
    },
    {
     "name": "stdout",
     "output_type": "stream",
     "text": [
      "MD prediction rate: 0.48\n"
     ]
    },
    {
     "name": "stderr",
     "output_type": "stream",
     "text": [
      "100%|██████████| 1612/1612 [00:00<00:00, 4114.87it/s]\n",
      "  0%|          | 0/2064 [00:00<?, ?it/s]"
     ]
    },
    {
     "name": "stdout",
     "output_type": "stream",
     "text": [
      "WD prediction rate: 0.59\n"
     ]
    },
    {
     "name": "stderr",
     "output_type": "stream",
     "text": [
      "100%|██████████| 2064/2064 [00:00<00:00, 4339.86it/s]"
     ]
    },
    {
     "name": "stdout",
     "output_type": "stream",
     "text": [
      "XD prediction rate: 0.53\n"
     ]
    },
    {
     "name": "stderr",
     "output_type": "stream",
     "text": [
      "\n"
     ]
    }
   ],
   "source": [
    "print ('MS prediction rate: ' + str(test_ELO_model('MS')['Correct Prediction'].mean()))\n",
    "print ('WS prediction rate: ' + str(test_ELO_model('WS')['Correct Prediction'].mean()))\n",
    "print ('MD prediction rate: ' + str(test_ELO_model('MD')['Correct Prediction'].mean()))\n",
    "print ('WD prediction rate: ' + str(test_ELO_model('WD')['Correct Prediction'].mean()))\n",
    "print ('XD prediction rate: ' + str(test_ELO_model('XD')['Correct Prediction'].mean()))"
   ]
  },
  {
   "cell_type": "code",
   "execution_count": null,
   "metadata": {
    "collapsed": true
   },
   "outputs": [],
   "source": []
  },
  {
   "cell_type": "code",
   "execution_count": null,
   "metadata": {
    "collapsed": true
   },
   "outputs": [],
   "source": []
  },
  {
   "cell_type": "code",
   "execution_count": null,
   "metadata": {
    "collapsed": true
   },
   "outputs": [],
   "source": []
  },
  {
   "cell_type": "code",
   "execution_count": null,
   "metadata": {
    "collapsed": true
   },
   "outputs": [],
   "source": []
  },
  {
   "cell_type": "code",
   "execution_count": null,
   "metadata": {
    "collapsed": true
   },
   "outputs": [],
   "source": []
  }
 ],
 "metadata": {
  "kernelspec": {
   "display_name": "Python 3",
   "language": "python",
   "name": "python3"
  },
  "language_info": {
   "codemirror_mode": {
    "name": "ipython",
    "version": 3
   },
   "file_extension": ".py",
   "mimetype": "text/x-python",
   "name": "python",
   "nbconvert_exporter": "python",
   "pygments_lexer": "ipython3",
   "version": "3.6.4"
  }
 },
 "nbformat": 4,
 "nbformat_minor": 2
}
