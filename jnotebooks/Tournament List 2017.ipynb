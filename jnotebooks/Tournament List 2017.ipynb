{
 "cells": [
  {
   "cell_type": "code",
   "execution_count": 1,
   "metadata": {
    "collapsed": true
   },
   "outputs": [],
   "source": [
    "import pandas as pd\n",
    "import requests\n",
    "from bs4 import BeautifulSoup\n",
    "import re\n",
    "from tqdm import tqdm"
   ]
  },
  {
   "cell_type": "code",
   "execution_count": 88,
   "metadata": {
    "collapsed": true
   },
   "outputs": [],
   "source": [
    "def gather_data(Tournament_match_links, Tournament_Name, Tournament_Date):\n",
    "    print ('start ' + str(Tournament_Name))\n",
    "    #Lists to append\n",
    "    player_list = []\n",
    "    score_list = []\n",
    "    event_list = []\n",
    "    country_list = []\n",
    "\n",
    "    for url in Tournament_match_links:\n",
    "        #Get page session\n",
    "        r_obj = requests.Session()\n",
    "        fr_soup = r_obj.get(url)\n",
    "        soup = BeautifulSoup(fr_soup.content , \"lxml\")\n",
    "        detail_tab = soup.find_all(\"tbody\")\n",
    "        \n",
    "        #If table exists\n",
    "        if len(detail_tab) > 0:\n",
    "            detail_tab = detail_tab[0].find_all(\"tr\")\n",
    "\n",
    "            #Loop through the rows of table\n",
    "            for row in detail_tab:\n",
    "                if len(row) == 13:\n",
    "                    player_rows = row.find_all('a', href=re.compile('^player'))\n",
    "                    players = []\n",
    "                    for player in player_rows:\n",
    "                        players.append(player.contents[0])\n",
    "                    player_list.append(players)\n",
    "\n",
    "#                     score_rows = row.find_all('span', {'class' : 'score'})[0].find_all('span')\n",
    "#                     scores = []\n",
    "#                     for score in score_rows:\n",
    "#                         scores.append(score.contents[0])\n",
    "#                     score_list.append(scores)\n",
    "                    \n",
    "                    #Check if score is there\n",
    "                    if row.find_all('span', {'class' : 'score'}):\n",
    "                        score_rows = row.find_all('span', {'class' : 'score'})[0].find_all('span')\n",
    "                        scores = []\n",
    "                        for score in score_rows:\n",
    "                            scores.append(score.contents[0])\n",
    "                        score_list.append(scores)\n",
    "                    else:\n",
    "                        score_list.append([])\n",
    "                    \n",
    "                    \n",
    "                    \n",
    "                    country_rows = row.find_all('span', {'class' : 'printonly flag'})\n",
    "                    countries = []\n",
    "                    for country in country_rows:\n",
    "                        countries.append(country.contents[0])\n",
    "                    country_list.append(countries)\n",
    "\n",
    "                    event_list.append(row.find_all('a', href=re.compile('draw'))[0].contents[0])    \n",
    "\n",
    "        #Close session\n",
    "        r_obj.close()\n",
    "\n",
    "    df = pd.DataFrame()\n",
    "    df['PLAYERS'] = player_list\n",
    "    df['COUNTRIES'] = country_list\n",
    "    df['SCORES'] = score_list\n",
    "    df['EVENT'] = event_list\n",
    "    df['match_week'] = [Tournament_Date]*len(df)\n",
    "\n",
    "    df.to_csv('2017 Tournaments/' + str(Tournament_Name) + '_' + str(Tournament_Date) + '.csv')\n",
    "    return ('done')"
   ]
  },
  {
   "cell_type": "code",
   "execution_count": 69,
   "metadata": {
    "collapsed": true
   },
   "outputs": [],
   "source": [
    "def get_day_links(tournament_link):\n",
    "    #Get tournament name, dates and matches links from main page\n",
    "    start_url = 'https://bwf.tournamentsoftware.com'\n",
    "    tournament_link = tournament_link.replace('tournament.aspx', 'matches.aspx')\n",
    "    \n",
    "    r_obj = requests.Session()\n",
    "    fr_soup = r_obj.get(tournament_link)\n",
    "    soup = BeautifulSoup(fr_soup.content , \"lxml\")\n",
    "    \n",
    "    #title\n",
    "    title = soup.find_all(\"h2\", {'class': 'media__title media__title--large media__title--no-truncate'})[0].get('title')\n",
    "    \n",
    "    #date lists\n",
    "    tournament_days = soup.find_all(\"ul\",{'class' : 'tournamentcalendar'})\n",
    "    tournament_day_links = tournament_days[0].find_all('a', href=re.compile('^/sport/'))\n",
    "    link_list = []\n",
    "    for link in tournament_day_links:\n",
    "        link_list.append(start_url + link.get('href'))\n",
    "    \n",
    "    #first day\n",
    "    first_date = link_list[0][-8:]\n",
    "    \n",
    "    r_obj.close()\n",
    "    \n",
    "    return (title,link_list,first_date)"
   ]
  },
  {
   "cell_type": "code",
   "execution_count": 72,
   "metadata": {},
   "outputs": [
    {
     "name": "stdout",
     "output_type": "stream",
     "text": [
      "start Victor Far East Malaysia Masters 2017\n"
     ]
    },
    {
     "data": {
      "text/plain": [
       "'done'"
      ]
     },
     "execution_count": 72,
     "metadata": {},
     "output_type": "execute_result"
    }
   ],
   "source": [
    "#Test!!\n",
    "\n",
    "Tournament_Name, Tournament_match_links, Tournament_Date = get_day_links('https://bwf.tournamentsoftware.com/sport/tournament.aspx?id=54E1F2CE-E50F-4FF4-A4F4-576D92D5380C')\n",
    "gather_data(Tournament_match_links, Tournament_Name, Tournament_Date)"
   ]
  },
  {
   "cell_type": "markdown",
   "metadata": {},
   "source": [
    "## Loop next 3 for when timeouts happen"
   ]
  },
  {
   "cell_type": "code",
   "execution_count": 120,
   "metadata": {},
   "outputs": [
    {
     "name": "stdout",
     "output_type": "stream",
     "text": [
      "start YONEX SUNRISE  Nepal International Series 2017\n"
     ]
    }
   ],
   "source": [
    "Count = 0\n",
    "for t_link in tournament_links_2017:\n",
    "    Tournament_Name, Tournament_match_links, Tournament_Date = get_day_links(t_link)\n",
    "    gather_data(Tournament_match_links, Tournament_Name, Tournament_Date)\n",
    "    Count += 1"
   ]
  },
  {
   "cell_type": "code",
   "execution_count": 112,
   "metadata": {},
   "outputs": [
    {
     "data": {
      "text/plain": [
       "9"
      ]
     },
     "execution_count": 112,
     "metadata": {},
     "output_type": "execute_result"
    }
   ],
   "source": [
    "#Check where timeout\n",
    "Count"
   ]
  },
  {
   "cell_type": "code",
   "execution_count": 118,
   "metadata": {},
   "outputs": [],
   "source": [
    "tournament_links_2017 = tournament_links_2017[Count:]"
   ]
  },
  {
   "cell_type": "markdown",
   "metadata": {},
   "source": [
    "## -------------------------------------------------------------"
   ]
  },
  {
   "cell_type": "code",
   "execution_count": null,
   "metadata": {
    "collapsed": true
   },
   "outputs": [],
   "source": []
  },
  {
   "cell_type": "code",
   "execution_count": null,
   "metadata": {
    "collapsed": true
   },
   "outputs": [],
   "source": []
  },
  {
   "cell_type": "code",
   "execution_count": null,
   "metadata": {
    "collapsed": true
   },
   "outputs": [],
   "source": []
  },
  {
   "cell_type": "code",
   "execution_count": null,
   "metadata": {
    "collapsed": true
   },
   "outputs": [],
   "source": []
  },
  {
   "cell_type": "code",
   "execution_count": 74,
   "metadata": {
    "collapsed": true
   },
   "outputs": [],
   "source": [
    "temp_df = pd.DataFrame()\n",
    "temp_df['Tournament Links 2017'] = tournament_links_2017\n",
    "temp_df.to_csv('tournament_links.csv')"
   ]
  },
  {
   "cell_type": "code",
   "execution_count": 67,
   "metadata": {
    "collapsed": true
   },
   "outputs": [],
   "source": [
    "tournament_links_2017 = ['https://bwf.tournamentsoftware.com/sport/tournament.aspx?id=A38937B0-5589-494B-915B-7A400530BF07',\n",
    "'https://bwf.tournamentsoftware.com/sport/tournament.aspx?id=1042F514-8367-4EC1-8FA1-1864241E6749',\n",
    "'https://bwf.tournamentsoftware.com/sport/tournament.aspx?id=54E1F2CE-E50F-4FF4-A4F4-576D92D5380C',\n",
    "'https://bwf.tournamentsoftware.com/sport/tournament.aspx?id=D0488B64-69CA-4CBE-9415-27C2B4D3CE80',\n",
    "'https://bwf.tournamentsoftware.com/sport/tournament.aspx?id=B340CFCA-BED9-412B-A70A-4C7F847201F6',\n",
    "'https://bwf.tournamentsoftware.com/sport/tournament.aspx?id=E6D9FA4E-6E81-4DCD-978A-90FA5E09D916',\n",
    "'https://bwf.tournamentsoftware.com/sport/tournament.aspx?id=37B0B597-B92D-4154-83D2-9DB40D722845',\n",
    "'https://bwf.tournamentsoftware.com/sport/tournament.aspx?id=723173E3-7143-4CD9-9E2F-4CDBDF988E5C',\n",
    "'https://bwf.tournamentsoftware.com/sport/tournament.aspx?id=738C35E9-F078-42F5-9585-02EA8A82460E',\n",
    "'https://bwf.tournamentsoftware.com/sport/tournament.aspx?id=13875E71-81DA-4A60-885E-DA4BD00EC2F5',\n",
    "'https://bwf.tournamentsoftware.com/sport/tournament.aspx?id=65C76A8D-AF07-4913-A0A4-955704DCBEE1',\n",
    "'https://bwf.tournamentsoftware.com/sport/tournament.aspx?id=620C95A0-5886-44BA-A773-260A5EC078D6',\n",
    "'https://bwf.tournamentsoftware.com/sport/tournament.aspx?id=18EB8702-D0C5-40B2-BB0C-14F3A1ABB8BF',\n",
    "'https://bwf.tournamentsoftware.com/sport/tournament.aspx?id=9DD0E721-E845-4C5C-8775-88BDCEDCA622',\n",
    "'https://bwf.tournamentsoftware.com/sport/tournament.aspx?id=AE70BF60-E196-420E-A097-D40C09827782',\n",
    "'https://bwf.tournamentsoftware.com/sport/tournament.aspx?id=869CEC9B-4C46-4C27-8CBB-DE9A993F2769',\n",
    "'https://bwf.tournamentsoftware.com/sport/tournament.aspx?id=6273AD9A-7BEC-45DA-A677-E5E4165EFCC0',\n",
    "'https://bwf.tournamentsoftware.com/sport/tournament.aspx?id=C9EA4D4B-3F4D-4E84-B2CD-C9BFED659614',\n",
    "'https://bwf.tournamentsoftware.com/sport/tournament.aspx?id=117F3195-B80A-467E-94E4-AB4BF71BFF64',\n",
    "'https://bwf.tournamentsoftware.com/sport/tournament.aspx?id=1775B25C-DB41-423D-9B42-C0608BC80EB3',\n",
    "'https://bwf.tournamentsoftware.com/sport/tournament.aspx?id=752B1A3A-24CD-4548-936E-BFC8E539FD2E',\n",
    "'https://bwf.tournamentsoftware.com/sport/tournament.aspx?id=BB4B9094-EBD8-4769-845C-DBA94B0B790B',\n",
    "'https://bwf.tournamentsoftware.com/sport/tournament.aspx?id=64F5F655-1745-455D-95DD-6EA2EB03DEE6',\n",
    "'https://bwf.tournamentsoftware.com/sport/tournament.aspx?id=78BB11A4-9CC8-4274-B682-B61C5B542589',\n",
    "'https://bwf.tournamentsoftware.com/sport/tournament.aspx?id=820BC412-0F19-4861-81CC-85895DA4F30D',\n",
    "'https://bwf.tournamentsoftware.com/sport/tournament.aspx?id=BE846BA7-8B15-4037-AE3B-1643724114CF',\n",
    "'https://bwf.tournamentsoftware.com/sport/tournament.aspx?id=0F887ADA-B752-4925-B13C-6B680FE9FAEB',\n",
    "'https://bwf.tournamentsoftware.com/sport/tournament.aspx?id=FBFDA1D9-D2D9-40B1-B2F8-BD617515DB14',\n",
    "'https://bwf.tournamentsoftware.com/sport/tournament.aspx?id=5FBEFC7F-6E9D-408A-87F3-5FBA6B248416',\n",
    "'https://bwf.tournamentsoftware.com/sport/tournament.aspx?id=5C97B859-0574-4873-B595-764DD93D1E05',\n",
    "'https://bwf.tournamentsoftware.com/sport/tournament.aspx?id=670A8C74-E7CB-4AC0-817E-1FF2F1A1D7B0',\n",
    "'https://bwf.tournamentsoftware.com/sport/tournament.aspx?id=DD7C7E6E-63D1-4345-B33F-5B78396E4988',\n",
    "'https://bwf.tournamentsoftware.com/sport/tournament.aspx?id=3F48544D-A795-4401-9AFE-23A5532931B9',\n",
    "'https://bwf.tournamentsoftware.com/sport/tournament.aspx?id=F10E202D-7659-4C87-B6C6-97171FBE8FDB',\n",
    "'https://bwf.tournamentsoftware.com/sport/tournament.aspx?id=61CD9A80-F459-488B-A0A1-8224670A530B',\n",
    "'https://bwf.tournamentsoftware.com/sport/tournament.aspx?id=9BA96054-5167-4049-9FDC-8A3B622769A4',\n",
    "'https://bwf.tournamentsoftware.com/sport/tournament.aspx?id=4B9C2E86-2A96-4CE3-808C-35FE1232BAA0',\n",
    "'https://bwf.tournamentsoftware.com/sport/tournament.aspx?id=49D97DA5-5EBB-4732-97CF-4E1C5D5E6820',\n",
    "'https://bwf.tournamentsoftware.com/sport/tournament.aspx?id=A03A06FB-E57B-487D-8866-ADC83F07997F',\n",
    "'https://bwf.tournamentsoftware.com/sport/tournament.aspx?id=9CDEA8C7-5471-4C50-BB6F-CCE6BD565858',\n",
    "'https://bwf.tournamentsoftware.com/sport/tournament.aspx?id=A5EB18F7-0652-4D3A-B5C6-A81ED3D38276',\n",
    "'https://bwf.tournamentsoftware.com/sport/tournament.aspx?id=F0D1C54B-EF2E-4ED7-8E0F-2139EF1FB98E',\n",
    "'https://bwf.tournamentsoftware.com/sport/tournament.aspx?id=17FD2C55-022D-422D-AA43-01F9BA6D0220',\n",
    "'https://bwf.tournamentsoftware.com/sport/tournament.aspx?id=3CBE3546-3D25-4C2E-9583-61EAFCC0175E',\n",
    "'https://bwf.tournamentsoftware.com/sport/tournament.aspx?id=94DB9935-A1C7-4101-B68E-4ACDA5F35AD9',\n",
    "'https://bwf.tournamentsoftware.com/sport/tournament.aspx?id=A03D2D0A-5612-4982-8972-BCC30942ED7B',\n",
    "'https://bwf.tournamentsoftware.com/sport/tournament.aspx?id=01542802-5A64-4015-97A5-FCB358008E7A',\n",
    "'https://bwf.tournamentsoftware.com/sport/tournament.aspx?id=8FC077DF-0C43-4868-B573-8F4E9DACE3EA',\n",
    "'https://bwf.tournamentsoftware.com/sport/tournament.aspx?id=1F33627F-7F05-4599-94E7-CD9A2F2CC8E4',\n",
    "'https://bwf.tournamentsoftware.com/sport/tournament.aspx?id=D37D07DA-AC6F-47C6-86C9-1049C83A8CA6',\n",
    "'https://bwf.tournamentsoftware.com/sport/tournament.aspx?id=75BDC00F-C74C-4EB6-8AB5-EAB4C813F708',\n",
    "'https://bwf.tournamentsoftware.com/sport/tournament.aspx?id=3FAADBC6-9149-4EC1-9B53-113768364656',\n",
    "'https://bwf.tournamentsoftware.com/sport/tournament.aspx?id=3FC42EB5-0CFF-4821-BC96-4C0515E09D30',\n",
    "'https://bwf.tournamentsoftware.com/sport/tournament.aspx?id=AC0DEE13-C407-4345-B046-2B11598FAFC1',\n",
    "'https://bwf.tournamentsoftware.com/sport/tournament.aspx?id=0E98D919-401A-432D-A7E3-FA13661E2B50',\n",
    "'https://bwf.tournamentsoftware.com/sport/tournament.aspx?id=D5933BCD-7E8B-4153-98A9-DD717BC97C24',\n",
    "'https://bwf.tournamentsoftware.com/sport/tournament.aspx?id=CD062C7D-D941-4AF4-AB51-3FFB26F85333',\n",
    "'https://bwf.tournamentsoftware.com/sport/tournament.aspx?id=3C3B0C67-632F-4E1D-885D-D9A434D1B779',\n",
    "'https://bwf.tournamentsoftware.com/sport/tournament.aspx?id=2D5AE019-08F5-4E46-ACE3-C5110CF697EC',\n",
    "'https://bwf.tournamentsoftware.com/sport/tournament.aspx?id=C7E638C4-27A0-42F6-A352-61FA94B71461',\n",
    "'https://bwf.tournamentsoftware.com/sport/tournament.aspx?id=1DFDF2B9-449B-4AE0-A45B-0B9210F4FA5A',\n",
    "'https://bwf.tournamentsoftware.com/sport/tournament.aspx?id=6A9C2811-DAA0-439F-8CE7-3E00EA9655EA',\n",
    "'https://bwf.tournamentsoftware.com/sport/tournament.aspx?id=8DE824AE-67AC-4B8D-A42C-1BABD4CE88B3',\n",
    "'https://bwf.tournamentsoftware.com/sport/tournament.aspx?id=6BE7D845-EA15-4E18-BCA2-C79AE16CBE82',\n",
    "'https://bwf.tournamentsoftware.com/sport/tournament.aspx?id=11F6E145-8AE9-4F1A-B033-809B8A1E5E57',\n",
    "'https://bwf.tournamentsoftware.com/sport/tournament.aspx?id=0DEC5AA8-5493-4F78-94CD-B85EE6D949DD',\n",
    "'https://bwf.tournamentsoftware.com/sport/tournament.aspx?id=EC9E70F8-8B83-4DC5-A47F-2A5424EA4110',\n",
    "'https://bwf.tournamentsoftware.com/sport/tournament.aspx?id=FAB98C22-8379-457F-A3DB-7CB44C95E909',\n",
    "'https://bwf.tournamentsoftware.com/sport/tournament.aspx?id=8D30BB85-24FF-44F0-AE76-65A3CFF9D9FD',\n",
    "'https://bwf.tournamentsoftware.com/sport/tournament.aspx?id=F8280BD3-001D-467E-A3F7-40DF248A495C',\n",
    "'https://bwf.tournamentsoftware.com/sport/tournament.aspx?id=F0A70D9B-DAB0-4B86-AC22-06698FA7AAF7',\n",
    "'https://bwf.tournamentsoftware.com/sport/tournament.aspx?id=E5DEDB4E-DD6D-4AED-8126-A271C569C7B2',\n",
    "'https://bwf.tournamentsoftware.com/sport/tournament.aspx?id=AB88223D-BBC2-45EB-AC19-8CE0DB7DE8BE',\n",
    "'https://bwf.tournamentsoftware.com/sport/tournament.aspx?id=549DC57F-61E4-4052-9F17-B9AC41E8A492',\n",
    "'https://bwf.tournamentsoftware.com/sport/tournament.aspx?id=74ED425F-5AF7-4E21-A769-02E1AD31E416',\n",
    "'https://bwf.tournamentsoftware.com/sport/tournament.aspx?id=97ACE25B-E40C-4000-996E-1AE368E53E61',\n",
    "'https://bwf.tournamentsoftware.com/sport/tournament.aspx?id=F0A57335-DB87-4904-9164-92D095622AEC',\n",
    "'https://bwf.tournamentsoftware.com/sport/tournament.aspx?id=DA241EEF-0ABE-4FC2-8D7B-1CF6B93A101D',\n",
    "'https://bwf.tournamentsoftware.com/sport/tournament.aspx?id=002C8A35-BC9C-4734-82AE-3108812CA72B',\n",
    "'https://bwf.tournamentsoftware.com/sport/tournament.aspx?id=24A8C052-1205-4BD8-8B96-98C080249EE9',\n",
    "'https://bwf.tournamentsoftware.com/sport/tournament.aspx?id=382125D4-2C38-41AF-A11C-E8D1934299D9',\n",
    "'https://bwf.tournamentsoftware.com/sport/tournament.aspx?id=13830F4E-DB00-4A89-8D43-723A6C05B80E',\n",
    "'https://bwf.tournamentsoftware.com/sport/tournament.aspx?id=7B87CDEA-9783-4668-9D7C-81705B485669',\n",
    "'https://bwf.tournamentsoftware.com/sport/tournament.aspx?id=AC98D87F-E22A-4CCA-A877-CEB08D524D65',\n",
    "'https://bwf.tournamentsoftware.com/sport/tournament.aspx?id=BBB786CE-CE27-45F5-BA77-1C3DBF2B1DC7',\n",
    "'https://bwf.tournamentsoftware.com/sport/tournament.aspx?id=DF3A18B4-508C-473A-BB77-ABC795C6D7D5',\n",
    "'https://bwf.tournamentsoftware.com/sport/tournament.aspx?id=7B997052-4F3F-4D4A-83ED-07DF6B7AA937',\n",
    "'https://bwf.tournamentsoftware.com/sport/tournament.aspx?id=450ED02C-2245-49EF-802F-ED9EDAD42280',\n",
    "'https://bwf.tournamentsoftware.com/sport/tournament.aspx?id=F4570649-0E0F-4FA0-B1D8-6AC161125817',\n",
    "'https://bwf.tournamentsoftware.com/sport/tournament.aspx?id=60D86131-2252-40D1-8E31-A88F45ED65EC',\n",
    "'https://bwf.tournamentsoftware.com/sport/tournament.aspx?id=59748208-9C5A-4FA3-AD95-09B0A7A9C775',\n",
    "'https://bwf.tournamentsoftware.com/sport/tournament.aspx?id=274186AA-E086-4FFA-8BE6-1A8937CC1576',\n",
    "'https://bwf.tournamentsoftware.com/sport/tournament.aspx?id=DA53F2CA-0B48-411C-A8EB-A8E353435A5E',\n",
    "'https://bwf.tournamentsoftware.com/sport/tournament.aspx?id=AD4CC4EA-7EE2-45A1-9F95-63448CB46ED3',\n",
    "'https://bwf.tournamentsoftware.com/sport/tournament.aspx?id=27A21F55-CAD5-4CF4-A60F-A7E06E0DEAAD',\n",
    "'https://bwf.tournamentsoftware.com/sport/tournament.aspx?id=595206F6-CAFD-41FB-BD2A-87F5655C040C',\n",
    "'https://bwf.tournamentsoftware.com/sport/tournament.aspx?id=FD197886-E1A0-41C2-B93C-3140CF299D3C',\n",
    "'https://bwf.tournamentsoftware.com/sport/tournament.aspx?id=BCDF3DEA-809B-4D7F-B0B3-B7F0439B22C3']\n"
   ]
  },
  {
   "cell_type": "code",
   "execution_count": null,
   "metadata": {
    "collapsed": true
   },
   "outputs": [],
   "source": []
  }
 ],
 "metadata": {
  "kernelspec": {
   "display_name": "Python 3",
   "language": "python",
   "name": "python3"
  },
  "language_info": {
   "codemirror_mode": {
    "name": "ipython",
    "version": 3
   },
   "file_extension": ".py",
   "mimetype": "text/x-python",
   "name": "python",
   "nbconvert_exporter": "python",
   "pygments_lexer": "ipython3",
   "version": "3.6.1"
  }
 },
 "nbformat": 4,
 "nbformat_minor": 2
}
