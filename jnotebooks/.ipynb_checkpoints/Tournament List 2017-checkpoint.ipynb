{
 "cells": [
  {
   "cell_type": "code",
   "execution_count": 1,
   "metadata": {
    "collapsed": true
   },
   "outputs": [],
   "source": [
    "import pandas as pd\n",
    "import requests\n",
    "from bs4 import BeautifulSoup\n",
    "import re\n",
    "from tqdm import tqdm"
   ]
  },
  {
   "cell_type": "code",
   "execution_count": 3,
   "metadata": {
    "collapsed": true
   },
   "outputs": [],
   "source": [
    "def gather_data(Tournament_match_links, Tournament_Name, Tournament_Date):\n",
    "    #Lists to append\n",
    "    player_list = []\n",
    "    score_list = []\n",
    "    event_list = []\n",
    "    country_list = []\n",
    "\n",
    "    for url in Tournament_match_links:\n",
    "        #Get page session\n",
    "        r_obj = requests.Session()\n",
    "        fr_soup = r_obj.get(url)\n",
    "        soup = BeautifulSoup(fr_soup.content , \"lxml\")\n",
    "        detail_tab = soup.find_all(\"tbody\")\n",
    "        detail_tab = detail_tab[0].find_all(\"tr\")\n",
    "\n",
    "        #Loop through the rows of table\n",
    "        for row in tqdm(detail_tab):\n",
    "            if len(row) == 13:\n",
    "                player_rows = row.find_all('a', href=re.compile('^player'))\n",
    "                players = []\n",
    "                for player in player_rows:\n",
    "                    players.append(player.contents[0])\n",
    "                player_list.append(players)\n",
    "\n",
    "                score_rows = row.find_all('span', {'class' : 'score'})[0].find_all('span')\n",
    "                scores = []\n",
    "                for score in score_rows:\n",
    "                    scores.append(score.contents[0])\n",
    "                score_list.append(scores)\n",
    "\n",
    "                country_rows = row.find_all('span', {'class' : 'printonly flag'})\n",
    "                countries = []\n",
    "                for country in country_rows:\n",
    "                    countries.append(country.contents[0])\n",
    "                country_list.append(countries)\n",
    "\n",
    "                event_list.append(row.find_all('a', href=re.compile('draw'))[0].contents[0])    \n",
    "\n",
    "        #Close session\n",
    "        r_obj.close()\n",
    "\n",
    "    df = pd.DataFrame()\n",
    "    df['PLAYERS'] = player_list\n",
    "    df['COUNTRIES'] = country_list\n",
    "    df['SCORES'] = score_list\n",
    "    df['EVENT'] = event_list\n",
    "    df['match_week'] = [Tournament_Date]*len(df)\n",
    "\n",
    "    df.to_csv('2017 Tournaments/' + str(Tournament_Name) + '_' + str(Tournament_Date) + '.csv')\n",
    "    return ('done')"
   ]
  },
  {
   "cell_type": "code",
   "execution_count": 43,
   "metadata": {
    "collapsed": true
   },
   "outputs": [],
   "source": [
    "def get_day_links(tournament_link):\n",
    "    #Get tournament name, dates and matches links from main page\n",
    "    start_url = 'https://bwf.tournamentsoftware.com'\n",
    "    tournament_link = tournament_link.replace('tournament.aspx', 'matches.aspx')\n",
    "    \n",
    "    r_obj = requests.Session()\n",
    "    fr_soup = r_obj.get(tournament_link)\n",
    "    soup = BeautifulSoup(fr_soup.content , \"lxml\")\n",
    "    \n",
    "    #title\n",
    "    title = soup.find_all(\"h2\", {'class': 'media__title media__title--large media__title--no-truncate'})[0].get('title')\n",
    "    \n",
    "    #date lists\n",
    "    tournament_days = soup.find_all(\"ul\",{'class' : 'tournamentcalendar'})\n",
    "    tournament_day_links = tournament_days[0].find_all('a', href=re.compile('^/sport/'))\n",
    "    link_list = []\n",
    "    for link in tournament_day_links:\n",
    "        link_list.append(start_url + link.get('href'))\n",
    "    \n",
    "    #first day\n",
    "    first_date = link_list[0][-8:]\n",
    "    \n",
    "    r_obj.close()\n",
    "    \n",
    "    return (title,link_list,first_date)"
   ]
  },
  {
   "cell_type": "code",
   "execution_count": 42,
   "metadata": {},
   "outputs": [
    {
     "name": "stderr",
     "output_type": "stream",
     "text": [
      "100%|██████████| 232/232 [00:00<00:00, 1408.23it/s]\n",
      "100%|██████████| 315/315 [00:00<00:00, 1840.20it/s]\n",
      "100%|██████████| 168/168 [00:00<00:00, 2045.71it/s]\n",
      "100%|██████████| 87/87 [00:00<00:00, 2155.87it/s]\n",
      "100%|██████████| 43/43 [00:00<00:00, 2038.03it/s]\n",
      "100%|██████████| 22/22 [00:00<00:00, 1782.95it/s]\n"
     ]
    },
    {
     "data": {
      "text/plain": [
       "'done'"
      ]
     },
     "execution_count": 42,
     "metadata": {},
     "output_type": "execute_result"
    }
   ],
   "source": [
    "#Test!!\n",
    "\n",
    "Tournament_Name, Tournament_match_links, Tournament_Date = get_day_links('https://bwf.tournamentsoftware.com/sport/tournament.aspx?id=54E1F2CE-E50F-4FF4-A4F4-576D92D5380C')\n",
    "gather_data(Tournament_match_links, Tournament_Name, Tournament_Date)"
   ]
  },
  {
   "cell_type": "code",
   "execution_count": null,
   "metadata": {
    "collapsed": true
   },
   "outputs": [],
   "source": []
  },
  {
   "cell_type": "code",
   "execution_count": null,
   "metadata": {
    "collapsed": true
   },
   "outputs": [],
   "source": []
  },
  {
   "cell_type": "code",
   "execution_count": null,
   "metadata": {
    "collapsed": true
   },
   "outputs": [],
   "source": []
  },
  {
   "cell_type": "code",
   "execution_count": null,
   "metadata": {
    "collapsed": true
   },
   "outputs": [],
   "source": []
  },
  {
   "cell_type": "code",
   "execution_count": null,
   "metadata": {
    "collapsed": true
   },
   "outputs": [],
   "source": []
  },
  {
   "cell_type": "code",
   "execution_count": null,
   "metadata": {
    "collapsed": true
   },
   "outputs": [],
   "source": []
  },
  {
   "cell_type": "code",
   "execution_count": null,
   "metadata": {
    "collapsed": true
   },
   "outputs": [],
   "source": []
  }
 ],
 "metadata": {
  "kernelspec": {
   "display_name": "Python 3",
   "language": "python",
   "name": "python3"
  },
  "language_info": {
   "codemirror_mode": {
    "name": "ipython",
    "version": 3
   },
   "file_extension": ".py",
   "mimetype": "text/x-python",
   "name": "python",
   "nbconvert_exporter": "python",
   "pygments_lexer": "ipython3",
   "version": "3.6.1"
  }
 },
 "nbformat": 4,
 "nbformat_minor": 2
}
