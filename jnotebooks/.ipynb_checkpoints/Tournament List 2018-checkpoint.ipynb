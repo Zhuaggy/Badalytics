{
 "cells": [
  {
   "cell_type": "code",
   "execution_count": 1,
   "metadata": {
    "collapsed": true
   },
   "outputs": [],
   "source": [
    "import pandas as pd\n",
    "import requests\n",
    "from bs4 import BeautifulSoup\n",
    "import re\n",
    "from tqdm import tqdm"
   ]
  },
  {
   "cell_type": "code",
   "execution_count": 3,
   "metadata": {
    "collapsed": true
   },
   "outputs": [],
   "source": [
    "def gather_data(Tournament_match_links, Tournament_Name, Tournament_Date):\n",
    "    #Lists to append\n",
    "    player_list = []\n",
    "    score_list = []\n",
    "    event_list = []\n",
    "    country_list = []\n",
    "\n",
    "    for url in Tournament_match_links:\n",
    "        #Get page session\n",
    "        r_obj = requests.Session()\n",
    "        fr_soup = r_obj.get(url)\n",
    "        soup = BeautifulSoup(fr_soup.content , \"lxml\")\n",
    "        detail_tab = soup.find_all(\"tbody\")\n",
    "        detail_tab = detail_tab[0].find_all(\"tr\")\n",
    "\n",
    "        #Loop through the rows of table\n",
    "        for row in tqdm(detail_tab):\n",
    "            if len(row) == 13:\n",
    "                player_rows = row.find_all('a', href=re.compile('^player'))\n",
    "                players = []\n",
    "                for player in player_rows:\n",
    "                    players.append(player.contents[0])\n",
    "                player_list.append(players)\n",
    "\n",
    "                score_rows = row.find_all('span', {'class' : 'score'})[0].find_all('span')\n",
    "                scores = []\n",
    "                for score in score_rows:\n",
    "                    scores.append(score.contents[0])\n",
    "                score_list.append(scores)\n",
    "\n",
    "                country_rows = row.find_all('span', {'class' : 'printonly flag'})\n",
    "                countries = []\n",
    "                for country in country_rows:\n",
    "                    countries.append(country.contents[0])\n",
    "                country_list.append(countries)\n",
    "\n",
    "                event_list.append(row.find_all('a', href=re.compile('draw'))[0].contents[0])    \n",
    "\n",
    "        #Close session\n",
    "        r_obj.close()\n",
    "\n",
    "    df = pd.DataFrame()\n",
    "    df['PLAYERS'] = player_list\n",
    "    df['COUNTRIES'] = country_list\n",
    "    df['SCORES'] = score_list\n",
    "    df['EVENT'] = event_list\n",
    "    df['match_week'] = [Tournament_Date]*len(df)\n",
    "\n",
    "    df.to_csv('2018 Tournaments/' + str(Tournament_Name) + '_' + str(Tournament_Date) + '.csv')\n",
    "    return ('done')"
   ]
  },
  {
   "cell_type": "code",
   "execution_count": null,
   "metadata": {
    "collapsed": true
   },
   "outputs": [],
   "source": [
    "Tournament_match_links = ['https://bwf.tournamentsoftware.com/sport/matches.aspx?id=DF9A8990-7DD7-4B38-A859-6C7D952598B2',\n",
    "                         'https://bwf.tournamentsoftware.com/sport/matches.aspx?id=DF9A8990-7DD7-4B38-A859-6C7D952598B2&d=20180110',\n",
    "                         'https://bwf.tournamentsoftware.com/sport/matches.aspx?id=DF9A8990-7DD7-4B38-A859-6C7D952598B2&d=20180111',\n",
    "                         'https://bwf.tournamentsoftware.com/sport/matches.aspx?id=DF9A8990-7DD7-4B38-A859-6C7D952598B2&d=20180112',\n",
    "                         'https://bwf.tournamentsoftware.com/sport/matches.aspx?id=DF9A8990-7DD7-4B38-A859-6C7D952598B2&d=20180113',\n",
    "                         'https://bwf.tournamentsoftware.com/sport/matches.aspx?id=DF9A8990-7DD7-4B38-A859-6C7D952598B2&d=20180114']\n",
    "Tournament_Name = 'Thailand Masters'\n",
    "Tournament_Date = '20180109'"
   ]
  },
  {
   "cell_type": "code",
   "execution_count": null,
   "metadata": {
    "collapsed": true
   },
   "outputs": [],
   "source": [
    "Tournament_match_links = ['https://bwf.tournamentsoftware.com/sport/matches.aspx?id=D9CEE27F-6AFC-470D-A57C-945560DCC746',\n",
    "                         'https://bwf.tournamentsoftware.com/sport/matches.aspx?id=D9CEE27F-6AFC-470D-A57C-945560DCC746&d=20180112',\n",
    "                         'https://bwf.tournamentsoftware.com/sport/matches.aspx?id=D9CEE27F-6AFC-470D-A57C-945560DCC746&d=20180113',\n",
    "                         'https://bwf.tournamentsoftware.com/sport/matches.aspx?id=D9CEE27F-6AFC-470D-A57C-945560DCC746&d=20180114']\n",
    "Tournament_Name = 'Estonian_International_2018'\n",
    "Tournament_Date = '20180111'"
   ]
  },
  {
   "cell_type": "code",
   "execution_count": null,
   "metadata": {
    "collapsed": true
   },
   "outputs": [],
   "source": [
    "Tournament_match_links = ['https://bwf.tournamentsoftware.com/sport/matches.aspx?id=DF9A8990-7DD7-4B38-A859-6C7D952598B2',\n",
    "                         'https://bwf.tournamentsoftware.com/sport/matches.aspx?id=DF9A8990-7DD7-4B38-A859-6C7D952598B2&d=20180110',\n",
    "                         'https://bwf.tournamentsoftware.com/sport/matches.aspx?id=DF9A8990-7DD7-4B38-A859-6C7D952598B2&d=20180111',\n",
    "                         'https://bwf.tournamentsoftware.com/sport/matches.aspx?id=DF9A8990-7DD7-4B38-A859-6C7D952598B2&d=20180112',\n",
    "                         'https://bwf.tournamentsoftware.com/sport/matches.aspx?id=DF9A8990-7DD7-4B38-A859-6C7D952598B2&d=20180113',\n",
    "                         'https://bwf.tournamentsoftware.com/sport/matches.aspx?id=DF9A8990-7DD7-4B38-A859-6C7D952598B2&d=20180114']\n",
    "Tournament_Name = 'Malaysia Masters 2018'\n",
    "Tournament_Date = '20180116'"
   ]
  },
  {
   "cell_type": "code",
   "execution_count": null,
   "metadata": {
    "collapsed": true
   },
   "outputs": [],
   "source": [
    "Tournament_match_links = ['https://bwf.tournamentsoftware.com/sport/matches.aspx?id=68115587-A7BC-4D93-AD52-283213B54064',\n",
    "                         'https://bwf.tournamentsoftware.com/sport/matches.aspx?id=68115587-A7BC-4D93-AD52-283213B54064&d=20180119',\n",
    "                         'https://bwf.tournamentsoftware.com/sport/matches.aspx?id=68115587-A7BC-4D93-AD52-283213B54064&d=20180120',\n",
    "                         'https://bwf.tournamentsoftware.com/sport/matches.aspx?id=68115587-A7BC-4D93-AD52-283213B54064&d=20180121']\n",
    "Tournament_Name = 'Swedish Open 2018'\n",
    "Tournament_Date = '20180118'"
   ]
  },
  {
   "cell_type": "code",
   "execution_count": null,
   "metadata": {
    "collapsed": true
   },
   "outputs": [],
   "source": [
    "Tournament_match_links = ['https://bwf.tournamentsoftware.com/sport/matches.aspx?id=E880C7A5-0A60-4A98-8FF9-A3B7DD58F3E2',\n",
    "                         'https://bwf.tournamentsoftware.com/sport/matches.aspx?id=E880C7A5-0A60-4A98-8FF9-A3B7DD58F3E2&d=20180124',\n",
    "                         'https://bwf.tournamentsoftware.com/sport/matches.aspx?id=E880C7A5-0A60-4A98-8FF9-A3B7DD58F3E2&d=20180125',\n",
    "                         'https://bwf.tournamentsoftware.com/sport/matches.aspx?id=E880C7A5-0A60-4A98-8FF9-A3B7DD58F3E2&d=20180126',\n",
    "                         'https://bwf.tournamentsoftware.com/sport/matches.aspx?id=E880C7A5-0A60-4A98-8FF9-A3B7DD58F3E2&d=20180127',\n",
    "                         'https://bwf.tournamentsoftware.com/sport/matches.aspx?id=E880C7A5-0A60-4A98-8FF9-A3B7DD58F3E2&d=20180128']\n",
    "Tournament_Name = 'Indonesia Masters 2018'\n",
    "Tournament_Date = '20180123'"
   ]
  },
  {
   "cell_type": "code",
   "execution_count": null,
   "metadata": {
    "collapsed": true
   },
   "outputs": [],
   "source": [
    "Tournament_match_links = ['https://bwf.tournamentsoftware.com/sport/matches.aspx?id=6D470E9C-B7DF-4412-A7C4-61190AD43714',\n",
    "                         'https://bwf.tournamentsoftware.com/sport/matches.aspx?id=6D470E9C-B7DF-4412-A7C4-61190AD43714&d=20180126',\n",
    "                         'https://bwf.tournamentsoftware.com/sport/matches.aspx?id=6D470E9C-B7DF-4412-A7C4-61190AD43714&d=20180127',\n",
    "                         'https://bwf.tournamentsoftware.com/sport/matches.aspx?id=6D470E9C-B7DF-4412-A7C4-61190AD43714&d=20180128']\n",
    "Tournament_Name = 'Iceland International 2018'\n",
    "Tournament_Date = '20180125'"
   ]
  },
  {
   "cell_type": "code",
   "execution_count": null,
   "metadata": {
    "collapsed": true
   },
   "outputs": [],
   "source": [
    "Tournament_match_links = ['https://bwf.tournamentsoftware.com/sport/matches.aspx?id=1D04BED4-2309-4F7F-B469-5E878816AACF',\n",
    "                         'https://bwf.tournamentsoftware.com/sport/matches.aspx?id=1D04BED4-2309-4F7F-B469-5E878816AACF&d=20180131',\n",
    "                         'https://bwf.tournamentsoftware.com/sport/matches.aspx?id=1D04BED4-2309-4F7F-B469-5E878816AACF&d=20180201',\n",
    "                         'https://bwf.tournamentsoftware.com/sport/matches.aspx?id=1D04BED4-2309-4F7F-B469-5E878816AACF&d=20180202',\n",
    "                         'https://bwf.tournamentsoftware.com/sport/matches.aspx?id=1D04BED4-2309-4F7F-B469-5E878816AACF&d=20180203',\n",
    "                         'https://bwf.tournamentsoftware.com/sport/matches.aspx?id=1D04BED4-2309-4F7F-B469-5E878816AACF&d=20180204']\n",
    "Tournament_Name = 'India Open 2018'\n",
    "Tournament_Date = '20180130'"
   ]
  },
  {
   "cell_type": "code",
   "execution_count": null,
   "metadata": {
    "collapsed": true
   },
   "outputs": [],
   "source": [
    "Tournament_match_links = ['https://bwf.tournamentsoftware.com/sport/matches.aspx?id=633C3F42-A377-4067-AA11-C70822C99214',\n",
    "                         'https://bwf.tournamentsoftware.com/sport/matches.aspx?id=633C3F42-A377-4067-AA11-C70822C99214&d=20180202',\n",
    "                         'https://bwf.tournamentsoftware.com/sport/matches.aspx?id=633C3F42-A377-4067-AA11-C70822C99214&d=20180203',\n",
    "                         'https://bwf.tournamentsoftware.com/sport/matches.aspx?id=633C3F42-A377-4067-AA11-C70822C99214&d=20180204']\n",
    "Tournament_Name = 'North Harbour International 2018'\n",
    "Tournament_Date = '20180201'"
   ]
  },
  {
   "cell_type": "code",
   "execution_count": null,
   "metadata": {
    "collapsed": true
   },
   "outputs": [],
   "source": [
    "Tournament_match_links = ['https://bwf.tournamentsoftware.com/sport/matches.aspx?id=43182981-89F5-4077-A4A4-E8B50C22426B',\n",
    "                         'https://bwf.tournamentsoftware.com/sport/matches.aspx?id=43182981-89F5-4077-A4A4-E8B50C22426B&d=20180206',\n",
    "                         'https://bwf.tournamentsoftware.com/sport/matches.aspx?id=43182981-89F5-4077-A4A4-E8B50C22426B&d=20180207',\n",
    "                         'https://bwf.tournamentsoftware.com/sport/matches.aspx?id=43182981-89F5-4077-A4A4-E8B50C22426B&d=20180208']\n",
    "Tournament_Name = 'Iran Fajr International Challenge 2018'\n",
    "Tournament_Date = '20180205'"
   ]
  },
  {
   "cell_type": "code",
   "execution_count": null,
   "metadata": {
    "collapsed": true
   },
   "outputs": [],
   "source": [
    "Tournament_match_links = ['https://bwf.tournamentsoftware.com/sport/matches.aspx?id=2F225B70-FF6C-4BBD-A09E-24EB3A5ACB48',\n",
    "                         'https://bwf.tournamentsoftware.com/sport/matches.aspx?id=2F225B70-FF6C-4BBD-A09E-24EB3A5ACB48&d=20180208',\n",
    "                         'https://bwf.tournamentsoftware.com/sport/matches.aspx?id=2F225B70-FF6C-4BBD-A09E-24EB3A5ACB48&d=20180209',\n",
    "                         'https://bwf.tournamentsoftware.com/sport/matches.aspx?id=2F225B70-FF6C-4BBD-A09E-24EB3A5ACB48&d=20180210']\n",
    "Tournament_Name = 'Algeria International 2018'\n",
    "Tournament_Date = '20180207'"
   ]
  },
  {
   "cell_type": "code",
   "execution_count": null,
   "metadata": {
    "collapsed": true
   },
   "outputs": [],
   "source": [
    "Tournament_match_links = ['https://bwf.tournamentsoftware.com/sport/matches.aspx?id=E5E560F4-A78F-4DB1-A49C-7498CA47B0D8',\n",
    "                         'https://bwf.tournamentsoftware.com/sport/matches.aspx?id=E5E560F4-A78F-4DB1-A49C-7498CA47B0D8&d=20180209',\n",
    "                         'https://bwf.tournamentsoftware.com/sport/matches.aspx?id=E5E560F4-A78F-4DB1-A49C-7498CA47B0D8&d=20180210',\n",
    "                         'https://bwf.tournamentsoftware.com/sport/matches.aspx?id=E5E560F4-A78F-4DB1-A49C-7498CA47B0D8&d=20180211']\n",
    "Tournament_Name = 'Oceania Championships 2018'\n",
    "Tournament_Date = '20180208'"
   ]
  },
  {
   "cell_type": "code",
   "execution_count": null,
   "metadata": {
    "collapsed": true
   },
   "outputs": [],
   "source": [
    "Tournament_match_links = ['https://bwf.tournamentsoftware.com/sport/matches.aspx?id=0D982F87-7237-47FB-B3A9-563BFD7E7D1C',\n",
    "                         'https://bwf.tournamentsoftware.com/sport/matches.aspx?id=0D982F87-7237-47FB-B3A9-563BFD7E7D1C&d=20180217',\n",
    "                         'https://bwf.tournamentsoftware.com/sport/matches.aspx?id=0D982F87-7237-47FB-B3A9-563BFD7E7D1C&d=20180218']\n",
    "Tournament_Name = 'Africa Individual Championships 2018'\n",
    "Tournament_Date = '20180216'"
   ]
  },
  {
   "cell_type": "code",
   "execution_count": null,
   "metadata": {
    "collapsed": true
   },
   "outputs": [],
   "source": [
    "Tournament_match_links = ['https://bwf.tournamentsoftware.com/sport/matches.aspx?id=F9533AE1-4375-458C-BB11-E6B186C5EA21',\n",
    "                         'https://bwf.tournamentsoftware.com/sport/matches.aspx?id=F9533AE1-4375-458C-BB11-E6B186C5EA21&d=20180221',\n",
    "                         'https://bwf.tournamentsoftware.com/sport/matches.aspx?id=F9533AE1-4375-458C-BB11-E6B186C5EA21&d=20180222',\n",
    "                         'https://bwf.tournamentsoftware.com/sport/matches.aspx?id=F9533AE1-4375-458C-BB11-E6B186C5EA21&d=20180223',\n",
    "                         'https://bwf.tournamentsoftware.com/sport/matches.aspx?id=F9533AE1-4375-458C-BB11-E6B186C5EA21&d=20180224',\n",
    "                         'https://bwf.tournamentsoftware.com/sport/matches.aspx?id=F9533AE1-4375-458C-BB11-E6B186C5EA21&d=20180225']\n",
    "Tournament_Name = 'Swiss Open 2018'\n",
    "Tournament_Date = '20180220'"
   ]
  },
  {
   "cell_type": "code",
   "execution_count": null,
   "metadata": {
    "collapsed": true
   },
   "outputs": [],
   "source": [
    "Tournament_match_links = ['https://bwf.tournamentsoftware.com/sport/matches.aspx?id=A6532B8A-063A-4FCE-8EFF-DB0834BC053B',\n",
    "                         'https://bwf.tournamentsoftware.com/sport/matches.aspx?id=A6532B8A-063A-4FCE-8EFF-DB0834BC053B&d=20180222',\n",
    "                         'https://bwf.tournamentsoftware.com/sport/matches.aspx?id=A6532B8A-063A-4FCE-8EFF-DB0834BC053B&d=20180223',\n",
    "                         'https://bwf.tournamentsoftware.com/sport/matches.aspx?id=A6532B8A-063A-4FCE-8EFF-DB0834BC053B&d=20180224']\n",
    "Tournament_Name = 'Austrian Open 2018'\n",
    "Tournament_Date = '20180221'"
   ]
  },
  {
   "cell_type": "code",
   "execution_count": null,
   "metadata": {
    "collapsed": true
   },
   "outputs": [],
   "source": [
    "Tournament_match_links = ['https://bwf.tournamentsoftware.com/sport/matches.aspx?id=5D21884B-1612-4770-8217-2D625A72A886',\n",
    "                         'https://bwf.tournamentsoftware.com/sport/matches.aspx?id=5D21884B-1612-4770-8217-2D625A72A886&d=20180223',\n",
    "                         'https://bwf.tournamentsoftware.com/sport/matches.aspx?id=5D21884B-1612-4770-8217-2D625A72A886&d=20180224',\n",
    "                         'https://bwf.tournamentsoftware.com/sport/matches.aspx?id=5D21884B-1612-4770-8217-2D625A72A886&d=20180225']\n",
    "Tournament_Name = 'Uganda International 2018'\n",
    "Tournament_Date = '20180222'"
   ]
  },
  {
   "cell_type": "code",
   "execution_count": null,
   "metadata": {
    "collapsed": true
   },
   "outputs": [],
   "source": [
    "Tournament_match_links = ['https://bwf.tournamentsoftware.com/sport/matches.aspx?id=4DC8AE6C-3BE4-4CBD-98D4-EA3F6F6A9991',\n",
    "                         'https://bwf.tournamentsoftware.com/sport/matches.aspx?id=4DC8AE6C-3BE4-4CBD-98D4-EA3F6F6A9991&d=20180301',\n",
    "                         'https://bwf.tournamentsoftware.com/sport/matches.aspx?id=4DC8AE6C-3BE4-4CBD-98D4-EA3F6F6A9991&d=20180302',\n",
    "                         'https://bwf.tournamentsoftware.com/sport/matches.aspx?id=4DC8AE6C-3BE4-4CBD-98D4-EA3F6F6A9991&d=20180303',\n",
    "                         'https://bwf.tournamentsoftware.com/sport/matches.aspx?id=4DC8AE6C-3BE4-4CBD-98D4-EA3F6F6A9991&d=20180304']\n",
    "Tournament_Name = 'Jamaica International 2018'\n",
    "Tournament_Date = '20180227'"
   ]
  },
  {
   "cell_type": "code",
   "execution_count": null,
   "metadata": {
    "collapsed": true
   },
   "outputs": [],
   "source": [
    "Tournament_match_links = ['https://bwf.tournamentsoftware.com/sport/matches.aspx?id=7742B020-2AF8-4374-B404-784BCC176108',\n",
    "                         'https://bwf.tournamentsoftware.com/sport/matches.aspx?id=7742B020-2AF8-4374-B404-784BCC176108&d=20180301',\n",
    "                         'https://bwf.tournamentsoftware.com/sport/matches.aspx?id=7742B020-2AF8-4374-B404-784BCC176108&d=20180302',\n",
    "                         'https://bwf.tournamentsoftware.com/sport/matches.aspx?id=7742B020-2AF8-4374-B404-784BCC176108&d=20180303']\n",
    "Tournament_Name = 'Slovak Open 2018'\n",
    "Tournament_Date = '20180228'"
   ]
  },
  {
   "cell_type": "code",
   "execution_count": null,
   "metadata": {
    "collapsed": true
   },
   "outputs": [],
   "source": [
    "Tournament_match_links = ['https://bwf.tournamentsoftware.com/sport/matches.aspx?id=42A5647B-467F-47A1-88EB-53B7580C6EBA',\n",
    "                         'https://bwf.tournamentsoftware.com/sport/matches.aspx?id=42A5647B-467F-47A1-88EB-53B7580C6EBA&d=20180307',\n",
    "                         'https://bwf.tournamentsoftware.com/sport/matches.aspx?id=42A5647B-467F-47A1-88EB-53B7580C6EBA&d=20180308',\n",
    "                         'https://bwf.tournamentsoftware.com/sport/matches.aspx?id=42A5647B-467F-47A1-88EB-53B7580C6EBA&d=20180309',\n",
    "                         'https://bwf.tournamentsoftware.com/sport/matches.aspx?id=42A5647B-467F-47A1-88EB-53B7580C6EBA&d=20180310',\n",
    "                         'https://bwf.tournamentsoftware.com/sport/matches.aspx?id=42A5647B-467F-47A1-88EB-53B7580C6EBA&d=20180311']\n",
    "Tournament_Name = 'German Open 2018'\n",
    "Tournament_Date = '20180306'"
   ]
  },
  {
   "cell_type": "code",
   "execution_count": null,
   "metadata": {
    "collapsed": true
   },
   "outputs": [],
   "source": [
    "Tournament_match_links = ['https://bwf.tournamentsoftware.com/sport/matches.aspx?id=2BF17B8B-EB2B-4B8E-8168-A9C3E2563D87',\n",
    "                         'https://bwf.tournamentsoftware.com/sport/matches.aspx?id=2BF17B8B-EB2B-4B8E-8168-A9C3E2563D87&d=20180308',\n",
    "                         'https://bwf.tournamentsoftware.com/sport/matches.aspx?id=2BF17B8B-EB2B-4B8E-8168-A9C3E2563D87&d=20180309',\n",
    "                         'https://bwf.tournamentsoftware.com/sport/matches.aspx?id=2BF17B8B-EB2B-4B8E-8168-A9C3E2563D87&d=20180310',\n",
    "                         'https://bwf.tournamentsoftware.com/sport/matches.aspx?id=2BF17B8B-EB2B-4B8E-8168-A9C3E2563D87&d=20180311']\n",
    "Tournament_Name = 'Brazil International Badminton Cup 2018'\n",
    "Tournament_Date = '20180307'"
   ]
  },
  {
   "cell_type": "markdown",
   "metadata": {},
   "source": [
    "## ---------------------------------------------------------------------------"
   ]
  },
  {
   "cell_type": "code",
   "execution_count": 4,
   "metadata": {},
   "outputs": [
    {
     "name": "stderr",
     "output_type": "stream",
     "text": [
      "100%|██████████| 124/124 [00:00<00:00, 1950.06it/s]\n",
      "100%|██████████| 146/146 [00:00<00:00, 1797.69it/s]\n",
      "100%|██████████| 130/130 [00:00<00:00, 2029.98it/s]\n",
      "100%|██████████| 22/22 [00:00<00:00, 2140.70it/s]\n"
     ]
    },
    {
     "data": {
      "text/plain": [
       "'done'"
      ]
     },
     "execution_count": 4,
     "metadata": {},
     "output_type": "execute_result"
    }
   ],
   "source": [
    "Tournament_match_links = ['https://bwf.tournamentsoftware.com/sport/matches.aspx?id=A9402552-E37E-428A-90FB-4733CFCE29DD',\n",
    "                         'https://bwf.tournamentsoftware.com/sport/matches.aspx?id=A9402552-E37E-428A-90FB-4733CFCE29DD&d=20180309',\n",
    "                         'https://bwf.tournamentsoftware.com/sport/matches.aspx?id=A9402552-E37E-428A-90FB-4733CFCE29DD&d=20180310',\n",
    "                         'https://bwf.tournamentsoftware.com/sport/matches.aspx?id=A9402552-E37E-428A-90FB-4733CFCE29DD&d=20180311']\n",
    "Tournament_Name = '2018 Portuguese International Championships'\n",
    "Tournament_Date = '20180308'\n",
    "\n",
    "gather_data(Tournament_match_links, Tournament_Name, Tournament_Date)"
   ]
  },
  {
   "cell_type": "code",
   "execution_count": null,
   "metadata": {
    "collapsed": true
   },
   "outputs": [],
   "source": []
  },
  {
   "cell_type": "code",
   "execution_count": null,
   "metadata": {
    "collapsed": true
   },
   "outputs": [],
   "source": []
  },
  {
   "cell_type": "code",
   "execution_count": null,
   "metadata": {
    "collapsed": true
   },
   "outputs": [],
   "source": []
  },
  {
   "cell_type": "code",
   "execution_count": 8,
   "metadata": {},
   "outputs": [
    {
     "name": "stderr",
     "output_type": "stream",
     "text": [
      "100%|██████████| 67/67 [00:00<00:00, 1515.73it/s]\n",
      "100%|██████████| 74/74 [00:00<00:00, 2011.10it/s]\n",
      "100%|██████████| 44/44 [00:00<00:00, 2042.72it/s]\n",
      "100%|██████████| 22/22 [00:00<00:00, 2301.29it/s]\n"
     ]
    },
    {
     "data": {
      "text/plain": [
       "'done'"
      ]
     },
     "execution_count": 8,
     "metadata": {},
     "output_type": "execute_result"
    }
   ],
   "source": [
    "Tournament_match_links = ['https://bwf.tournamentsoftware.com/sport/matches.aspx?id=C06D6567-30AD-43B6-822B-24BCC611DB88',\n",
    "                         'https://bwf.tournamentsoftware.com/sport/matches.aspx?id=C06D6567-30AD-43B6-822B-24BCC611DB88&d=20180316',\n",
    "                         'https://bwf.tournamentsoftware.com/sport/matches.aspx?id=C06D6567-30AD-43B6-822B-24BCC611DB88&d=20180317',\n",
    "                         'https://bwf.tournamentsoftware.com/sport/matches.aspx?id=C06D6567-30AD-43B6-822B-24BCC611DB88&d=20180318']\n",
    "Tournament_Name = '2018 Giraldilla Tournament'\n",
    "Tournament_Date = '20180314'\n",
    "gather_data(Tournament_match_links, Tournament_Name, Tournament_Date)"
   ]
  },
  {
   "cell_type": "code",
   "execution_count": 9,
   "metadata": {},
   "outputs": [
    {
     "name": "stderr",
     "output_type": "stream",
     "text": [
      "100%|██████████| 62/62 [00:00<00:00, 1177.30it/s]\n",
      "100%|██████████| 43/43 [00:00<00:00, 1992.87it/s]\n",
      "100%|██████████| 86/86 [00:00<00:00, 2088.75it/s]\n",
      "100%|██████████| 43/43 [00:00<00:00, 2101.65it/s]\n",
      "100%|██████████| 22/22 [00:00<00:00, 2068.01it/s]\n"
     ]
    },
    {
     "data": {
      "text/plain": [
       "'done'"
      ]
     },
     "execution_count": 9,
     "metadata": {},
     "output_type": "execute_result"
    }
   ],
   "source": [
    "Tournament_match_links = ['https://bwf.tournamentsoftware.com/sport/matches.aspx?id=4E6160C1-6ABB-43CF-A535-2F0175C84D7D',\n",
    "                         'https://bwf.tournamentsoftware.com/sport/matches.aspx?id=4E6160C1-6ABB-43CF-A535-2F0175C84D7D&d=20180315',\n",
    "                         'https://bwf.tournamentsoftware.com/sport/matches.aspx?id=4E6160C1-6ABB-43CF-A535-2F0175C84D7D&d=20180316',\n",
    "                         'https://bwf.tournamentsoftware.com/sport/matches.aspx?id=4E6160C1-6ABB-43CF-A535-2F0175C84D7D&d=20180317',\n",
    "                         'https://bwf.tournamentsoftware.com/sport/matches.aspx?id=4E6160C1-6ABB-43CF-A535-2F0175C84D7D&d=20180318']\n",
    "Tournament_Name = 'All England Open 2018'\n",
    "Tournament_Date = '20180314'\n",
    "gather_data(Tournament_match_links, Tournament_Name, Tournament_Date)"
   ]
  },
  {
   "cell_type": "code",
   "execution_count": 10,
   "metadata": {},
   "outputs": [
    {
     "name": "stderr",
     "output_type": "stream",
     "text": [
      "100%|██████████| 185/185 [00:00<00:00, 1807.03it/s]\n",
      "100%|██████████| 384/384 [00:00<00:00, 1814.86it/s]\n",
      "100%|██████████| 130/130 [00:00<00:00, 2031.63it/s]\n",
      "100%|██████████| 22/22 [00:00<00:00, 2162.62it/s]\n"
     ]
    },
    {
     "data": {
      "text/plain": [
       "'done'"
      ]
     },
     "execution_count": 10,
     "metadata": {},
     "output_type": "execute_result"
    }
   ],
   "source": [
    "Tournament_match_links = ['https://bwf.tournamentsoftware.com/sport/matches.aspx?id=11DA4053-0EF1-46F5-9D7B-6B94A957801E',\n",
    "                         'https://bwf.tournamentsoftware.com/sport/matches.aspx?id=11DA4053-0EF1-46F5-9D7B-6B94A957801E&d=20180316',\n",
    "                         'https://bwf.tournamentsoftware.com/sport/matches.aspx?id=11DA4053-0EF1-46F5-9D7B-6B94A957801E&d=20180317',\n",
    "                         'https://bwf.tournamentsoftware.com/sport/matches.aspx?id=11DA4053-0EF1-46F5-9D7B-6B94A957801E&d=20180318']\n",
    "Tournament_Name = 'KaBaL International Karviná 2018'\n",
    "Tournament_Date = '20180315'\n",
    "gather_data(Tournament_match_links, Tournament_Name, Tournament_Date)"
   ]
  },
  {
   "cell_type": "code",
   "execution_count": 11,
   "metadata": {},
   "outputs": [
    {
     "name": "stderr",
     "output_type": "stream",
     "text": [
      "100%|██████████| 368/368 [00:00<00:00, 1655.20it/s]\n",
      "100%|██████████| 424/424 [00:00<00:00, 1796.36it/s]\n",
      "100%|██████████| 44/44 [00:00<00:00, 1924.43it/s]\n",
      "100%|██████████| 22/22 [00:00<00:00, 1632.28it/s]\n"
     ]
    },
    {
     "data": {
      "text/plain": [
       "'done'"
      ]
     },
     "execution_count": 11,
     "metadata": {},
     "output_type": "execute_result"
    }
   ],
   "source": [
    "Tournament_match_links = ['https://bwf.tournamentsoftware.com/sport/matches.aspx?id=FBB28C8F-2A3D-4CFD-AA87-98D60602D2BC',\n",
    "                         'https://bwf.tournamentsoftware.com/sport/matches.aspx?id=FBB28C8F-2A3D-4CFD-AA87-98D60602D2BC&d=20180323',\n",
    "                         'https://bwf.tournamentsoftware.com/sport/matches.aspx?id=FBB28C8F-2A3D-4CFD-AA87-98D60602D2BC&d=20180324',\n",
    "                         'https://bwf.tournamentsoftware.com/sport/matches.aspx?id=FBB28C8F-2A3D-4CFD-AA87-98D60602D2BC&d=20180325']\n",
    "Tournament_Name = 'Vietnam International Challenge 2018'\n",
    "Tournament_Date = '20180320'\n",
    "gather_data(Tournament_match_links, Tournament_Name, Tournament_Date)"
   ]
  },
  {
   "cell_type": "code",
   "execution_count": 12,
   "metadata": {},
   "outputs": [
    {
     "name": "stderr",
     "output_type": "stream",
     "text": [
      "100%|██████████| 251/251 [00:00<00:00, 1794.77it/s]\n",
      "100%|██████████| 331/331 [00:00<00:00, 1848.76it/s]\n",
      "100%|██████████| 171/171 [00:00<00:00, 1116.12it/s]\n",
      "100%|██████████| 87/87 [00:00<00:00, 1957.96it/s]\n",
      "100%|██████████| 44/44 [00:00<00:00, 2003.64it/s]\n",
      "100%|██████████| 22/22 [00:00<00:00, 1219.73it/s]\n"
     ]
    },
    {
     "data": {
      "text/plain": [
       "'done'"
      ]
     },
     "execution_count": 12,
     "metadata": {},
     "output_type": "execute_result"
    }
   ],
   "source": [
    "Tournament_match_links = ['https://bwf.tournamentsoftware.com/sport/matches.aspx?id=5296EBA2-B62F-4228-A879-FE2DAA3D6A00',\n",
    "                         'https://bwf.tournamentsoftware.com/sport/matches.aspx?id=5296EBA2-B62F-4228-A879-FE2DAA3D6A00&d=20180328',\n",
    "                         'https://bwf.tournamentsoftware.com/sport/matches.aspx?id=5296EBA2-B62F-4228-A879-FE2DAA3D6A00&d=20180329',\n",
    "                         'https://bwf.tournamentsoftware.com/sport/matches.aspx?id=5296EBA2-B62F-4228-A879-FE2DAA3D6A00&d=20180330',\n",
    "                         'https://bwf.tournamentsoftware.com/sport/matches.aspx?id=5296EBA2-B62F-4228-A879-FE2DAA3D6A00&d=20180331',\n",
    "                         'https://bwf.tournamentsoftware.com/sport/matches.aspx?id=5296EBA2-B62F-4228-A879-FE2DAA3D6A00&d=20180401']\n",
    "Tournament_Name = 'Orleans Masters 2018'\n",
    "Tournament_Date = '20180327'\n",
    "gather_data(Tournament_match_links, Tournament_Name, Tournament_Date)"
   ]
  },
  {
   "cell_type": "code",
   "execution_count": 13,
   "metadata": {},
   "outputs": [
    {
     "name": "stderr",
     "output_type": "stream",
     "text": [
      "100%|██████████| 156/156 [00:00<00:00, 1937.55it/s]\n",
      "100%|██████████| 319/319 [00:00<00:00, 1718.97it/s]\n",
      "100%|██████████| 130/130 [00:00<00:00, 1974.33it/s]\n",
      "100%|██████████| 22/22 [00:00<00:00, 2200.68it/s]\n"
     ]
    },
    {
     "data": {
      "text/plain": [
       "'done'"
      ]
     },
     "execution_count": 13,
     "metadata": {},
     "output_type": "execute_result"
    }
   ],
   "source": [
    "Tournament_match_links = ['https://bwf.tournamentsoftware.com/sport/matches.aspx?id=210CF2A0-0520-494C-9BD9-BC6FAAF88651',\n",
    "                         'https://bwf.tournamentsoftware.com/sport/matches.aspx?id=210CF2A0-0520-494C-9BD9-BC6FAAF88651&d=20180330',\n",
    "                         'https://bwf.tournamentsoftware.com/sport/matches.aspx?id=210CF2A0-0520-494C-9BD9-BC6FAAF88651&d=20180331',\n",
    "                         'https://bwf.tournamentsoftware.com/sport/matches.aspx?id=210CF2A0-0520-494C-9BD9-BC6FAAF88651&d=20180401']\n",
    "Tournament_Name = 'Croatian International 2018'\n",
    "Tournament_Date = '20180329'\n",
    "gather_data(Tournament_match_links, Tournament_Name, Tournament_Date)"
   ]
  },
  {
   "cell_type": "code",
   "execution_count": 14,
   "metadata": {},
   "outputs": [
    {
     "name": "stderr",
     "output_type": "stream",
     "text": [
      "100%|██████████| 139/139 [00:00<00:00, 1881.76it/s]\n",
      "100%|██████████| 314/314 [00:00<00:00, 1814.20it/s]\n",
      "100%|██████████| 164/164 [00:00<00:00, 1972.62it/s]\n",
      "100%|██████████| 44/44 [00:00<00:00, 1817.04it/s]\n",
      "100%|██████████| 22/22 [00:00<00:00, 1817.54it/s]\n"
     ]
    },
    {
     "data": {
      "text/plain": [
       "'done'"
      ]
     },
     "execution_count": 14,
     "metadata": {},
     "output_type": "execute_result"
    }
   ],
   "source": [
    "Tournament_match_links = ['https://bwf.tournamentsoftware.com/sport/matches.aspx?id=248672C3-8121-44F9-BB45-D16CB45714CD',\n",
    "                         'https://bwf.tournamentsoftware.com/sport/matches.aspx?id=248672C3-8121-44F9-BB45-D16CB45714CD&d=20180405',\n",
    "                         'https://bwf.tournamentsoftware.com/sport/matches.aspx?id=248672C3-8121-44F9-BB45-D16CB45714CD&d=20180406',\n",
    "                         'https://bwf.tournamentsoftware.com/sport/matches.aspx?id=248672C3-8121-44F9-BB45-D16CB45714CD&d=20180407',\n",
    "                         'https://bwf.tournamentsoftware.com/sport/matches.aspx?id=248672C3-8121-44F9-BB45-D16CB45714CD&d=20180408']\n",
    "Tournament_Name = 'Osaka International Challenge 2018'\n",
    "Tournament_Date = '20180404'\n",
    "gather_data(Tournament_match_links, Tournament_Name, Tournament_Date)"
   ]
  },
  {
   "cell_type": "code",
   "execution_count": 15,
   "metadata": {},
   "outputs": [
    {
     "name": "stderr",
     "output_type": "stream",
     "text": [
      "100%|██████████| 333/333 [00:00<00:00, 1571.15it/s]\n",
      "100%|██████████| 484/484 [00:00<00:00, 1657.22it/s]\n",
      "100%|██████████| 130/130 [00:00<00:00, 2061.14it/s]\n",
      "100%|██████████| 22/22 [00:00<00:00, 1929.99it/s]\n"
     ]
    },
    {
     "data": {
      "text/plain": [
       "'done'"
      ]
     },
     "execution_count": 15,
     "metadata": {},
     "output_type": "execute_result"
    }
   ],
   "source": [
    "Tournament_match_links = ['https://bwf.tournamentsoftware.com/sport/matches.aspx?id=4D90062C-E87A-43EA-BAA1-15F1FA275245',\n",
    "                         'https://bwf.tournamentsoftware.com/sport/matches.aspx?id=4D90062C-E87A-43EA-BAA1-15F1FA275245&d=20180406',\n",
    "                         'https://bwf.tournamentsoftware.com/sport/matches.aspx?id=4D90062C-E87A-43EA-BAA1-15F1FA275245&d=20180407',\n",
    "                         'https://bwf.tournamentsoftware.com/sport/matches.aspx?id=4D90062C-E87A-43EA-BAA1-15F1FA275245&d=20180408']\n",
    "Tournament_Name = 'Finnish Open 2018'\n",
    "Tournament_Date = '20180405'\n",
    "gather_data(Tournament_match_links, Tournament_Name, Tournament_Date)"
   ]
  },
  {
   "cell_type": "code",
   "execution_count": 16,
   "metadata": {},
   "outputs": [
    {
     "name": "stderr",
     "output_type": "stream",
     "text": [
      "100%|██████████| 113/113 [00:00<00:00, 1978.85it/s]\n",
      "100%|██████████| 88/88 [00:00<00:00, 1479.02it/s]\n",
      "100%|██████████| 54/54 [00:00<00:00, 1914.41it/s]\n",
      "100%|██████████| 21/21 [00:00<00:00, 1659.95it/s]\n"
     ]
    },
    {
     "data": {
      "text/plain": [
       "'done'"
      ]
     },
     "execution_count": 16,
     "metadata": {},
     "output_type": "execute_result"
    }
   ],
   "source": [
    "Tournament_match_links = ['https://bwf.tournamentsoftware.com/sport/matches.aspx?id=D3D17CF2-A804-47F5-9684-7964691C88F5',\n",
    "                         'https://bwf.tournamentsoftware.com/sport/matches.aspx?id=D3D17CF2-A804-47F5-9684-7964691C88F5&d=20180406',\n",
    "                         'https://bwf.tournamentsoftware.com/sport/matches.aspx?id=D3D17CF2-A804-47F5-9684-7964691C88F5&d=20180407',\n",
    "                         'https://bwf.tournamentsoftware.com/sport/matches.aspx?id=D3D17CF2-A804-47F5-9684-7964691C88F5&d=20180408']\n",
    "Tournament_Name = 'Argentina International 2018'\n",
    "Tournament_Date = '20180405'\n",
    "gather_data(Tournament_match_links, Tournament_Name, Tournament_Date)"
   ]
  },
  {
   "cell_type": "code",
   "execution_count": 17,
   "metadata": {},
   "outputs": [
    {
     "name": "stderr",
     "output_type": "stream",
     "text": [
      "100%|██████████| 45/45 [00:00<00:00, 1644.37it/s]\n",
      "100%|██████████| 263/263 [00:00<00:00, 1848.08it/s]\n",
      "100%|██████████| 167/167 [00:00<00:00, 1672.64it/s]\n",
      "100%|██████████| 88/88 [00:00<00:00, 1914.79it/s]\n",
      "100%|██████████| 43/43 [00:00<00:00, 1931.99it/s]\n",
      "100%|██████████| 22/22 [00:00<00:00, 2107.26it/s]\n"
     ]
    },
    {
     "data": {
      "text/plain": [
       "'done'"
      ]
     },
     "execution_count": 17,
     "metadata": {},
     "output_type": "execute_result"
    }
   ],
   "source": [
    "Tournament_match_links = ['https://bwf.tournamentsoftware.com/sport/matches.aspx?id=6614E5F7-6C30-4791-BC52-F3FF17BECA38',\n",
    "                         'https://bwf.tournamentsoftware.com/sport/matches.aspx?id=6614E5F7-6C30-4791-BC52-F3FF17BECA38&d=20180411',\n",
    "                         'https://bwf.tournamentsoftware.com/sport/matches.aspx?id=6614E5F7-6C30-4791-BC52-F3FF17BECA38&d=20180412',\n",
    "                         'https://bwf.tournamentsoftware.com/sport/matches.aspx?id=6614E5F7-6C30-4791-BC52-F3FF17BECA38&d=20180413',\n",
    "                         'https://bwf.tournamentsoftware.com/sport/matches.aspx?id=6614E5F7-6C30-4791-BC52-F3FF17BECA38&d=20180414',\n",
    "                         'https://bwf.tournamentsoftware.com/sport/matches.aspx?id=6614E5F7-6C30-4791-BC52-F3FF17BECA38&d=20180415']\n",
    "Tournament_Name = 'Lingshui China Masters 2018'\n",
    "Tournament_Date = '20180410'\n",
    "gather_data(Tournament_match_links, Tournament_Name, Tournament_Date)"
   ]
  },
  {
   "cell_type": "code",
   "execution_count": 18,
   "metadata": {
    "collapsed": true
   },
   "outputs": [
    {
     "name": "stderr",
     "output_type": "stream",
     "text": [
      "  0%|          | 0/263 [00:00<?, ?it/s]\n"
     ]
    },
    {
     "ename": "IndexError",
     "evalue": "list index out of range",
     "output_type": "error",
     "traceback": [
      "\u001b[0;31m---------------------------------------------------------------------------\u001b[0m",
      "\u001b[0;31mIndexError\u001b[0m                                Traceback (most recent call last)",
      "\u001b[0;32m<ipython-input-18-b5e20c5befeb>\u001b[0m in \u001b[0;36m<module>\u001b[0;34m()\u001b[0m\n\u001b[1;32m      7\u001b[0m \u001b[0mTournament_Name\u001b[0m \u001b[0;34m=\u001b[0m \u001b[0;34m'Indonesia International Series 2018'\u001b[0m\u001b[0;34m\u001b[0m\u001b[0m\n\u001b[1;32m      8\u001b[0m \u001b[0mTournament_Date\u001b[0m \u001b[0;34m=\u001b[0m \u001b[0;34m'20180410'\u001b[0m\u001b[0;34m\u001b[0m\u001b[0m\n\u001b[0;32m----> 9\u001b[0;31m \u001b[0mgather_data\u001b[0m\u001b[0;34m(\u001b[0m\u001b[0mTournament_match_links\u001b[0m\u001b[0;34m,\u001b[0m \u001b[0mTournament_Name\u001b[0m\u001b[0;34m,\u001b[0m \u001b[0mTournament_Date\u001b[0m\u001b[0;34m)\u001b[0m\u001b[0;34m\u001b[0m\u001b[0m\n\u001b[0m",
      "\u001b[0;32m<ipython-input-3-4be28a33a010>\u001b[0m in \u001b[0;36mgather_data\u001b[0;34m(Tournament_match_links, Tournament_Name, Tournament_Date)\u001b[0m\n\u001b[1;32m     23\u001b[0m                 \u001b[0mplayer_list\u001b[0m\u001b[0;34m.\u001b[0m\u001b[0mappend\u001b[0m\u001b[0;34m(\u001b[0m\u001b[0mplayers\u001b[0m\u001b[0;34m)\u001b[0m\u001b[0;34m\u001b[0m\u001b[0m\n\u001b[1;32m     24\u001b[0m \u001b[0;34m\u001b[0m\u001b[0m\n\u001b[0;32m---> 25\u001b[0;31m                 \u001b[0mscore_rows\u001b[0m \u001b[0;34m=\u001b[0m \u001b[0mrow\u001b[0m\u001b[0;34m.\u001b[0m\u001b[0mfind_all\u001b[0m\u001b[0;34m(\u001b[0m\u001b[0;34m'span'\u001b[0m\u001b[0;34m,\u001b[0m \u001b[0;34m{\u001b[0m\u001b[0;34m'class'\u001b[0m \u001b[0;34m:\u001b[0m \u001b[0;34m'score'\u001b[0m\u001b[0;34m}\u001b[0m\u001b[0;34m)\u001b[0m\u001b[0;34m[\u001b[0m\u001b[0;36m0\u001b[0m\u001b[0;34m]\u001b[0m\u001b[0;34m.\u001b[0m\u001b[0mfind_all\u001b[0m\u001b[0;34m(\u001b[0m\u001b[0;34m'span'\u001b[0m\u001b[0;34m)\u001b[0m\u001b[0;34m\u001b[0m\u001b[0m\n\u001b[0m\u001b[1;32m     26\u001b[0m                 \u001b[0mscores\u001b[0m \u001b[0;34m=\u001b[0m \u001b[0;34m[\u001b[0m\u001b[0;34m]\u001b[0m\u001b[0;34m\u001b[0m\u001b[0m\n\u001b[1;32m     27\u001b[0m                 \u001b[0;32mfor\u001b[0m \u001b[0mscore\u001b[0m \u001b[0;32min\u001b[0m \u001b[0mscore_rows\u001b[0m\u001b[0;34m:\u001b[0m\u001b[0;34m\u001b[0m\u001b[0m\n",
      "\u001b[0;31mIndexError\u001b[0m: list index out of range"
     ]
    }
   ],
   "source": [
    "Tournament_match_links = ['https://bwf.tournamentsoftware.com/sport/matches.aspx?id=33F2CE56-0C0B-4DCD-9541-EAB40F8AB558',\n",
    "                         'https://bwf.tournamentsoftware.com/sport/matches.aspx?id=33F2CE56-0C0B-4DCD-9541-EAB40F8AB558&d=20180411',\n",
    "                         'https://bwf.tournamentsoftware.com/sport/matches.aspx?id=33F2CE56-0C0B-4DCD-9541-EAB40F8AB558&d=20180412',\n",
    "                         'https://bwf.tournamentsoftware.com/sport/matches.aspx?id=33F2CE56-0C0B-4DCD-9541-EAB40F8AB558&d=20180413',\n",
    "                         'https://bwf.tournamentsoftware.com/sport/matches.aspx?id=33F2CE56-0C0B-4DCD-9541-EAB40F8AB558&d=20180414',\n",
    "                         'https://bwf.tournamentsoftware.com/sport/matches.aspx?id=33F2CE56-0C0B-4DCD-9541-EAB40F8AB558&d=20180415']\n",
    "Tournament_Name = 'Indonesia International Series 2018'\n",
    "Tournament_Date = '20180410'\n",
    "gather_data(Tournament_match_links, Tournament_Name, Tournament_Date)"
   ]
  },
  {
   "cell_type": "code",
   "execution_count": 19,
   "metadata": {},
   "outputs": [
    {
     "name": "stderr",
     "output_type": "stream",
     "text": [
      "100%|██████████| 119/119 [00:00<00:00, 1430.53it/s]\n",
      "100%|██████████| 150/150 [00:00<00:00, 1878.48it/s]\n",
      "100%|██████████| 130/130 [00:00<00:00, 1746.00it/s]\n",
      "100%|██████████| 22/22 [00:00<00:00, 2186.66it/s]\n"
     ]
    },
    {
     "data": {
      "text/plain": [
       "'done'"
      ]
     },
     "execution_count": 19,
     "metadata": {},
     "output_type": "execute_result"
    }
   ],
   "source": [
    "Tournament_match_links = ['https://bwf.tournamentsoftware.com/sport/matches.aspx?id=6DDE4362-918B-46BA-880D-BD7B9711DE46',\n",
    "                         'https://bwf.tournamentsoftware.com/sport/matches.aspx?id=6DDE4362-918B-46BA-880D-BD7B9711DE46&d=20180413',\n",
    "                         'https://bwf.tournamentsoftware.com/sport/matches.aspx?id=6DDE4362-918B-46BA-880D-BD7B9711DE46&d=20180414',\n",
    "                         'https://bwf.tournamentsoftware.com/sport/matches.aspx?id=6DDE4362-918B-46BA-880D-BD7B9711DE46&d=20180415']\n",
    "Tournament_Name = 'Dutch International 2018'\n",
    "Tournament_Date = '20180412'\n",
    "gather_data(Tournament_match_links, Tournament_Name, Tournament_Date)\n"
   ]
  },
  {
   "cell_type": "code",
   "execution_count": 20,
   "metadata": {},
   "outputs": [
    {
     "name": "stderr",
     "output_type": "stream",
     "text": [
      "100%|██████████| 278/278 [00:00<00:00, 1733.07it/s]\n",
      "100%|██████████| 336/336 [00:00<00:00, 1915.15it/s]\n",
      "100%|██████████| 168/168 [00:00<00:00, 1912.87it/s]\n",
      "100%|██████████| 87/87 [00:00<00:00, 2149.95it/s]\n",
      "100%|██████████| 44/44 [00:00<00:00, 1608.71it/s]\n",
      "100%|██████████| 22/22 [00:00<00:00, 1639.21it/s]\n"
     ]
    },
    {
     "data": {
      "text/plain": [
       "'done'"
      ]
     },
     "execution_count": 20,
     "metadata": {},
     "output_type": "execute_result"
    }
   ],
   "source": [
    "Tournament_match_links = ['https://bwf.tournamentsoftware.com/sport/matches.aspx?id=15241A4B-59CF-40AA-A932-4734F42B89B4',\n",
    "                         'https://bwf.tournamentsoftware.com/sport/matches.aspx?id=15241A4B-59CF-40AA-A932-4734F42B89B4&d=20180418',\n",
    "                         'https://bwf.tournamentsoftware.com/sport/matches.aspx?id=15241A4B-59CF-40AA-A932-4734F42B89B4&d=20180419',\n",
    "                         'https://bwf.tournamentsoftware.com/sport/matches.aspx?id=15241A4B-59CF-40AA-A932-4734F42B89B4&d=20180420',\n",
    "                         'https://bwf.tournamentsoftware.com/sport/matches.aspx?id=15241A4B-59CF-40AA-A932-4734F42B89B4&d=20180421',\n",
    "                         'https://bwf.tournamentsoftware.com/sport/matches.aspx?id=15241A4B-59CF-40AA-A932-4734F42B89B4&d=20180422']\n",
    "Tournament_Name = 'Malaysia International Challenge 2018'\n",
    "Tournament_Date = '20180417'\n",
    "gather_data(Tournament_match_links, Tournament_Name, Tournament_Date)"
   ]
  },
  {
   "cell_type": "code",
   "execution_count": 21,
   "metadata": {},
   "outputs": [
    {
     "name": "stderr",
     "output_type": "stream",
     "text": [
      "100%|██████████| 29/29 [00:00<00:00, 2466.59it/s]\n",
      "100%|██████████| 369/369 [00:00<00:00, 1961.18it/s]\n",
      "100%|██████████| 126/126 [00:00<00:00, 2032.42it/s]\n",
      "100%|██████████| 22/22 [00:00<00:00, 2278.39it/s]\n"
     ]
    },
    {
     "data": {
      "text/plain": [
       "'done'"
      ]
     },
     "execution_count": 21,
     "metadata": {},
     "output_type": "execute_result"
    }
   ],
   "source": [
    "Tournament_match_links = ['https://bwf.tournamentsoftware.com/sport/matches.aspx?id=65DEEE82-EC2B-4DE0-8200-B572FE5C5ADF',\n",
    "                         'https://bwf.tournamentsoftware.com/sport/matches.aspx?id=65DEEE82-EC2B-4DE0-8200-B572FE5C5ADF&d=20180420',\n",
    "                         'https://bwf.tournamentsoftware.com/sport/matches.aspx?id=65DEEE82-EC2B-4DE0-8200-B572FE5C5ADF&d=20180421',\n",
    "                         'https://bwf.tournamentsoftware.com/sport/matches.aspx?id=65DEEE82-EC2B-4DE0-8200-B572FE5C5ADF&d=20180422']\n",
    "Tournament_Name = 'Hellas International 2018'\n",
    "Tournament_Date = '20180419'\n",
    "gather_data(Tournament_match_links, Tournament_Name, Tournament_Date)"
   ]
  },
  {
   "cell_type": "code",
   "execution_count": 22,
   "metadata": {},
   "outputs": [
    {
     "name": "stderr",
     "output_type": "stream",
     "text": [
      "100%|██████████| 177/177 [00:00<00:00, 1994.29it/s]\n",
      "100%|██████████| 260/260 [00:00<00:00, 1859.54it/s]\n",
      "100%|██████████| 172/172 [00:00<00:00, 1992.96it/s]\n",
      "100%|██████████| 88/88 [00:00<00:00, 2152.33it/s]\n",
      "100%|██████████| 44/44 [00:00<00:00, 1920.31it/s]\n",
      "100%|██████████| 22/22 [00:00<00:00, 2170.25it/s]\n"
     ]
    },
    {
     "data": {
      "text/plain": [
       "'done'"
      ]
     },
     "execution_count": 22,
     "metadata": {},
     "output_type": "execute_result"
    }
   ],
   "source": [
    "Tournament_match_links = ['https://bwf.tournamentsoftware.com/sport/matches.aspx?id=FC3BF9CF-E75E-4D3A-800A-1B12F3156710',\n",
    "                         'https://bwf.tournamentsoftware.com/sport/matches.aspx?id=FC3BF9CF-E75E-4D3A-800A-1B12F3156710&d=20180425',\n",
    "                         'https://bwf.tournamentsoftware.com/sport/matches.aspx?id=FC3BF9CF-E75E-4D3A-800A-1B12F3156710&d=20180426',\n",
    "                         'https://bwf.tournamentsoftware.com/sport/matches.aspx?id=FC3BF9CF-E75E-4D3A-800A-1B12F3156710&d=20180427',\n",
    "                         'https://bwf.tournamentsoftware.com/sport/matches.aspx?id=FC3BF9CF-E75E-4D3A-800A-1B12F3156710&d=20180428',\n",
    "                         'https://bwf.tournamentsoftware.com/sport/matches.aspx?id=FC3BF9CF-E75E-4D3A-800A-1B12F3156710&d=20180429']\n",
    "Tournament_Name = '2018 European Championships'\n",
    "Tournament_Date = '20180424'\n",
    "gather_data(Tournament_match_links, Tournament_Name, Tournament_Date)"
   ]
  },
  {
   "cell_type": "code",
   "execution_count": 23,
   "metadata": {},
   "outputs": [
    {
     "name": "stderr",
     "output_type": "stream",
     "text": [
      "100%|██████████| 99/99 [00:00<00:00, 1933.93it/s]\n",
      "100%|██████████| 331/331 [00:00<00:00, 1837.73it/s]\n",
      "100%|██████████| 34/34 [00:00<00:00, 2155.44it/s]\n",
      "100%|██████████| 88/88 [00:00<00:00, 2061.99it/s]\n",
      "100%|██████████| 44/44 [00:00<00:00, 1997.09it/s]\n",
      "100%|██████████| 22/22 [00:00<00:00, 2040.66it/s]\n"
     ]
    },
    {
     "data": {
      "text/plain": [
       "'done'"
      ]
     },
     "execution_count": 23,
     "metadata": {},
     "output_type": "execute_result"
    }
   ],
   "source": [
    "Tournament_match_links = ['https://bwf.tournamentsoftware.com/sport/matches.aspx?id=0465918A-459C-48F8-BC12-70F18B5EAF67',\n",
    "                         'https://bwf.tournamentsoftware.com/sport/matches.aspx?id=0465918A-459C-48F8-BC12-70F18B5EAF67&d=20180425',\n",
    "                         'https://bwf.tournamentsoftware.com/sport/matches.aspx?id=0465918A-459C-48F8-BC12-70F18B5EAF67&d=20180426',\n",
    "                         'https://bwf.tournamentsoftware.com/sport/matches.aspx?id=0465918A-459C-48F8-BC12-70F18B5EAF67&d=20180427',\n",
    "                         'https://bwf.tournamentsoftware.com/sport/matches.aspx?id=0465918A-459C-48F8-BC12-70F18B5EAF67&d=20180428',\n",
    "                         'https://bwf.tournamentsoftware.com/sport/matches.aspx?id=0465918A-459C-48F8-BC12-70F18B5EAF67&d=20180429']\n",
    "Tournament_Name = 'Asia Championships 2018'\n",
    "Tournament_Date = '20180424'\n",
    "gather_data(Tournament_match_links, Tournament_Name, Tournament_Date)"
   ]
  },
  {
   "cell_type": "code",
   "execution_count": 24,
   "metadata": {},
   "outputs": [
    {
     "name": "stderr",
     "output_type": "stream",
     "text": [
      "100%|██████████| 266/266 [00:00<00:00, 1611.50it/s]\n",
      "100%|██████████| 252/252 [00:00<00:00, 1515.30it/s]\n",
      "100%|██████████| 44/44 [00:00<00:00, 869.24it/s]\n",
      "100%|██████████| 22/22 [00:00<00:00, 1403.52it/s]\n"
     ]
    },
    {
     "data": {
      "text/plain": [
       "'done'"
      ]
     },
     "execution_count": 24,
     "metadata": {},
     "output_type": "execute_result"
    }
   ],
   "source": [
    "Tournament_match_links = ['https://bwf.tournamentsoftware.com/sport/matches.aspx?id=0239669F-C006-445B-B760-FD9631CA3DF1',\n",
    "                         'https://bwf.tournamentsoftware.com/sport/matches.aspx?id=0239669F-C006-445B-B760-FD9631CA3DF1&d=20180427',\n",
    "                         'https://bwf.tournamentsoftware.com/sport/matches.aspx?id=0239669F-C006-445B-B760-FD9631CA3DF1&d=20180428',\n",
    "                         'https://bwf.tournamentsoftware.com/sport/matches.aspx?id=0239669F-C006-445B-B760-FD9631CA3DF1&d=20180429']\n",
    "Tournament_Name = 'Pan Am Individual Championships 2018'\n",
    "Tournament_Date = '20180426'\n",
    "gather_data(Tournament_match_links, Tournament_Name, Tournament_Date)"
   ]
  },
  {
   "cell_type": "code",
   "execution_count": 25,
   "metadata": {},
   "outputs": [
    {
     "name": "stderr",
     "output_type": "stream",
     "text": [
      "100%|██████████| 148/148 [00:00<00:00, 941.08it/s] \n",
      "100%|██████████| 246/246 [00:00<00:00, 1408.04it/s]\n",
      "100%|██████████| 168/168 [00:00<00:00, 1846.33it/s]\n",
      "100%|██████████| 87/87 [00:00<00:00, 2081.88it/s]\n",
      "100%|██████████| 44/44 [00:00<00:00, 2088.37it/s]\n",
      "100%|██████████| 22/22 [00:00<00:00, 1752.57it/s]\n"
     ]
    },
    {
     "data": {
      "text/plain": [
       "'done'"
      ]
     },
     "execution_count": 25,
     "metadata": {},
     "output_type": "execute_result"
    }
   ],
   "source": [
    "Tournament_match_links = ['https://bwf.tournamentsoftware.com/sport/matches.aspx?id=616C1742-BE40-434A-B9FC-2F30B0C5F395',\n",
    "                         'https://bwf.tournamentsoftware.com/sport/matches.aspx?id=616C1742-BE40-434A-B9FC-2F30B0C5F395&d=20180502',\n",
    "                         'https://bwf.tournamentsoftware.com/sport/matches.aspx?id=616C1742-BE40-434A-B9FC-2F30B0C5F395&d=20180503',\n",
    "                         'https://bwf.tournamentsoftware.com/sport/matches.aspx?id=616C1742-BE40-434A-B9FC-2F30B0C5F395&d=20180504',\n",
    "                         'https://bwf.tournamentsoftware.com/sport/matches.aspx?id=616C1742-BE40-434A-B9FC-2F30B0C5F395&d=20180505',\n",
    "                         'https://bwf.tournamentsoftware.com/sport/matches.aspx?id=616C1742-BE40-434A-B9FC-2F30B0C5F395&d=20180506']\n",
    "Tournament_Name = 'New Zealand Open 2018'\n",
    "Tournament_Date = '20180501'\n",
    "gather_data(Tournament_match_links, Tournament_Name, Tournament_Date)"
   ]
  },
  {
   "cell_type": "code",
   "execution_count": 26,
   "metadata": {},
   "outputs": [
    {
     "name": "stderr",
     "output_type": "stream",
     "text": [
      "100%|██████████| 148/148 [00:00<00:00, 1935.07it/s]\n",
      "100%|██████████| 231/231 [00:00<00:00, 1782.78it/s]\n",
      "100%|██████████| 163/163 [00:00<00:00, 1468.73it/s]\n",
      "100%|██████████| 87/87 [00:00<00:00, 1723.08it/s]\n",
      "100%|██████████| 44/44 [00:00<00:00, 1997.46it/s]\n",
      "100%|██████████| 22/22 [00:00<00:00, 2220.17it/s]\n"
     ]
    },
    {
     "data": {
      "text/plain": [
       "'done'"
      ]
     },
     "execution_count": 26,
     "metadata": {},
     "output_type": "execute_result"
    }
   ],
   "source": [
    "Tournament_match_links = ['https://bwf.tournamentsoftware.com/sport/matches.aspx?id=0B2351D8-4D29-4E7A-B3DB-8CBF2E65CF32',\n",
    "                         'https://bwf.tournamentsoftware.com/sport/matches.aspx?id=0B2351D8-4D29-4E7A-B3DB-8CBF2E65CF32&d=20180509',\n",
    "                         'https://bwf.tournamentsoftware.com/sport/matches.aspx?id=0B2351D8-4D29-4E7A-B3DB-8CBF2E65CF32&d=20180510',\n",
    "                         'https://bwf.tournamentsoftware.com/sport/matches.aspx?id=0B2351D8-4D29-4E7A-B3DB-8CBF2E65CF32&d=20180511',\n",
    "                         'https://bwf.tournamentsoftware.com/sport/matches.aspx?id=0B2351D8-4D29-4E7A-B3DB-8CBF2E65CF32&d=20180512',\n",
    "                         'https://bwf.tournamentsoftware.com/sport/matches.aspx?id=0B2351D8-4D29-4E7A-B3DB-8CBF2E65CF32&d=20180513']\n",
    "Tournament_Name = 'Australian Open 2018'\n",
    "Tournament_Date = '20180508'\n",
    "gather_data(Tournament_match_links, Tournament_Name, Tournament_Date)"
   ]
  },
  {
   "cell_type": "code",
   "execution_count": 27,
   "metadata": {},
   "outputs": [
    {
     "name": "stderr",
     "output_type": "stream",
     "text": [
      "100%|██████████| 95/95 [00:00<00:00, 1723.70it/s]\n",
      "100%|██████████| 136/136 [00:00<00:00, 829.92it/s]\n",
      "100%|██████████| 130/130 [00:00<00:00, 2046.22it/s]\n",
      "100%|██████████| 22/22 [00:00<00:00, 1685.07it/s]\n"
     ]
    },
    {
     "data": {
      "text/plain": [
       "'done'"
      ]
     },
     "execution_count": 27,
     "metadata": {},
     "output_type": "execute_result"
    }
   ],
   "source": [
    "Tournament_match_links = ['https://bwf.tournamentsoftware.com/sport/matches.aspx?id=0FB7BF01-B2B3-400B-918D-F72A077A062A',\n",
    "                         'https://bwf.tournamentsoftware.com/sport/matches.aspx?id=0FB7BF01-B2B3-400B-918D-F72A077A062A&d=20180511',\n",
    "                         'https://bwf.tournamentsoftware.com/sport/matches.aspx?id=0FB7BF01-B2B3-400B-918D-F72A077A062A&d=20180512',\n",
    "                         'https://bwf.tournamentsoftware.com/sport/matches.aspx?id=0FB7BF01-B2B3-400B-918D-F72A077A062A&d=20180513']\n",
    "Tournament_Name = 'Slovenia International 2018'\n",
    "Tournament_Date = '20180510'\n",
    "gather_data(Tournament_match_links, Tournament_Name, Tournament_Date)"
   ]
  },
  {
   "cell_type": "code",
   "execution_count": 28,
   "metadata": {
    "collapsed": true
   },
   "outputs": [
    {
     "name": "stderr",
     "output_type": "stream",
     "text": [
      "  0%|          | 0/217 [00:00<?, ?it/s]\n"
     ]
    },
    {
     "ename": "IndexError",
     "evalue": "list index out of range",
     "output_type": "error",
     "traceback": [
      "\u001b[0;31m---------------------------------------------------------------------------\u001b[0m",
      "\u001b[0;31mIndexError\u001b[0m                                Traceback (most recent call last)",
      "\u001b[0;32m<ipython-input-28-34b32ffa9c63>\u001b[0m in \u001b[0;36m<module>\u001b[0;34m()\u001b[0m\n\u001b[1;32m      5\u001b[0m \u001b[0mTournament_Name\u001b[0m \u001b[0;34m=\u001b[0m \u001b[0;34m'Perú Future Series 2018'\u001b[0m\u001b[0;34m\u001b[0m\u001b[0m\n\u001b[1;32m      6\u001b[0m \u001b[0mTournament_Date\u001b[0m \u001b[0;34m=\u001b[0m \u001b[0;34m'20180517'\u001b[0m\u001b[0;34m\u001b[0m\u001b[0m\n\u001b[0;32m----> 7\u001b[0;31m \u001b[0mgather_data\u001b[0m\u001b[0;34m(\u001b[0m\u001b[0mTournament_match_links\u001b[0m\u001b[0;34m,\u001b[0m \u001b[0mTournament_Name\u001b[0m\u001b[0;34m,\u001b[0m \u001b[0mTournament_Date\u001b[0m\u001b[0;34m)\u001b[0m\u001b[0;34m\u001b[0m\u001b[0m\n\u001b[0m",
      "\u001b[0;32m<ipython-input-3-4be28a33a010>\u001b[0m in \u001b[0;36mgather_data\u001b[0;34m(Tournament_match_links, Tournament_Name, Tournament_Date)\u001b[0m\n\u001b[1;32m     23\u001b[0m                 \u001b[0mplayer_list\u001b[0m\u001b[0;34m.\u001b[0m\u001b[0mappend\u001b[0m\u001b[0;34m(\u001b[0m\u001b[0mplayers\u001b[0m\u001b[0;34m)\u001b[0m\u001b[0;34m\u001b[0m\u001b[0m\n\u001b[1;32m     24\u001b[0m \u001b[0;34m\u001b[0m\u001b[0m\n\u001b[0;32m---> 25\u001b[0;31m                 \u001b[0mscore_rows\u001b[0m \u001b[0;34m=\u001b[0m \u001b[0mrow\u001b[0m\u001b[0;34m.\u001b[0m\u001b[0mfind_all\u001b[0m\u001b[0;34m(\u001b[0m\u001b[0;34m'span'\u001b[0m\u001b[0;34m,\u001b[0m \u001b[0;34m{\u001b[0m\u001b[0;34m'class'\u001b[0m \u001b[0;34m:\u001b[0m \u001b[0;34m'score'\u001b[0m\u001b[0;34m}\u001b[0m\u001b[0;34m)\u001b[0m\u001b[0;34m[\u001b[0m\u001b[0;36m0\u001b[0m\u001b[0;34m]\u001b[0m\u001b[0;34m.\u001b[0m\u001b[0mfind_all\u001b[0m\u001b[0;34m(\u001b[0m\u001b[0;34m'span'\u001b[0m\u001b[0;34m)\u001b[0m\u001b[0;34m\u001b[0m\u001b[0m\n\u001b[0m\u001b[1;32m     26\u001b[0m                 \u001b[0mscores\u001b[0m \u001b[0;34m=\u001b[0m \u001b[0;34m[\u001b[0m\u001b[0;34m]\u001b[0m\u001b[0;34m\u001b[0m\u001b[0m\n\u001b[1;32m     27\u001b[0m                 \u001b[0;32mfor\u001b[0m \u001b[0mscore\u001b[0m \u001b[0;32min\u001b[0m \u001b[0mscore_rows\u001b[0m\u001b[0;34m:\u001b[0m\u001b[0;34m\u001b[0m\u001b[0m\n",
      "\u001b[0;31mIndexError\u001b[0m: list index out of range"
     ]
    }
   ],
   "source": [
    "Tournament_match_links = ['https://bwf.tournamentsoftware.com/sport/matches.aspx?id=526370FE-99E9-4639-9C94-7C8C9D874BB0',\n",
    "                         'https://bwf.tournamentsoftware.com/sport/matches.aspx?id=526370FE-99E9-4639-9C94-7C8C9D874BB0&d=20180518',\n",
    "                         'https://bwf.tournamentsoftware.com/sport/matches.aspx?id=526370FE-99E9-4639-9C94-7C8C9D874BB0&d=20180519',\n",
    "                         'https://bwf.tournamentsoftware.com/sport/matches.aspx?id=526370FE-99E9-4639-9C94-7C8C9D874BB0&d=20180520']\n",
    "Tournament_Name = 'Perú Future Series 2018'\n",
    "Tournament_Date = '20180517'\n",
    "gather_data(Tournament_match_links, Tournament_Name, Tournament_Date)"
   ]
  },
  {
   "cell_type": "code",
   "execution_count": 31,
   "metadata": {},
   "outputs": [
    {
     "name": "stderr",
     "output_type": "stream",
     "text": [
      "100%|██████████| 448/448 [00:00<00:00, 1815.74it/s]\n",
      "100%|██████████| 424/424 [00:00<00:00, 1845.92it/s]\n",
      "100%|██████████| 88/88 [00:00<00:00, 2231.30it/s]\n",
      "100%|██████████| 66/66 [00:00<00:00, 2120.02it/s]\n"
     ]
    },
    {
     "data": {
      "text/plain": [
       "'done'"
      ]
     },
     "execution_count": 31,
     "metadata": {},
     "output_type": "execute_result"
    }
   ],
   "source": [
    "Tournament_match_links = ['https://bwf.tournamentsoftware.com/sport/matches.aspx?id=3D145086-0B96-4C4E-A59D-B6F85584F367',\n",
    "                         'https://bwf.tournamentsoftware.com/sport/matches.aspx?id=3D145086-0B96-4C4E-A59D-B6F85584F367&d=20180601',\n",
    "                         'https://bwf.tournamentsoftware.com/sport/matches.aspx?id=3D145086-0B96-4C4E-A59D-B6F85584F367&d=20180602',\n",
    "                         'https://bwf.tournamentsoftware.com/sport/matches.aspx?id=3D145086-0B96-4C4E-A59D-B6F85584F367&d=20180603']\n",
    "Tournament_Name = 'Latvia International 2018'\n",
    "Tournament_Date = '20180531'\n",
    "gather_data(Tournament_match_links, Tournament_Name, Tournament_Date)"
   ]
  },
  {
   "cell_type": "code",
   "execution_count": 29,
   "metadata": {},
   "outputs": [
    {
     "name": "stderr",
     "output_type": "stream",
     "text": [
      "100%|██████████| 165/165 [00:00<00:00, 1565.03it/s]\n",
      "100%|██████████| 141/141 [00:00<00:00, 1952.31it/s]\n",
      "100%|██████████| 110/110 [00:00<00:00, 2087.76it/s]\n",
      "100%|██████████| 22/22 [00:00<00:00, 2027.08it/s]\n"
     ]
    },
    {
     "data": {
      "text/plain": [
       "'done'"
      ]
     },
     "execution_count": 29,
     "metadata": {},
     "output_type": "execute_result"
    }
   ],
   "source": [
    "Tournament_match_links = ['https://bwf.tournamentsoftware.com/sport/matches.aspx?id=4607792C-8230-4286-978C-8C744D31B950&d=20180607',\n",
    "                         'https://bwf.tournamentsoftware.com/sport/matches.aspx?id=4607792C-8230-4286-978C-8C744D31B950&d=20180608',\n",
    "                         'https://bwf.tournamentsoftware.com/sport/matches.aspx?id=4607792C-8230-4286-978C-8C744D31B950&d=20180609',\n",
    "                         'https://bwf.tournamentsoftware.com/sport/matches.aspx?id=4607792C-8230-4286-978C-8C744D31B950&d=20180610']\n",
    "Tournament_Name = 'Mauritius International 2018'\n",
    "Tournament_Date = '20180607'\n",
    "gather_data(Tournament_match_links, Tournament_Name, Tournament_Date)"
   ]
  },
  {
   "cell_type": "code",
   "execution_count": 30,
   "metadata": {},
   "outputs": [
    {
     "name": "stderr",
     "output_type": "stream",
     "text": [
      "100%|██████████| 424/424 [00:00<00:00, 1861.07it/s]\n",
      "100%|██████████| 424/424 [00:00<00:00, 1888.24it/s]\n",
      "100%|██████████| 88/88 [00:00<00:00, 2185.79it/s]\n",
      "100%|██████████| 61/61 [00:00<00:00, 2229.28it/s]\n"
     ]
    },
    {
     "data": {
      "text/plain": [
       "'done'"
      ]
     },
     "execution_count": 30,
     "metadata": {},
     "output_type": "execute_result"
    }
   ],
   "source": [
    "Tournament_match_links = ['https://bwf.tournamentsoftware.com/sport/matches.aspx?id=06CB199C-A45E-4B8F-90BA-B0780D19EB28&d=20180607',\n",
    "                         'https://bwf.tournamentsoftware.com/sport/matches.aspx?id=06CB199C-A45E-4B8F-90BA-B0780D19EB28&d=20180608',\n",
    "                         'https://bwf.tournamentsoftware.com/sport/matches.aspx?id=06CB199C-A45E-4B8F-90BA-B0780D19EB28&d=20180609',\n",
    "                         'https://bwf.tournamentsoftware.com/sport/matches.aspx?id=06CB199C-A45E-4B8F-90BA-B0780D19EB28&d=20180610']\n",
    "Tournament_Name = 'Lithuanian International 2018'\n",
    "Tournament_Date = '20180607'\n",
    "gather_data(Tournament_match_links, Tournament_Name, Tournament_Date)"
   ]
  },
  {
   "cell_type": "code",
   "execution_count": null,
   "metadata": {
    "collapsed": true
   },
   "outputs": [],
   "source": [
    "Tournament_match_links = []\n",
    "Tournament_Name = ''\n",
    "Tournament_Date = ''"
   ]
  },
  {
   "cell_type": "code",
   "execution_count": null,
   "metadata": {
    "collapsed": true
   },
   "outputs": [],
   "source": [
    "Tournament_match_links = []\n",
    "Tournament_Name = ''\n",
    "Tournament_Date = ''"
   ]
  },
  {
   "cell_type": "code",
   "execution_count": null,
   "metadata": {
    "collapsed": true
   },
   "outputs": [],
   "source": [
    "Tournament_match_links = []\n",
    "Tournament_Name = ''\n",
    "Tournament_Date = ''"
   ]
  },
  {
   "cell_type": "code",
   "execution_count": null,
   "metadata": {
    "collapsed": true
   },
   "outputs": [],
   "source": [
    "Tournament_match_links = []\n",
    "Tournament_Name = ''\n",
    "Tournament_Date = ''"
   ]
  },
  {
   "cell_type": "code",
   "execution_count": null,
   "metadata": {
    "collapsed": true
   },
   "outputs": [],
   "source": [
    "Tournament_match_links = []\n",
    "Tournament_Name = ''\n",
    "Tournament_Date = ''"
   ]
  },
  {
   "cell_type": "code",
   "execution_count": null,
   "metadata": {
    "collapsed": true
   },
   "outputs": [],
   "source": []
  },
  {
   "cell_type": "code",
   "execution_count": null,
   "metadata": {
    "collapsed": true
   },
   "outputs": [],
   "source": []
  }
 ],
 "metadata": {
  "kernelspec": {
   "display_name": "Python 3",
   "language": "python",
   "name": "python3"
  },
  "language_info": {
   "codemirror_mode": {
    "name": "ipython",
    "version": 3
   },
   "file_extension": ".py",
   "mimetype": "text/x-python",
   "name": "python",
   "nbconvert_exporter": "python",
   "pygments_lexer": "ipython3",
   "version": "3.6.1"
  }
 },
 "nbformat": 4,
 "nbformat_minor": 2
}
