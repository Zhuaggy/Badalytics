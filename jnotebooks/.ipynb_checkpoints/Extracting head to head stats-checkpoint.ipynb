{
 "cells": [
  {
   "cell_type": "markdown",
   "metadata": {},
   "source": [
    "# Create Badminton Rankings"
   ]
  },
  {
   "cell_type": "markdown",
   "metadata": {},
   "source": [
    "Create a dictionary for each event that records the ELO ranking of each player/pair\n",
    "We'll attempt several different ELO ranking algorithms and attempt to test them on upcoming tournaments to evaluate accuracy"
   ]
  },
  {
   "cell_type": "markdown",
   "metadata": {},
   "source": [
    "### Grab some save data "
   ]
  },
  {
   "cell_type": "code",
   "execution_count": 17,
   "metadata": {},
   "outputs": [],
   "source": [
    "import pandas as pd\n",
    "from tqdm import tqdm\n",
    "import re\n",
    "pd.options.mode.chained_assignment = None "
   ]
  },
  {
   "cell_type": "code",
   "execution_count": 18,
   "metadata": {},
   "outputs": [
    {
     "name": "stderr",
     "output_type": "stream",
     "text": [
      "c:\\users\\andrew.zhuang\\appdata\\local\\programs\\python\\python36\\lib\\site-packages\\pandas\\core\\frame.py:6211: FutureWarning: Sorting because non-concatenation axis is not aligned. A future version\n",
      "of pandas will change to not sort by default.\n",
      "\n",
      "To accept the future behavior, pass 'sort=False'.\n",
      "\n",
      "To retain the current behavior and silence the warning, pass 'sort=True'.\n",
      "\n",
      "  sort=sort)\n"
     ]
    }
   ],
   "source": [
    "# Join the files\n",
    "df = pd.DataFrame()\n",
    "import glob\n",
    "\n",
    "\n",
    "for filename in glob.glob('./2018 Tournaments/*.csv'):\n",
    "    df_temp = pd.read_csv(filename)\n",
    "    del df_temp['Unnamed: 0']\n",
    "    df = df.append(df_temp)\n",
    "\n",
    "for filename in glob.glob('./2017 Tournaments/*.csv'):\n",
    "    df_temp = pd.read_csv(filename)\n",
    "    del df_temp['Unnamed: 0']\n",
    "    df = df.append(df_temp)\n",
    "    \n",
    "df = df.reset_index()\n",
    "del df['index']\n"
   ]
  },
  {
   "cell_type": "markdown",
   "metadata": {},
   "source": [
    "### Create and populate dictionary for each event"
   ]
  },
  {
   "cell_type": "code",
   "execution_count": 19,
   "metadata": {},
   "outputs": [],
   "source": [
    "def filter_name(string):\n",
    "    del_chars = ['[',']','1','2','3','4','5','6','7','8','9','0']\n",
    "    return_string = string\n",
    "    for char in string:\n",
    "        if char in del_chars:\n",
    "            return_string = return_string.replace(char,'')\n",
    "    \n",
    "    return_string = return_string.strip()\n",
    "    return (return_string)"
   ]
  },
  {
   "cell_type": "code",
   "execution_count": 20,
   "metadata": {},
   "outputs": [],
   "source": [
    "#Take in line, player team you want to extract and singles or doubles\n",
    "def split_players(x,player_num,s_or_d):\n",
    "    #Need to filter out using regex\n",
    "    return_val = re.findall(\"'(.*?)'\",x)\n",
    "    \n",
    "    #Singles\n",
    "    if s_or_d == 's':\n",
    "        #only if there are two opponents\n",
    "        if len(return_val) == 2 and player_num <= 1:\n",
    "            for i in range(len(return_val)):\n",
    "                return_val[i] = filter_name(return_val[i])\n",
    "            return (return_val[player_num])\n",
    "        else:\n",
    "            return ('no opponent')\n",
    "    \n",
    "    #Doubles\n",
    "    if s_or_d == 'd':\n",
    "        #only if position exists\n",
    "        if len(return_val) == 4 and player_num <= 1:\n",
    "            for i in range(len(return_val)):\n",
    "                return_val[i] = filter_name(return_val[i])\n",
    "            #sort names alphbetically\n",
    "            ret_list = sorted([return_val[player_num*2],return_val[player_num*2 + 1]])\n",
    "            ret_str = filter_name(ret_list[0]) + ',' + ret_list[1]\n",
    "            return (ret_str)\n",
    "        else:\n",
    "            return ('no opponent')"
   ]
  },
  {
   "cell_type": "code",
   "execution_count": 21,
   "metadata": {},
   "outputs": [],
   "source": [
    "import trueskill\n",
    "\n",
    "#This function will create a dictionary with trueskill rankings for each player\n",
    "def create_TS_event_dict(df):\n",
    "    temp_dict = {}\n",
    "    temp_set = set()\n",
    "    for player in df['WINNER'].values:\n",
    "        temp_set.add(player)\n",
    "    for player in df['LOSER'].values:\n",
    "        temp_set.add(player)\n",
    "    \n",
    "    for player in temp_set:\n",
    "        temp_dict[player] = trueskill.Rating()\n",
    "    return (temp_dict)"
   ]
  },
  {
   "cell_type": "code",
   "execution_count": 22,
   "metadata": {},
   "outputs": [],
   "source": [
    "#This function will update Trueskill rankings in dictionary based on match dataframe\n",
    "def update_TS_ratings(event_df, event_dict):\n",
    "    for i in tqdm(range(len(event_df))):\n",
    "        winner = event_df.iloc[i]['WINNER']\n",
    "        loser = event_df.iloc[i]['LOSER']\n",
    "        event_dict[winner], event_dict[loser] = trueskill.rate_1vs1(event_dict[winner],event_dict[loser])\n",
    "    return (event_dict)"
   ]
  },
  {
   "cell_type": "code",
   "execution_count": 23,
   "metadata": {
    "scrolled": true
   },
   "outputs": [],
   "source": [
    "#This will display the rankings in a dataframe for a specific event dictionary\n",
    "def get_rankings(event_dict):\n",
    "\n",
    "    player_list = []\n",
    "    rating = []\n",
    "\n",
    "    for player in event_dict:\n",
    "        player_list.append(player)\n",
    "        rating.append(trueskill.expose(event_dict[player]))\n",
    "\n",
    "    df_ratings = pd.DataFrame()\n",
    "    df_ratings['PLAYERS'] = player_list\n",
    "    df_ratings['RATING'] = rating\n",
    "    df_ratings = df_ratings.sort_values(by = 'RATING', ascending = False)\n",
    "\n",
    "    return (df_ratings)"
   ]
  },
  {
   "cell_type": "code",
   "execution_count": 11,
   "metadata": {},
   "outputs": [
    {
     "data": {
      "text/html": [
       "<div>\n",
       "<style scoped>\n",
       "    .dataframe tbody tr th:only-of-type {\n",
       "        vertical-align: middle;\n",
       "    }\n",
       "\n",
       "    .dataframe tbody tr th {\n",
       "        vertical-align: top;\n",
       "    }\n",
       "\n",
       "    .dataframe thead th {\n",
       "        text-align: right;\n",
       "    }\n",
       "</style>\n",
       "<table border=\"1\" class=\"dataframe\">\n",
       "  <thead>\n",
       "    <tr style=\"text-align: right;\">\n",
       "      <th></th>\n",
       "    </tr>\n",
       "  </thead>\n",
       "  <tbody>\n",
       "  </tbody>\n",
       "</table>\n",
       "</div>"
      ],
      "text/plain": [
       "Empty DataFrame\n",
       "Columns: []\n",
       "Index: []"
      ]
     },
     "execution_count": 11,
     "metadata": {},
     "output_type": "execute_result"
    }
   ],
   "source": []
  },
  {
   "cell_type": "markdown",
   "metadata": {},
   "source": [
    "### Rankings for all events"
   ]
  },
  {
   "cell_type": "code",
   "execution_count": 24,
   "metadata": {},
   "outputs": [],
   "source": [
    "#Create dictionary and event dataframes sorted by date\n",
    "MS_dict, WS_dict, MD_dict, WD_dict, XD_dict = {},{},{},{},{}\n",
    "\n",
    "#Create the dataframes for each event\n",
    "df_MS = df[df['EVENT'] == 'MS'].sort_values(by = 'match_week')\n",
    "df_WS = df[df['EVENT'] == 'WS'].sort_values(by = 'match_week')\n",
    "df_MD = df[df['EVENT'] == 'MD'].sort_values(by = 'match_week')\n",
    "df_WD = df[df['EVENT'] == 'WD'].sort_values(by = 'match_week')\n",
    "df_XD = df[df['EVENT'] == 'XD'].sort_values(by = 'match_week')\n",
    "\n",
    "#Split players into winners and losers of a match\n",
    "df_MS['WINNER'] = df_MS['PLAYERS'].apply(lambda x: split_players(x,0,'s'))\n",
    "df_MS['LOSER'] = df_MS['PLAYERS'].apply(lambda x: split_players(x,1,'s'))\n",
    "df_WS['WINNER'] = df_WS['PLAYERS'].apply(lambda x: split_players(x,0,'s'))\n",
    "df_WS['LOSER'] = df_WS['PLAYERS'].apply(lambda x: split_players(x,1,'s'))\n",
    "df_MD['WINNER'] = df_MD['PLAYERS'].apply(lambda x: split_players(x,0,'d'))\n",
    "df_MD['LOSER'] = df_MD['PLAYERS'].apply(lambda x: split_players(x,1,'d'))\n",
    "df_WD['WINNER'] = df_WD['PLAYERS'].apply(lambda x: split_players(x,0,'d'))\n",
    "df_WD['LOSER'] = df_WD['PLAYERS'].apply(lambda x: split_players(x,1,'d'))\n",
    "df_XD['WINNER'] = df_XD['PLAYERS'].apply(lambda x: split_players(x,0,'d'))\n",
    "df_XD['LOSER'] = df_XD['PLAYERS'].apply(lambda x: split_players(x,1,'d'))"
   ]
  },
  {
   "cell_type": "code",
   "execution_count": 25,
   "metadata": {},
   "outputs": [
    {
     "name": "stderr",
     "output_type": "stream",
     "text": [
      "100%|█████████████████████████████████████████████████████████████████████████████| 3954/3954 [00:04<00:00, 878.47it/s]\n",
      "100%|█████████████████████████████████████████████████████████████████████████████| 2634/2634 [00:03<00:00, 817.00it/s]\n",
      "100%|█████████████████████████████████████████████████████████████████████████████| 2241/2241 [00:04<00:00, 490.05it/s]\n",
      "100%|█████████████████████████████████████████████████████████████████████████████| 1744/1744 [00:01<00:00, 879.89it/s]\n",
      "100%|█████████████████████████████████████████████████████████████████████████████| 2211/2211 [00:03<00:00, 628.48it/s]\n"
     ]
    }
   ],
   "source": [
    "#Initialize the Ranking dictionaries!\n",
    "MS_dict = create_TS_event_dict(df_MS)\n",
    "WS_dict = create_TS_event_dict(df_WS)\n",
    "MD_dict = create_TS_event_dict(df_MD)\n",
    "WD_dict = create_TS_event_dict(df_WD)\n",
    "XD_dict = create_TS_event_dict(df_XD)\n",
    "\n",
    "#Create the rankings\n",
    "MS_dict = update_TS_ratings(df_MS, MS_dict)\n",
    "WS_dict = update_TS_ratings(df_WS, WS_dict)\n",
    "MD_dict = update_TS_ratings(df_MD, MD_dict)\n",
    "WD_dict = update_TS_ratings(df_WD, WD_dict)\n",
    "XD_dict = update_TS_ratings(df_XD, XD_dict)"
   ]
  },
  {
   "cell_type": "code",
   "execution_count": 26,
   "metadata": {},
   "outputs": [
    {
     "data": {
      "text/html": [
       "<div>\n",
       "<style scoped>\n",
       "    .dataframe tbody tr th:only-of-type {\n",
       "        vertical-align: middle;\n",
       "    }\n",
       "\n",
       "    .dataframe tbody tr th {\n",
       "        vertical-align: top;\n",
       "    }\n",
       "\n",
       "    .dataframe thead th {\n",
       "        text-align: right;\n",
       "    }\n",
       "</style>\n",
       "<table border=\"1\" class=\"dataframe\">\n",
       "  <thead>\n",
       "    <tr style=\"text-align: right;\">\n",
       "      <th></th>\n",
       "      <th>PLAYERS</th>\n",
       "      <th>RATING</th>\n",
       "    </tr>\n",
       "  </thead>\n",
       "  <tbody>\n",
       "    <tr>\n",
       "      <th>227</th>\n",
       "      <td>Kento Momota</td>\n",
       "      <td>34.924070</td>\n",
       "    </tr>\n",
       "    <tr>\n",
       "      <th>738</th>\n",
       "      <td>Shi Yuqi</td>\n",
       "      <td>34.084487</td>\n",
       "    </tr>\n",
       "    <tr>\n",
       "      <th>1194</th>\n",
       "      <td>Chen Long</td>\n",
       "      <td>33.447897</td>\n",
       "    </tr>\n",
       "    <tr>\n",
       "      <th>1011</th>\n",
       "      <td>Kidambi Srikanth</td>\n",
       "      <td>33.295162</td>\n",
       "    </tr>\n",
       "    <tr>\n",
       "      <th>815</th>\n",
       "      <td>Chou Tien Chen</td>\n",
       "      <td>32.807698</td>\n",
       "    </tr>\n",
       "  </tbody>\n",
       "</table>\n",
       "</div>"
      ],
      "text/plain": [
       "               PLAYERS     RATING\n",
       "227       Kento Momota  34.924070\n",
       "738           Shi Yuqi  34.084487\n",
       "1194         Chen Long  33.447897\n",
       "1011  Kidambi Srikanth  33.295162\n",
       "815     Chou Tien Chen  32.807698"
      ]
     },
     "execution_count": 26,
     "metadata": {},
     "output_type": "execute_result"
    }
   ],
   "source": [
    "#Show rankings\n",
    "get_rankings(MS_dict).head()"
   ]
  },
  {
   "cell_type": "markdown",
   "metadata": {},
   "source": [
    "### How well does this predict?"
   ]
  },
  {
   "cell_type": "markdown",
   "metadata": {},
   "source": [
    "Can we predict winner?\n",
    "Can we predict close game?\n",
    "\n",
    "Let's take out the last 200 matches in MS and try to predict them"
   ]
  },
  {
   "cell_type": "code",
   "execution_count": 342,
   "metadata": {
    "collapsed": true
   },
   "outputs": [],
   "source": [
    "def make_TS_predictions(player,event_dict):\n",
    "    return (trueskill.expose(event_dict[player]))\n",
    "\n",
    "def correct_pred(row):\n",
    "    if row['WINNER RATING'] > row['LOSER RATING']:\n",
    "        return (1)\n",
    "    else:\n",
    "        return (0)"
   ]
  },
  {
   "cell_type": "code",
   "execution_count": 353,
   "metadata": {
    "collapsed": true
   },
   "outputs": [],
   "source": [
    "def test_TS_model(event):    \n",
    "    #Create dictionary and event dataframes sorted by date\n",
    "    event_dict = {}\n",
    "\n",
    "    #Create the dataframes for each event\n",
    "    event_df = df[df['EVENT'] == event].sort_values(by = 'match_week')\n",
    "\n",
    "    #Split players into winners and losers of a match\n",
    "    if event == 'MS' or event == 'WS':\n",
    "        event_df['WINNER'] = event_df['PLAYERS'].apply(lambda x: split_players(x,0,'s'))\n",
    "        event_df['LOSER'] = event_df['PLAYERS'].apply(lambda x: split_players(x,1,'s'))\n",
    "    else:\n",
    "        event_df['WINNER'] = event_df['PLAYERS'].apply(lambda x: split_players(x,0,'d'))\n",
    "        event_df['LOSER'] = event_df['PLAYERS'].apply(lambda x: split_players(x,1,'d'))\n",
    "    #Initialize the Ranking dictionary\n",
    "    event_dict = create_event_dict(event_df)\n",
    "\n",
    "    #split into test and training\n",
    "    df_train = event_df[:-100]\n",
    "    df_test = event_df[-100:]\n",
    "    event_dict = update_TS_ratings(df_train, event_dict)\n",
    "\n",
    "    df_test['WINNER RATING'] = df_test['WINNER'].apply(lambda x: make_TS_predictions(x,event_dict))\n",
    "    df_test['LOSER RATING'] = df_test['LOSER'].apply(lambda x: make_TS_predictions(x,event_dict))\n",
    "    df_test['Correct Prediction'] = df_test.apply(correct_pred,axis = 1)\n",
    "    return (df_test)"
   ]
  },
  {
   "cell_type": "code",
   "execution_count": 354,
   "metadata": {},
   "outputs": [
    {
     "name": "stderr",
     "output_type": "stream",
     "text": [
      "100%|██████████| 3806/3806 [00:02<00:00, 1517.64it/s]\n",
      "  6%|▋         | 161/2486 [00:00<00:01, 1605.11it/s]"
     ]
    },
    {
     "name": "stdout",
     "output_type": "stream",
     "text": [
      "MS prediction rate: 0.38\n"
     ]
    },
    {
     "name": "stderr",
     "output_type": "stream",
     "text": [
      "100%|██████████| 2486/2486 [00:01<00:00, 1556.98it/s]\n",
      "  0%|          | 0/2099 [00:00<?, ?it/s]"
     ]
    },
    {
     "name": "stdout",
     "output_type": "stream",
     "text": [
      "WS prediction rate: 0.61\n"
     ]
    },
    {
     "name": "stderr",
     "output_type": "stream",
     "text": [
      "100%|██████████| 2099/2099 [00:01<00:00, 1457.29it/s]\n",
      "  0%|          | 0/1612 [00:00<?, ?it/s]"
     ]
    },
    {
     "name": "stdout",
     "output_type": "stream",
     "text": [
      "MD prediction rate: 0.56\n"
     ]
    },
    {
     "name": "stderr",
     "output_type": "stream",
     "text": [
      "100%|██████████| 1612/1612 [00:01<00:00, 1538.99it/s]\n",
      "  0%|          | 0/2064 [00:00<?, ?it/s]"
     ]
    },
    {
     "name": "stdout",
     "output_type": "stream",
     "text": [
      "WD prediction rate: 0.6\n"
     ]
    },
    {
     "name": "stderr",
     "output_type": "stream",
     "text": [
      "100%|██████████| 2064/2064 [00:01<00:00, 1501.77it/s]"
     ]
    },
    {
     "name": "stdout",
     "output_type": "stream",
     "text": [
      "XD prediction rate: 0.54\n"
     ]
    },
    {
     "name": "stderr",
     "output_type": "stream",
     "text": [
      "\n"
     ]
    }
   ],
   "source": [
    "print ('MS prediction rate: ' + str(test_TS_model('MS')['Correct Prediction'].mean()))\n",
    "print ('WS prediction rate: ' + str(test_TS_model('WS')['Correct Prediction'].mean()))\n",
    "print ('MD prediction rate: ' + str(test_TS_model('MD')['Correct Prediction'].mean()))\n",
    "print ('WD prediction rate: ' + str(test_TS_model('WD')['Correct Prediction'].mean()))\n",
    "print ('XD prediction rate: ' + str(test_TS_model('XD')['Correct Prediction'].mean()))"
   ]
  },
  {
   "cell_type": "markdown",
   "metadata": {},
   "source": [
    "# Rolling trueskill rating"
   ]
  },
  {
   "cell_type": "code",
   "execution_count": 27,
   "metadata": {},
   "outputs": [],
   "source": [
    "\n",
    "\n",
    "event_dict = {}\n",
    "event_df = df[df['EVENT'] == 'MS'].sort_values(by='match_week')"
   ]
  },
  {
   "cell_type": "code",
   "execution_count": 30,
   "metadata": {},
   "outputs": [
    {
     "data": {
      "text/plain": [
       "20170926.0"
      ]
     },
     "execution_count": 30,
     "metadata": {},
     "output_type": "execute_result"
    }
   ],
   "source": [
    "event_df['match_week'].median()"
   ]
  },
  {
   "cell_type": "code",
   "execution_count": null,
   "metadata": {},
   "outputs": [],
   "source": []
  },
  {
   "cell_type": "markdown",
   "metadata": {},
   "source": [
    "Looks like WS is the only event I'm willing to bet on! And I might not even do that!!"
   ]
  },
  {
   "cell_type": "markdown",
   "metadata": {},
   "source": [
    "# Try Elo ratings"
   ]
  },
  {
   "cell_type": "code",
   "execution_count": 311,
   "metadata": {
    "collapsed": true
   },
   "outputs": [],
   "source": [
    "import elo as elo\n",
    "#Everyone starts at 0"
   ]
  },
  {
   "cell_type": "code",
   "execution_count": 319,
   "metadata": {
    "collapsed": true
   },
   "outputs": [],
   "source": [
    "#This function will create a dictionary with ELO ranking = 0 for each player\n",
    "def create_ELO_event_dict(df):\n",
    "    temp_dict = {}\n",
    "    temp_set = set()\n",
    "    for player in df['WINNER'].values:\n",
    "        temp_set.add(player)\n",
    "    for player in df['LOSER'].values:\n",
    "        temp_set.add(player)\n",
    "    \n",
    "    for player in temp_set:\n",
    "        temp_dict[player] = 0\n",
    "    return (temp_dict)"
   ]
  },
  {
   "cell_type": "code",
   "execution_count": 326,
   "metadata": {
    "collapsed": true
   },
   "outputs": [],
   "source": [
    "#This function will update rankings in dictionary based on match dataframe\n",
    "def update_ELO_ratings(event_df, event_dict):\n",
    "    for i in tqdm(range(len(event_df))):\n",
    "        winner = event_df.iloc[i]['WINNER']\n",
    "        loser = event_df.iloc[i]['LOSER']\n",
    "        event_dict[winner], event_dict[loser] = elo.rate_1vs1(event_dict[winner],event_dict[loser])\n",
    "    return (event_dict)"
   ]
  },
  {
   "cell_type": "code",
   "execution_count": 327,
   "metadata": {},
   "outputs": [
    {
     "name": "stderr",
     "output_type": "stream",
     "text": [
      "100%|██████████| 3906/3906 [00:01<00:00, 3681.06it/s]\n",
      "100%|██████████| 2586/2586 [00:00<00:00, 3600.60it/s]\n",
      "100%|██████████| 2199/2199 [00:00<00:00, 3484.04it/s]\n",
      "100%|██████████| 1712/1712 [00:00<00:00, 3477.64it/s]\n",
      "100%|██████████| 2164/2164 [00:00<00:00, 3606.43it/s]\n"
     ]
    }
   ],
   "source": [
    "#Initialize the Ranking dictionaries!\n",
    "MS_dict = create_ELO_event_dict(df_MS)\n",
    "WS_dict = create_ELO_event_dict(df_WS)\n",
    "MD_dict = create_ELO_event_dict(df_MD)\n",
    "WD_dict = create_ELO_event_dict(df_WD)\n",
    "XD_dict = create_ELO_event_dict(df_XD)\n",
    "\n",
    "#Create the rankings\n",
    "MS_dict = update_ELO_ratings(df_MS, MS_dict)\n",
    "WS_dict = update_ELO_ratings(df_WS, WS_dict)\n",
    "MD_dict = update_ELO_ratings(df_MD, MD_dict)\n",
    "WD_dict = update_ELO_ratings(df_WD, WD_dict)\n",
    "XD_dict = update_ELO_ratings(df_XD, XD_dict)"
   ]
  },
  {
   "cell_type": "code",
   "execution_count": 330,
   "metadata": {
    "collapsed": true
   },
   "outputs": [],
   "source": [
    "def get_elo_rankings(event_dict):\n",
    "    names = []\n",
    "    rating = []\n",
    "    for name in event_dict:\n",
    "        names.append(name)\n",
    "        rating.append(event_dict[name])\n",
    "    temp_df = pd.DataFrame()\n",
    "    temp_df['Name'] = names\n",
    "    temp_df['Rating'] = rating\n",
    "    return (temp_df.sort_values(by = 'Rating', ascending = False))"
   ]
  },
  {
   "cell_type": "code",
   "execution_count": 339,
   "metadata": {
    "scrolled": true
   },
   "outputs": [
    {
     "data": {
      "text/html": [
       "<div>\n",
       "<style>\n",
       "    .dataframe thead tr:only-child th {\n",
       "        text-align: right;\n",
       "    }\n",
       "\n",
       "    .dataframe thead th {\n",
       "        text-align: left;\n",
       "    }\n",
       "\n",
       "    .dataframe tbody tr th {\n",
       "        vertical-align: top;\n",
       "    }\n",
       "</style>\n",
       "<table border=\"1\" class=\"dataframe\">\n",
       "  <thead>\n",
       "    <tr style=\"text-align: right;\">\n",
       "      <th></th>\n",
       "      <th>Name</th>\n",
       "      <th>Rating</th>\n",
       "    </tr>\n",
       "  </thead>\n",
       "  <tbody>\n",
       "    <tr>\n",
       "      <th>269</th>\n",
       "      <td>Lu Ching Yao,Yang Po Han</td>\n",
       "      <td>85.845531</td>\n",
       "    </tr>\n",
       "    <tr>\n",
       "      <th>19</th>\n",
       "      <td>Liu Cheng,Zhang Nan</td>\n",
       "      <td>77.731795</td>\n",
       "    </tr>\n",
       "    <tr>\n",
       "      <th>387</th>\n",
       "      <td>Li Junhui,Liu Yuchen</td>\n",
       "      <td>76.450373</td>\n",
       "    </tr>\n",
       "    <tr>\n",
       "      <th>443</th>\n",
       "      <td>Fajar Alfian,Muhammad Rian Ardianto</td>\n",
       "      <td>73.776528</td>\n",
       "    </tr>\n",
       "    <tr>\n",
       "      <th>1063</th>\n",
       "      <td>Carsten Mogensen,Mathias Boe</td>\n",
       "      <td>70.115577</td>\n",
       "    </tr>\n",
       "  </tbody>\n",
       "</table>\n",
       "</div>"
      ],
      "text/plain": [
       "                                     Name     Rating\n",
       "269              Lu Ching Yao,Yang Po Han  85.845531\n",
       "19                    Liu Cheng,Zhang Nan  77.731795\n",
       "387                  Li Junhui,Liu Yuchen  76.450373\n",
       "443   Fajar Alfian,Muhammad Rian Ardianto  73.776528\n",
       "1063         Carsten Mogensen,Mathias Boe  70.115577"
      ]
     },
     "execution_count": 339,
     "metadata": {},
     "output_type": "execute_result"
    }
   ],
   "source": [
    "get_elo_rankings(MD_dict).head()"
   ]
  },
  {
   "cell_type": "code",
   "execution_count": 343,
   "metadata": {
    "collapsed": true
   },
   "outputs": [],
   "source": [
    "def make_ELO_predictions(player,event_dict):\n",
    "    return (event_dict[player])"
   ]
  },
  {
   "cell_type": "code",
   "execution_count": 344,
   "metadata": {
    "collapsed": true
   },
   "outputs": [],
   "source": [
    "def test_ELO_model(event):    \n",
    "    #Create dictionary and event dataframes sorted by date\n",
    "    event_dict = {}\n",
    "\n",
    "    #Create the dataframes for each event\n",
    "    event_df = df[df['EVENT'] == event].sort_values(by = 'match_week')\n",
    "\n",
    "    #Split players into winners and losers of a match\n",
    "    if event == 'MS' or event == 'WS':\n",
    "        event_df['WINNER'] = event_df['PLAYERS'].apply(lambda x: split_players(x,0,'s'))\n",
    "        event_df['LOSER'] = event_df['PLAYERS'].apply(lambda x: split_players(x,1,'s'))\n",
    "    else:\n",
    "        event_df['WINNER'] = event_df['PLAYERS'].apply(lambda x: split_players(x,0,'d'))\n",
    "        event_df['LOSER'] = event_df['PLAYERS'].apply(lambda x: split_players(x,1,'d'))\n",
    "    #Initialize the Ranking dictionary\n",
    "    event_dict = create_ELO_event_dict(event_df)\n",
    "\n",
    "    #split into test and training\n",
    "    df_train = event_df[:-100]\n",
    "    df_test = event_df[-100:]\n",
    "    event_dict = update_ELO_ratings(df_train, event_dict)\n",
    "\n",
    "    df_test['WINNER RATING'] = df_test['WINNER'].apply(lambda x: make_ELO_predictions(x,event_dict))\n",
    "    df_test['LOSER RATING'] = df_test['LOSER'].apply(lambda x: make_ELO_predictions(x,event_dict))\n",
    "    df_test['Correct Prediction'] = df_test.apply(correct_pred,axis = 1)\n",
    "    return (df_test)"
   ]
  },
  {
   "cell_type": "code",
   "execution_count": 352,
   "metadata": {},
   "outputs": [
    {
     "name": "stderr",
     "output_type": "stream",
     "text": [
      "100%|██████████| 3806/3806 [00:00<00:00, 4575.96it/s]\n",
      " 16%|█▋        | 404/2486 [00:00<00:00, 4035.19it/s]"
     ]
    },
    {
     "name": "stdout",
     "output_type": "stream",
     "text": [
      "MS prediction rate: 0.49\n"
     ]
    },
    {
     "name": "stderr",
     "output_type": "stream",
     "text": [
      "100%|██████████| 2486/2486 [00:00<00:00, 4262.26it/s]\n",
      "  0%|          | 0/2099 [00:00<?, ?it/s]"
     ]
    },
    {
     "name": "stdout",
     "output_type": "stream",
     "text": [
      "WS prediction rate: 0.54\n"
     ]
    },
    {
     "name": "stderr",
     "output_type": "stream",
     "text": [
      "100%|██████████| 2099/2099 [00:00<00:00, 4152.17it/s]\n",
      "  0%|          | 0/1612 [00:00<?, ?it/s]"
     ]
    },
    {
     "name": "stdout",
     "output_type": "stream",
     "text": [
      "MD prediction rate: 0.48\n"
     ]
    },
    {
     "name": "stderr",
     "output_type": "stream",
     "text": [
      "100%|██████████| 1612/1612 [00:00<00:00, 4114.87it/s]\n",
      "  0%|          | 0/2064 [00:00<?, ?it/s]"
     ]
    },
    {
     "name": "stdout",
     "output_type": "stream",
     "text": [
      "WD prediction rate: 0.59\n"
     ]
    },
    {
     "name": "stderr",
     "output_type": "stream",
     "text": [
      "100%|██████████| 2064/2064 [00:00<00:00, 4339.86it/s]"
     ]
    },
    {
     "name": "stdout",
     "output_type": "stream",
     "text": [
      "XD prediction rate: 0.53\n"
     ]
    },
    {
     "name": "stderr",
     "output_type": "stream",
     "text": [
      "\n"
     ]
    }
   ],
   "source": [
    "print ('MS prediction rate: ' + str(test_ELO_model('MS')['Correct Prediction'].mean()))\n",
    "print ('WS prediction rate: ' + str(test_ELO_model('WS')['Correct Prediction'].mean()))\n",
    "print ('MD prediction rate: ' + str(test_ELO_model('MD')['Correct Prediction'].mean()))\n",
    "print ('WD prediction rate: ' + str(test_ELO_model('WD')['Correct Prediction'].mean()))\n",
    "print ('XD prediction rate: ' + str(test_ELO_model('XD')['Correct Prediction'].mean()))"
   ]
  },
  {
   "cell_type": "code",
   "execution_count": null,
   "metadata": {
    "collapsed": true
   },
   "outputs": [],
   "source": []
  },
  {
   "cell_type": "code",
   "execution_count": null,
   "metadata": {
    "collapsed": true
   },
   "outputs": [],
   "source": []
  },
  {
   "cell_type": "code",
   "execution_count": null,
   "metadata": {
    "collapsed": true
   },
   "outputs": [],
   "source": []
  },
  {
   "cell_type": "code",
   "execution_count": null,
   "metadata": {
    "collapsed": true
   },
   "outputs": [],
   "source": []
  },
  {
   "cell_type": "code",
   "execution_count": null,
   "metadata": {
    "collapsed": true
   },
   "outputs": [],
   "source": []
  }
 ],
 "metadata": {
  "kernelspec": {
   "display_name": "Python 3",
   "language": "python",
   "name": "python3"
  },
  "language_info": {
   "codemirror_mode": {
    "name": "ipython",
    "version": 3
   },
   "file_extension": ".py",
   "mimetype": "text/x-python",
   "name": "python",
   "nbconvert_exporter": "python",
   "pygments_lexer": "ipython3",
   "version": "3.6.4"
  }
 },
 "nbformat": 4,
 "nbformat_minor": 2
}
